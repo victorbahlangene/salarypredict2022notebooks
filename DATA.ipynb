{
 "cells": [
  {
   "cell_type": "markdown",
   "id": "16c14c33",
   "metadata": {},
   "source": [
    "# DATA"
   ]
  },
  {
   "cell_type": "code",
   "execution_count": 1,
   "id": "09e0e4fa",
   "metadata": {},
   "outputs": [],
   "source": [
    "import numpy as np\n",
    "import pandas as pd"
   ]
  },
  {
   "cell_type": "code",
   "execution_count": 2,
   "id": "39dee11b",
   "metadata": {},
   "outputs": [],
   "source": [
    "#!pip install seaborn"
   ]
  },
  {
   "cell_type": "code",
   "execution_count": 3,
   "id": "ad9d1f87",
   "metadata": {},
   "outputs": [],
   "source": [
    "import seaborn as sns\n",
    "import matplotlib.pyplot as plt\n",
    "%matplotlib inline"
   ]
  },
  {
   "cell_type": "code",
   "execution_count": 4,
   "id": "75ff39cc",
   "metadata": {},
   "outputs": [],
   "source": [
    "salaries = pd.read_csv(\"survey_results_public.csv\",low_memory=False)"
   ]
  },
  {
   "cell_type": "code",
   "execution_count": 5,
   "id": "f81cd178",
   "metadata": {},
   "outputs": [
    {
     "data": {
      "text/html": [
       "<div>\n",
       "<style scoped>\n",
       "    .dataframe tbody tr th:only-of-type {\n",
       "        vertical-align: middle;\n",
       "    }\n",
       "\n",
       "    .dataframe tbody tr th {\n",
       "        vertical-align: top;\n",
       "    }\n",
       "\n",
       "    .dataframe thead th {\n",
       "        text-align: right;\n",
       "    }\n",
       "</style>\n",
       "<table border=\"1\" class=\"dataframe\">\n",
       "  <thead>\n",
       "    <tr style=\"text-align: right;\">\n",
       "      <th></th>\n",
       "      <th>Respondent</th>\n",
       "      <th>Hobby</th>\n",
       "      <th>OpenSource</th>\n",
       "      <th>Country</th>\n",
       "      <th>Student</th>\n",
       "      <th>Employment</th>\n",
       "      <th>FormalEducation</th>\n",
       "      <th>UndergradMajor</th>\n",
       "      <th>CompanySize</th>\n",
       "      <th>DevType</th>\n",
       "      <th>...</th>\n",
       "      <th>Exercise</th>\n",
       "      <th>Gender</th>\n",
       "      <th>SexualOrientation</th>\n",
       "      <th>EducationParents</th>\n",
       "      <th>RaceEthnicity</th>\n",
       "      <th>Age</th>\n",
       "      <th>Dependents</th>\n",
       "      <th>MilitaryUS</th>\n",
       "      <th>SurveyTooLong</th>\n",
       "      <th>SurveyEasy</th>\n",
       "    </tr>\n",
       "  </thead>\n",
       "  <tbody>\n",
       "    <tr>\n",
       "      <th>0</th>\n",
       "      <td>1</td>\n",
       "      <td>Yes</td>\n",
       "      <td>No</td>\n",
       "      <td>Kenya</td>\n",
       "      <td>No</td>\n",
       "      <td>Employed part-time</td>\n",
       "      <td>Bachelor’s degree (BA, BS, B.Eng., etc.)</td>\n",
       "      <td>Mathematics or statistics</td>\n",
       "      <td>20 to 99 employees</td>\n",
       "      <td>Full-stack developer</td>\n",
       "      <td>...</td>\n",
       "      <td>3 - 4 times per week</td>\n",
       "      <td>Male</td>\n",
       "      <td>Straight or heterosexual</td>\n",
       "      <td>Bachelor’s degree (BA, BS, B.Eng., etc.)</td>\n",
       "      <td>Black or of African descent</td>\n",
       "      <td>25 - 34 years old</td>\n",
       "      <td>Yes</td>\n",
       "      <td>NaN</td>\n",
       "      <td>The survey was an appropriate length</td>\n",
       "      <td>Very easy</td>\n",
       "    </tr>\n",
       "    <tr>\n",
       "      <th>1</th>\n",
       "      <td>3</td>\n",
       "      <td>Yes</td>\n",
       "      <td>Yes</td>\n",
       "      <td>United Kingdom</td>\n",
       "      <td>No</td>\n",
       "      <td>Employed full-time</td>\n",
       "      <td>Bachelor’s degree (BA, BS, B.Eng., etc.)</td>\n",
       "      <td>A natural science (ex. biology, chemistry, phy...</td>\n",
       "      <td>10,000 or more employees</td>\n",
       "      <td>Database administrator;DevOps specialist;Full-...</td>\n",
       "      <td>...</td>\n",
       "      <td>Daily or almost every day</td>\n",
       "      <td>Male</td>\n",
       "      <td>Straight or heterosexual</td>\n",
       "      <td>Bachelor’s degree (BA, BS, B.Eng., etc.)</td>\n",
       "      <td>White or of European descent</td>\n",
       "      <td>35 - 44 years old</td>\n",
       "      <td>Yes</td>\n",
       "      <td>NaN</td>\n",
       "      <td>The survey was an appropriate length</td>\n",
       "      <td>Somewhat easy</td>\n",
       "    </tr>\n",
       "    <tr>\n",
       "      <th>2</th>\n",
       "      <td>4</td>\n",
       "      <td>Yes</td>\n",
       "      <td>Yes</td>\n",
       "      <td>United States</td>\n",
       "      <td>No</td>\n",
       "      <td>Employed full-time</td>\n",
       "      <td>Associate degree</td>\n",
       "      <td>Computer science, computer engineering, or sof...</td>\n",
       "      <td>20 to 99 employees</td>\n",
       "      <td>Engineering manager;Full-stack developer</td>\n",
       "      <td>...</td>\n",
       "      <td>NaN</td>\n",
       "      <td>NaN</td>\n",
       "      <td>NaN</td>\n",
       "      <td>NaN</td>\n",
       "      <td>NaN</td>\n",
       "      <td>NaN</td>\n",
       "      <td>NaN</td>\n",
       "      <td>NaN</td>\n",
       "      <td>NaN</td>\n",
       "      <td>NaN</td>\n",
       "    </tr>\n",
       "    <tr>\n",
       "      <th>3</th>\n",
       "      <td>5</td>\n",
       "      <td>No</td>\n",
       "      <td>No</td>\n",
       "      <td>United States</td>\n",
       "      <td>No</td>\n",
       "      <td>Employed full-time</td>\n",
       "      <td>Bachelor’s degree (BA, BS, B.Eng., etc.)</td>\n",
       "      <td>Computer science, computer engineering, or sof...</td>\n",
       "      <td>100 to 499 employees</td>\n",
       "      <td>Full-stack developer</td>\n",
       "      <td>...</td>\n",
       "      <td>I don't typically exercise</td>\n",
       "      <td>Male</td>\n",
       "      <td>Straight or heterosexual</td>\n",
       "      <td>Some college/university study without earning ...</td>\n",
       "      <td>White or of European descent</td>\n",
       "      <td>35 - 44 years old</td>\n",
       "      <td>No</td>\n",
       "      <td>No</td>\n",
       "      <td>The survey was an appropriate length</td>\n",
       "      <td>Somewhat easy</td>\n",
       "    </tr>\n",
       "    <tr>\n",
       "      <th>4</th>\n",
       "      <td>7</td>\n",
       "      <td>Yes</td>\n",
       "      <td>No</td>\n",
       "      <td>South Africa</td>\n",
       "      <td>Yes, part-time</td>\n",
       "      <td>Employed full-time</td>\n",
       "      <td>Some college/university study without earning ...</td>\n",
       "      <td>Computer science, computer engineering, or sof...</td>\n",
       "      <td>10,000 or more employees</td>\n",
       "      <td>Data or business analyst;Desktop or enterprise...</td>\n",
       "      <td>...</td>\n",
       "      <td>3 - 4 times per week</td>\n",
       "      <td>Male</td>\n",
       "      <td>Straight or heterosexual</td>\n",
       "      <td>Some college/university study without earning ...</td>\n",
       "      <td>White or of European descent</td>\n",
       "      <td>18 - 24 years old</td>\n",
       "      <td>Yes</td>\n",
       "      <td>NaN</td>\n",
       "      <td>The survey was an appropriate length</td>\n",
       "      <td>Somewhat easy</td>\n",
       "    </tr>\n",
       "  </tbody>\n",
       "</table>\n",
       "<p>5 rows × 129 columns</p>\n",
       "</div>"
      ],
      "text/plain": [
       "   Respondent Hobby OpenSource         Country         Student  \\\n",
       "0           1   Yes         No           Kenya              No   \n",
       "1           3   Yes        Yes  United Kingdom              No   \n",
       "2           4   Yes        Yes   United States              No   \n",
       "3           5    No         No   United States              No   \n",
       "4           7   Yes         No    South Africa  Yes, part-time   \n",
       "\n",
       "           Employment                                    FormalEducation  \\\n",
       "0  Employed part-time           Bachelor’s degree (BA, BS, B.Eng., etc.)   \n",
       "1  Employed full-time           Bachelor’s degree (BA, BS, B.Eng., etc.)   \n",
       "2  Employed full-time                                   Associate degree   \n",
       "3  Employed full-time           Bachelor’s degree (BA, BS, B.Eng., etc.)   \n",
       "4  Employed full-time  Some college/university study without earning ...   \n",
       "\n",
       "                                      UndergradMajor  \\\n",
       "0                          Mathematics or statistics   \n",
       "1  A natural science (ex. biology, chemistry, phy...   \n",
       "2  Computer science, computer engineering, or sof...   \n",
       "3  Computer science, computer engineering, or sof...   \n",
       "4  Computer science, computer engineering, or sof...   \n",
       "\n",
       "                CompanySize  \\\n",
       "0        20 to 99 employees   \n",
       "1  10,000 or more employees   \n",
       "2        20 to 99 employees   \n",
       "3      100 to 499 employees   \n",
       "4  10,000 or more employees   \n",
       "\n",
       "                                             DevType  ...  \\\n",
       "0                               Full-stack developer  ...   \n",
       "1  Database administrator;DevOps specialist;Full-...  ...   \n",
       "2           Engineering manager;Full-stack developer  ...   \n",
       "3                               Full-stack developer  ...   \n",
       "4  Data or business analyst;Desktop or enterprise...  ...   \n",
       "\n",
       "                     Exercise Gender         SexualOrientation  \\\n",
       "0        3 - 4 times per week   Male  Straight or heterosexual   \n",
       "1   Daily or almost every day   Male  Straight or heterosexual   \n",
       "2                         NaN    NaN                       NaN   \n",
       "3  I don't typically exercise   Male  Straight or heterosexual   \n",
       "4        3 - 4 times per week   Male  Straight or heterosexual   \n",
       "\n",
       "                                    EducationParents  \\\n",
       "0           Bachelor’s degree (BA, BS, B.Eng., etc.)   \n",
       "1           Bachelor’s degree (BA, BS, B.Eng., etc.)   \n",
       "2                                                NaN   \n",
       "3  Some college/university study without earning ...   \n",
       "4  Some college/university study without earning ...   \n",
       "\n",
       "                  RaceEthnicity                Age Dependents  MilitaryUS  \\\n",
       "0   Black or of African descent  25 - 34 years old        Yes         NaN   \n",
       "1  White or of European descent  35 - 44 years old        Yes         NaN   \n",
       "2                           NaN                NaN        NaN         NaN   \n",
       "3  White or of European descent  35 - 44 years old         No          No   \n",
       "4  White or of European descent  18 - 24 years old        Yes         NaN   \n",
       "\n",
       "                          SurveyTooLong     SurveyEasy  \n",
       "0  The survey was an appropriate length      Very easy  \n",
       "1  The survey was an appropriate length  Somewhat easy  \n",
       "2                                   NaN            NaN  \n",
       "3  The survey was an appropriate length  Somewhat easy  \n",
       "4  The survey was an appropriate length  Somewhat easy  \n",
       "\n",
       "[5 rows x 129 columns]"
      ]
     },
     "execution_count": 5,
     "metadata": {},
     "output_type": "execute_result"
    }
   ],
   "source": [
    "salaries.head()"
   ]
  },
  {
   "cell_type": "code",
   "execution_count": 6,
   "id": "7100c35c",
   "metadata": {},
   "outputs": [
    {
     "name": "stdout",
     "output_type": "stream",
     "text": [
      "<class 'pandas.core.frame.DataFrame'>\n",
      "RangeIndex: 98855 entries, 0 to 98854\n",
      "Columns: 129 entries, Respondent to SurveyEasy\n",
      "dtypes: float64(41), int64(1), object(87)\n",
      "memory usage: 97.3+ MB\n"
     ]
    }
   ],
   "source": [
    "salaries.info()"
   ]
  },
  {
   "cell_type": "code",
   "execution_count": 7,
   "id": "32937a8c",
   "metadata": {},
   "outputs": [
    {
     "data": {
      "text/html": [
       "<div>\n",
       "<style scoped>\n",
       "    .dataframe tbody tr th:only-of-type {\n",
       "        vertical-align: middle;\n",
       "    }\n",
       "\n",
       "    .dataframe tbody tr th {\n",
       "        vertical-align: top;\n",
       "    }\n",
       "\n",
       "    .dataframe thead th {\n",
       "        text-align: right;\n",
       "    }\n",
       "</style>\n",
       "<table border=\"1\" class=\"dataframe\">\n",
       "  <thead>\n",
       "    <tr style=\"text-align: right;\">\n",
       "      <th></th>\n",
       "      <th>Respondent</th>\n",
       "      <th>Hobby</th>\n",
       "      <th>OpenSource</th>\n",
       "      <th>Country</th>\n",
       "      <th>Student</th>\n",
       "      <th>Employment</th>\n",
       "      <th>FormalEducation</th>\n",
       "      <th>UndergradMajor</th>\n",
       "      <th>CompanySize</th>\n",
       "      <th>DevType</th>\n",
       "      <th>...</th>\n",
       "      <th>Exercise</th>\n",
       "      <th>Gender</th>\n",
       "      <th>SexualOrientation</th>\n",
       "      <th>EducationParents</th>\n",
       "      <th>RaceEthnicity</th>\n",
       "      <th>Age</th>\n",
       "      <th>Dependents</th>\n",
       "      <th>MilitaryUS</th>\n",
       "      <th>SurveyTooLong</th>\n",
       "      <th>SurveyEasy</th>\n",
       "    </tr>\n",
       "  </thead>\n",
       "  <tbody>\n",
       "    <tr>\n",
       "      <th>0</th>\n",
       "      <td>1</td>\n",
       "      <td>Yes</td>\n",
       "      <td>No</td>\n",
       "      <td>Kenya</td>\n",
       "      <td>No</td>\n",
       "      <td>Employed part-time</td>\n",
       "      <td>Bachelor’s degree (BA, BS, B.Eng., etc.)</td>\n",
       "      <td>Mathematics or statistics</td>\n",
       "      <td>20 to 99 employees</td>\n",
       "      <td>Full-stack developer</td>\n",
       "      <td>...</td>\n",
       "      <td>3 - 4 times per week</td>\n",
       "      <td>Male</td>\n",
       "      <td>Straight or heterosexual</td>\n",
       "      <td>Bachelor’s degree (BA, BS, B.Eng., etc.)</td>\n",
       "      <td>Black or of African descent</td>\n",
       "      <td>25 - 34 years old</td>\n",
       "      <td>Yes</td>\n",
       "      <td>NaN</td>\n",
       "      <td>The survey was an appropriate length</td>\n",
       "      <td>Very easy</td>\n",
       "    </tr>\n",
       "    <tr>\n",
       "      <th>1</th>\n",
       "      <td>3</td>\n",
       "      <td>Yes</td>\n",
       "      <td>Yes</td>\n",
       "      <td>United Kingdom</td>\n",
       "      <td>No</td>\n",
       "      <td>Employed full-time</td>\n",
       "      <td>Bachelor’s degree (BA, BS, B.Eng., etc.)</td>\n",
       "      <td>A natural science (ex. biology, chemistry, phy...</td>\n",
       "      <td>10,000 or more employees</td>\n",
       "      <td>Database administrator;DevOps specialist;Full-...</td>\n",
       "      <td>...</td>\n",
       "      <td>Daily or almost every day</td>\n",
       "      <td>Male</td>\n",
       "      <td>Straight or heterosexual</td>\n",
       "      <td>Bachelor’s degree (BA, BS, B.Eng., etc.)</td>\n",
       "      <td>White or of European descent</td>\n",
       "      <td>35 - 44 years old</td>\n",
       "      <td>Yes</td>\n",
       "      <td>NaN</td>\n",
       "      <td>The survey was an appropriate length</td>\n",
       "      <td>Somewhat easy</td>\n",
       "    </tr>\n",
       "    <tr>\n",
       "      <th>2</th>\n",
       "      <td>4</td>\n",
       "      <td>Yes</td>\n",
       "      <td>Yes</td>\n",
       "      <td>United States</td>\n",
       "      <td>No</td>\n",
       "      <td>Employed full-time</td>\n",
       "      <td>Associate degree</td>\n",
       "      <td>Computer science, computer engineering, or sof...</td>\n",
       "      <td>20 to 99 employees</td>\n",
       "      <td>Engineering manager;Full-stack developer</td>\n",
       "      <td>...</td>\n",
       "      <td>NaN</td>\n",
       "      <td>NaN</td>\n",
       "      <td>NaN</td>\n",
       "      <td>NaN</td>\n",
       "      <td>NaN</td>\n",
       "      <td>NaN</td>\n",
       "      <td>NaN</td>\n",
       "      <td>NaN</td>\n",
       "      <td>NaN</td>\n",
       "      <td>NaN</td>\n",
       "    </tr>\n",
       "    <tr>\n",
       "      <th>3</th>\n",
       "      <td>5</td>\n",
       "      <td>No</td>\n",
       "      <td>No</td>\n",
       "      <td>United States</td>\n",
       "      <td>No</td>\n",
       "      <td>Employed full-time</td>\n",
       "      <td>Bachelor’s degree (BA, BS, B.Eng., etc.)</td>\n",
       "      <td>Computer science, computer engineering, or sof...</td>\n",
       "      <td>100 to 499 employees</td>\n",
       "      <td>Full-stack developer</td>\n",
       "      <td>...</td>\n",
       "      <td>I don't typically exercise</td>\n",
       "      <td>Male</td>\n",
       "      <td>Straight or heterosexual</td>\n",
       "      <td>Some college/university study without earning ...</td>\n",
       "      <td>White or of European descent</td>\n",
       "      <td>35 - 44 years old</td>\n",
       "      <td>No</td>\n",
       "      <td>No</td>\n",
       "      <td>The survey was an appropriate length</td>\n",
       "      <td>Somewhat easy</td>\n",
       "    </tr>\n",
       "    <tr>\n",
       "      <th>4</th>\n",
       "      <td>7</td>\n",
       "      <td>Yes</td>\n",
       "      <td>No</td>\n",
       "      <td>South Africa</td>\n",
       "      <td>Yes, part-time</td>\n",
       "      <td>Employed full-time</td>\n",
       "      <td>Some college/university study without earning ...</td>\n",
       "      <td>Computer science, computer engineering, or sof...</td>\n",
       "      <td>10,000 or more employees</td>\n",
       "      <td>Data or business analyst;Desktop or enterprise...</td>\n",
       "      <td>...</td>\n",
       "      <td>3 - 4 times per week</td>\n",
       "      <td>Male</td>\n",
       "      <td>Straight or heterosexual</td>\n",
       "      <td>Some college/university study without earning ...</td>\n",
       "      <td>White or of European descent</td>\n",
       "      <td>18 - 24 years old</td>\n",
       "      <td>Yes</td>\n",
       "      <td>NaN</td>\n",
       "      <td>The survey was an appropriate length</td>\n",
       "      <td>Somewhat easy</td>\n",
       "    </tr>\n",
       "  </tbody>\n",
       "</table>\n",
       "<p>5 rows × 129 columns</p>\n",
       "</div>"
      ],
      "text/plain": [
       "   Respondent Hobby OpenSource         Country         Student  \\\n",
       "0           1   Yes         No           Kenya              No   \n",
       "1           3   Yes        Yes  United Kingdom              No   \n",
       "2           4   Yes        Yes   United States              No   \n",
       "3           5    No         No   United States              No   \n",
       "4           7   Yes         No    South Africa  Yes, part-time   \n",
       "\n",
       "           Employment                                    FormalEducation  \\\n",
       "0  Employed part-time           Bachelor’s degree (BA, BS, B.Eng., etc.)   \n",
       "1  Employed full-time           Bachelor’s degree (BA, BS, B.Eng., etc.)   \n",
       "2  Employed full-time                                   Associate degree   \n",
       "3  Employed full-time           Bachelor’s degree (BA, BS, B.Eng., etc.)   \n",
       "4  Employed full-time  Some college/university study without earning ...   \n",
       "\n",
       "                                      UndergradMajor  \\\n",
       "0                          Mathematics or statistics   \n",
       "1  A natural science (ex. biology, chemistry, phy...   \n",
       "2  Computer science, computer engineering, or sof...   \n",
       "3  Computer science, computer engineering, or sof...   \n",
       "4  Computer science, computer engineering, or sof...   \n",
       "\n",
       "                CompanySize  \\\n",
       "0        20 to 99 employees   \n",
       "1  10,000 or more employees   \n",
       "2        20 to 99 employees   \n",
       "3      100 to 499 employees   \n",
       "4  10,000 or more employees   \n",
       "\n",
       "                                             DevType  ...  \\\n",
       "0                               Full-stack developer  ...   \n",
       "1  Database administrator;DevOps specialist;Full-...  ...   \n",
       "2           Engineering manager;Full-stack developer  ...   \n",
       "3                               Full-stack developer  ...   \n",
       "4  Data or business analyst;Desktop or enterprise...  ...   \n",
       "\n",
       "                     Exercise Gender         SexualOrientation  \\\n",
       "0        3 - 4 times per week   Male  Straight or heterosexual   \n",
       "1   Daily or almost every day   Male  Straight or heterosexual   \n",
       "2                         NaN    NaN                       NaN   \n",
       "3  I don't typically exercise   Male  Straight or heterosexual   \n",
       "4        3 - 4 times per week   Male  Straight or heterosexual   \n",
       "\n",
       "                                    EducationParents  \\\n",
       "0           Bachelor’s degree (BA, BS, B.Eng., etc.)   \n",
       "1           Bachelor’s degree (BA, BS, B.Eng., etc.)   \n",
       "2                                                NaN   \n",
       "3  Some college/university study without earning ...   \n",
       "4  Some college/university study without earning ...   \n",
       "\n",
       "                  RaceEthnicity                Age Dependents  MilitaryUS  \\\n",
       "0   Black or of African descent  25 - 34 years old        Yes         NaN   \n",
       "1  White or of European descent  35 - 44 years old        Yes         NaN   \n",
       "2                           NaN                NaN        NaN         NaN   \n",
       "3  White or of European descent  35 - 44 years old         No          No   \n",
       "4  White or of European descent  18 - 24 years old        Yes         NaN   \n",
       "\n",
       "                          SurveyTooLong     SurveyEasy  \n",
       "0  The survey was an appropriate length      Very easy  \n",
       "1  The survey was an appropriate length  Somewhat easy  \n",
       "2                                   NaN            NaN  \n",
       "3  The survey was an appropriate length  Somewhat easy  \n",
       "4  The survey was an appropriate length  Somewhat easy  \n",
       "\n",
       "[5 rows x 129 columns]"
      ]
     },
     "execution_count": 7,
     "metadata": {},
     "output_type": "execute_result"
    }
   ],
   "source": [
    "salaries.head()"
   ]
  },
  {
   "cell_type": "code",
   "execution_count": 8,
   "id": "6d198bcf",
   "metadata": {},
   "outputs": [
    {
     "data": {
      "text/plain": [
       "Country           \n",
       "United States         20309\n",
       "India                 13721\n",
       "Germany                6459\n",
       "United Kingdom         6221\n",
       "Canada                 3393\n",
       "Russian Federation     2869\n",
       "France                 2572\n",
       "Brazil                 2505\n",
       "Poland                 2122\n",
       "Australia              2018\n",
       "dtype: int64"
      ]
     },
     "execution_count": 8,
     "metadata": {},
     "output_type": "execute_result"
    }
   ],
   "source": [
    "# countries with most data entries #\n",
    "salaries[[\"Country\"]].value_counts().head(10)"
   ]
  },
  {
   "cell_type": "code",
   "execution_count": 9,
   "id": "24fe86c2",
   "metadata": {},
   "outputs": [],
   "source": [
    "## List of columns we are interested in for salary analysis #\n",
    "#salaries_cols = [\"Country\",\"Student\",\"Employment\",\"FormalEducation\",\"UndergradMajor\",\"CompanySize\",\"DevType\",\"YearsCoding\",\"YearsCodingProf\",\"EducationTypes\",\"SelfTaughtTypes\",\"LanguageWorkedWith\",\"Salary\",\"LanguageDesireNextYear\",\"FrameworkWorkedWith\",\"FrameworkDesireNextYear\",\"OperatingSystem\",\"Age\",\"ConvertedSalary\"]"
   ]
  },
  {
   "cell_type": "code",
   "execution_count": 10,
   "id": "50d2d331",
   "metadata": {},
   "outputs": [],
   "source": [
    "# Desired colums for analysis #\n",
    "salaries_cols = [\"Country\",\"Student\",\"Employment\",\"FormalEducation\",\"DevType\",\"YearsCodingProf\",\"EducationTypes\",\"LanguageWorkedWith\",\"FrameworkWorkedWith\",\"Age\",\"Salary\",\"ConvertedSalary\"]"
   ]
  },
  {
   "cell_type": "code",
   "execution_count": 11,
   "id": "ea123ccb",
   "metadata": {
    "scrolled": true
   },
   "outputs": [
    {
     "data": {
      "text/html": [
       "<div>\n",
       "<style scoped>\n",
       "    .dataframe tbody tr th:only-of-type {\n",
       "        vertical-align: middle;\n",
       "    }\n",
       "\n",
       "    .dataframe tbody tr th {\n",
       "        vertical-align: top;\n",
       "    }\n",
       "\n",
       "    .dataframe thead th {\n",
       "        text-align: right;\n",
       "    }\n",
       "</style>\n",
       "<table border=\"1\" class=\"dataframe\">\n",
       "  <thead>\n",
       "    <tr style=\"text-align: right;\">\n",
       "      <th></th>\n",
       "      <th>Country</th>\n",
       "      <th>Student</th>\n",
       "      <th>Employment</th>\n",
       "      <th>FormalEducation</th>\n",
       "      <th>DevType</th>\n",
       "      <th>YearsCodingProf</th>\n",
       "      <th>EducationTypes</th>\n",
       "      <th>LanguageWorkedWith</th>\n",
       "      <th>FrameworkWorkedWith</th>\n",
       "      <th>Age</th>\n",
       "      <th>Salary</th>\n",
       "      <th>ConvertedSalary</th>\n",
       "    </tr>\n",
       "  </thead>\n",
       "  <tbody>\n",
       "    <tr>\n",
       "      <th>0</th>\n",
       "      <td>Kenya</td>\n",
       "      <td>No</td>\n",
       "      <td>Employed part-time</td>\n",
       "      <td>Bachelor’s degree (BA, BS, B.Eng., etc.)</td>\n",
       "      <td>Full-stack developer</td>\n",
       "      <td>3-5 years</td>\n",
       "      <td>Taught yourself a new language, framework, or ...</td>\n",
       "      <td>JavaScript;Python;HTML;CSS</td>\n",
       "      <td>Django;React</td>\n",
       "      <td>25 - 34 years old</td>\n",
       "      <td>NaN</td>\n",
       "      <td>NaN</td>\n",
       "    </tr>\n",
       "    <tr>\n",
       "      <th>1</th>\n",
       "      <td>United Kingdom</td>\n",
       "      <td>No</td>\n",
       "      <td>Employed full-time</td>\n",
       "      <td>Bachelor’s degree (BA, BS, B.Eng., etc.)</td>\n",
       "      <td>Database administrator;DevOps specialist;Full-...</td>\n",
       "      <td>18-20 years</td>\n",
       "      <td>Taught yourself a new language, framework, or ...</td>\n",
       "      <td>JavaScript;Python;Bash/Shell</td>\n",
       "      <td>Django</td>\n",
       "      <td>35 - 44 years old</td>\n",
       "      <td>51000</td>\n",
       "      <td>70841.0</td>\n",
       "    </tr>\n",
       "    <tr>\n",
       "      <th>2</th>\n",
       "      <td>United States</td>\n",
       "      <td>No</td>\n",
       "      <td>Employed full-time</td>\n",
       "      <td>Associate degree</td>\n",
       "      <td>Engineering manager;Full-stack developer</td>\n",
       "      <td>6-8 years</td>\n",
       "      <td>NaN</td>\n",
       "      <td>NaN</td>\n",
       "      <td>NaN</td>\n",
       "      <td>NaN</td>\n",
       "      <td>NaN</td>\n",
       "      <td>NaN</td>\n",
       "    </tr>\n",
       "    <tr>\n",
       "      <th>3</th>\n",
       "      <td>United States</td>\n",
       "      <td>No</td>\n",
       "      <td>Employed full-time</td>\n",
       "      <td>Bachelor’s degree (BA, BS, B.Eng., etc.)</td>\n",
       "      <td>Full-stack developer</td>\n",
       "      <td>12-14 years</td>\n",
       "      <td>Completed an industry certification program (e...</td>\n",
       "      <td>C#;JavaScript;SQL;TypeScript;HTML;CSS;Bash/Shell</td>\n",
       "      <td>NaN</td>\n",
       "      <td>35 - 44 years old</td>\n",
       "      <td>NaN</td>\n",
       "      <td>NaN</td>\n",
       "    </tr>\n",
       "    <tr>\n",
       "      <th>4</th>\n",
       "      <td>South Africa</td>\n",
       "      <td>Yes, part-time</td>\n",
       "      <td>Employed full-time</td>\n",
       "      <td>Some college/university study without earning ...</td>\n",
       "      <td>Data or business analyst;Desktop or enterprise...</td>\n",
       "      <td>0-2 years</td>\n",
       "      <td>Taken a part-time in-person course in programm...</td>\n",
       "      <td>C;C++;Java;Matlab;R;SQL;Bash/Shell</td>\n",
       "      <td>NaN</td>\n",
       "      <td>18 - 24 years old</td>\n",
       "      <td>260000</td>\n",
       "      <td>21426.0</td>\n",
       "    </tr>\n",
       "  </tbody>\n",
       "</table>\n",
       "</div>"
      ],
      "text/plain": [
       "          Country         Student          Employment  \\\n",
       "0           Kenya              No  Employed part-time   \n",
       "1  United Kingdom              No  Employed full-time   \n",
       "2   United States              No  Employed full-time   \n",
       "3   United States              No  Employed full-time   \n",
       "4    South Africa  Yes, part-time  Employed full-time   \n",
       "\n",
       "                                     FormalEducation  \\\n",
       "0           Bachelor’s degree (BA, BS, B.Eng., etc.)   \n",
       "1           Bachelor’s degree (BA, BS, B.Eng., etc.)   \n",
       "2                                   Associate degree   \n",
       "3           Bachelor’s degree (BA, BS, B.Eng., etc.)   \n",
       "4  Some college/university study without earning ...   \n",
       "\n",
       "                                             DevType YearsCodingProf  \\\n",
       "0                               Full-stack developer       3-5 years   \n",
       "1  Database administrator;DevOps specialist;Full-...     18-20 years   \n",
       "2           Engineering manager;Full-stack developer       6-8 years   \n",
       "3                               Full-stack developer     12-14 years   \n",
       "4  Data or business analyst;Desktop or enterprise...       0-2 years   \n",
       "\n",
       "                                      EducationTypes  \\\n",
       "0  Taught yourself a new language, framework, or ...   \n",
       "1  Taught yourself a new language, framework, or ...   \n",
       "2                                                NaN   \n",
       "3  Completed an industry certification program (e...   \n",
       "4  Taken a part-time in-person course in programm...   \n",
       "\n",
       "                                 LanguageWorkedWith FrameworkWorkedWith  \\\n",
       "0                        JavaScript;Python;HTML;CSS        Django;React   \n",
       "1                      JavaScript;Python;Bash/Shell              Django   \n",
       "2                                               NaN                 NaN   \n",
       "3  C#;JavaScript;SQL;TypeScript;HTML;CSS;Bash/Shell                 NaN   \n",
       "4                C;C++;Java;Matlab;R;SQL;Bash/Shell                 NaN   \n",
       "\n",
       "                 Age  Salary  ConvertedSalary  \n",
       "0  25 - 34 years old     NaN              NaN  \n",
       "1  35 - 44 years old   51000          70841.0  \n",
       "2                NaN     NaN              NaN  \n",
       "3  35 - 44 years old     NaN              NaN  \n",
       "4  18 - 24 years old  260000          21426.0  "
      ]
     },
     "execution_count": 11,
     "metadata": {},
     "output_type": "execute_result"
    }
   ],
   "source": [
    "salaries[salaries_cols].head()"
   ]
  },
  {
   "cell_type": "code",
   "execution_count": 12,
   "id": "55ca5503",
   "metadata": {},
   "outputs": [
    {
     "data": {
      "text/html": [
       "<div>\n",
       "<style scoped>\n",
       "    .dataframe tbody tr th:only-of-type {\n",
       "        vertical-align: middle;\n",
       "    }\n",
       "\n",
       "    .dataframe tbody tr th {\n",
       "        vertical-align: top;\n",
       "    }\n",
       "\n",
       "    .dataframe thead th {\n",
       "        text-align: right;\n",
       "    }\n",
       "</style>\n",
       "<table border=\"1\" class=\"dataframe\">\n",
       "  <thead>\n",
       "    <tr style=\"text-align: right;\">\n",
       "      <th></th>\n",
       "      <th>Country</th>\n",
       "      <th>Student</th>\n",
       "      <th>Employment</th>\n",
       "      <th>FormalEducation</th>\n",
       "      <th>DevType</th>\n",
       "      <th>YearsCodingProf</th>\n",
       "      <th>EducationTypes</th>\n",
       "      <th>LanguageWorkedWith</th>\n",
       "      <th>FrameworkWorkedWith</th>\n",
       "      <th>Age</th>\n",
       "      <th>Salary</th>\n",
       "      <th>ConvertedSalary</th>\n",
       "    </tr>\n",
       "  </thead>\n",
       "  <tbody>\n",
       "    <tr>\n",
       "      <th>0</th>\n",
       "      <td>Kenya</td>\n",
       "      <td>No</td>\n",
       "      <td>Employed part-time</td>\n",
       "      <td>Bachelor’s degree (BA, BS, B.Eng., etc.)</td>\n",
       "      <td>Full-stack developer</td>\n",
       "      <td>3-5 years</td>\n",
       "      <td>Taught yourself a new language, framework, or ...</td>\n",
       "      <td>JavaScript;Python;HTML;CSS</td>\n",
       "      <td>Django;React</td>\n",
       "      <td>25 - 34 years old</td>\n",
       "      <td>NaN</td>\n",
       "      <td>NaN</td>\n",
       "    </tr>\n",
       "    <tr>\n",
       "      <th>1</th>\n",
       "      <td>United Kingdom</td>\n",
       "      <td>No</td>\n",
       "      <td>Employed full-time</td>\n",
       "      <td>Bachelor’s degree (BA, BS, B.Eng., etc.)</td>\n",
       "      <td>Database administrator;DevOps specialist;Full-...</td>\n",
       "      <td>18-20 years</td>\n",
       "      <td>Taught yourself a new language, framework, or ...</td>\n",
       "      <td>JavaScript;Python;Bash/Shell</td>\n",
       "      <td>Django</td>\n",
       "      <td>35 - 44 years old</td>\n",
       "      <td>51000</td>\n",
       "      <td>70841.0</td>\n",
       "    </tr>\n",
       "    <tr>\n",
       "      <th>2</th>\n",
       "      <td>United States</td>\n",
       "      <td>No</td>\n",
       "      <td>Employed full-time</td>\n",
       "      <td>Associate degree</td>\n",
       "      <td>Engineering manager;Full-stack developer</td>\n",
       "      <td>6-8 years</td>\n",
       "      <td>NaN</td>\n",
       "      <td>NaN</td>\n",
       "      <td>NaN</td>\n",
       "      <td>NaN</td>\n",
       "      <td>NaN</td>\n",
       "      <td>NaN</td>\n",
       "    </tr>\n",
       "    <tr>\n",
       "      <th>3</th>\n",
       "      <td>United States</td>\n",
       "      <td>No</td>\n",
       "      <td>Employed full-time</td>\n",
       "      <td>Bachelor’s degree (BA, BS, B.Eng., etc.)</td>\n",
       "      <td>Full-stack developer</td>\n",
       "      <td>12-14 years</td>\n",
       "      <td>Completed an industry certification program (e...</td>\n",
       "      <td>C#;JavaScript;SQL;TypeScript;HTML;CSS;Bash/Shell</td>\n",
       "      <td>NaN</td>\n",
       "      <td>35 - 44 years old</td>\n",
       "      <td>NaN</td>\n",
       "      <td>NaN</td>\n",
       "    </tr>\n",
       "    <tr>\n",
       "      <th>4</th>\n",
       "      <td>South Africa</td>\n",
       "      <td>Yes, part-time</td>\n",
       "      <td>Employed full-time</td>\n",
       "      <td>Some college/university study without earning ...</td>\n",
       "      <td>Data or business analyst;Desktop or enterprise...</td>\n",
       "      <td>0-2 years</td>\n",
       "      <td>Taken a part-time in-person course in programm...</td>\n",
       "      <td>C;C++;Java;Matlab;R;SQL;Bash/Shell</td>\n",
       "      <td>NaN</td>\n",
       "      <td>18 - 24 years old</td>\n",
       "      <td>260000</td>\n",
       "      <td>21426.0</td>\n",
       "    </tr>\n",
       "  </tbody>\n",
       "</table>\n",
       "</div>"
      ],
      "text/plain": [
       "          Country         Student          Employment  \\\n",
       "0           Kenya              No  Employed part-time   \n",
       "1  United Kingdom              No  Employed full-time   \n",
       "2   United States              No  Employed full-time   \n",
       "3   United States              No  Employed full-time   \n",
       "4    South Africa  Yes, part-time  Employed full-time   \n",
       "\n",
       "                                     FormalEducation  \\\n",
       "0           Bachelor’s degree (BA, BS, B.Eng., etc.)   \n",
       "1           Bachelor’s degree (BA, BS, B.Eng., etc.)   \n",
       "2                                   Associate degree   \n",
       "3           Bachelor’s degree (BA, BS, B.Eng., etc.)   \n",
       "4  Some college/university study without earning ...   \n",
       "\n",
       "                                             DevType YearsCodingProf  \\\n",
       "0                               Full-stack developer       3-5 years   \n",
       "1  Database administrator;DevOps specialist;Full-...     18-20 years   \n",
       "2           Engineering manager;Full-stack developer       6-8 years   \n",
       "3                               Full-stack developer     12-14 years   \n",
       "4  Data or business analyst;Desktop or enterprise...       0-2 years   \n",
       "\n",
       "                                      EducationTypes  \\\n",
       "0  Taught yourself a new language, framework, or ...   \n",
       "1  Taught yourself a new language, framework, or ...   \n",
       "2                                                NaN   \n",
       "3  Completed an industry certification program (e...   \n",
       "4  Taken a part-time in-person course in programm...   \n",
       "\n",
       "                                 LanguageWorkedWith FrameworkWorkedWith  \\\n",
       "0                        JavaScript;Python;HTML;CSS        Django;React   \n",
       "1                      JavaScript;Python;Bash/Shell              Django   \n",
       "2                                               NaN                 NaN   \n",
       "3  C#;JavaScript;SQL;TypeScript;HTML;CSS;Bash/Shell                 NaN   \n",
       "4                C;C++;Java;Matlab;R;SQL;Bash/Shell                 NaN   \n",
       "\n",
       "                 Age  Salary  ConvertedSalary  \n",
       "0  25 - 34 years old     NaN              NaN  \n",
       "1  35 - 44 years old   51000          70841.0  \n",
       "2                NaN     NaN              NaN  \n",
       "3  35 - 44 years old     NaN              NaN  \n",
       "4  18 - 24 years old  260000          21426.0  "
      ]
     },
     "execution_count": 12,
     "metadata": {},
     "output_type": "execute_result"
    }
   ],
   "source": [
    "salaries_final_cols = salaries[salaries_cols]\n",
    "salaries_final_cols.head()"
   ]
  },
  {
   "cell_type": "code",
   "execution_count": 13,
   "id": "43ced9fd",
   "metadata": {},
   "outputs": [
    {
     "data": {
      "text/plain": [
       "Country       \n",
       "United States     20309\n",
       "India             13721\n",
       "Germany            6459\n",
       "United Kingdom     6221\n",
       "Canada             3393\n",
       "dtype: int64"
      ]
     },
     "execution_count": 13,
     "metadata": {},
     "output_type": "execute_result"
    }
   ],
   "source": [
    "salaries_final_cols[[\"Country\"]].value_counts().head(5)"
   ]
  },
  {
   "cell_type": "code",
   "execution_count": 14,
   "id": "75958091",
   "metadata": {},
   "outputs": [],
   "source": [
    "salariesTopCountry = salaries_final_cols[(salaries_final_cols[\"Country\"] == \"United States\") | (salaries_final_cols[\"Country\"] == \"India\") | (salaries_final_cols[\"Country\"] == \"Germany\") | (salaries_final_cols[\"Country\"] == \"United Kingdom\") | (salaries_final_cols[\"Country\"] == \"Canada\")]"
   ]
  },
  {
   "cell_type": "code",
   "execution_count": 15,
   "id": "f3441124",
   "metadata": {},
   "outputs": [
    {
     "name": "stdout",
     "output_type": "stream",
     "text": [
      "<class 'pandas.core.frame.DataFrame'>\n",
      "Int64Index: 50103 entries, 1 to 98852\n",
      "Data columns (total 12 columns):\n",
      " #   Column               Non-Null Count  Dtype  \n",
      "---  ------               --------------  -----  \n",
      " 0   Country              50103 non-null  object \n",
      " 1   Student              48576 non-null  object \n",
      " 2   Employment           48633 non-null  object \n",
      " 3   FormalEducation      48261 non-null  object \n",
      " 4   DevType              47135 non-null  object \n",
      " 5   YearsCodingProf      40314 non-null  object \n",
      " 6   EducationTypes       35792 non-null  object \n",
      " 7   LanguageWorkedWith   40766 non-null  object \n",
      " 8   FrameworkWorkedWith  26747 non-null  object \n",
      " 9   Age                  33777 non-null  object \n",
      " 10  Salary               26817 non-null  object \n",
      " 11  ConvertedSalary      26171 non-null  float64\n",
      "dtypes: float64(1), object(11)\n",
      "memory usage: 5.0+ MB\n"
     ]
    }
   ],
   "source": [
    "salariesTopCountry.info()"
   ]
  },
  {
   "cell_type": "code",
   "execution_count": 16,
   "id": "2f86f599",
   "metadata": {},
   "outputs": [],
   "source": [
    "#salariesTopCountry.to_csv(\"test.csv\")"
   ]
  },
  {
   "cell_type": "markdown",
   "id": "17299a91",
   "metadata": {},
   "source": [
    "### Filling in missing data"
   ]
  },
  {
   "cell_type": "code",
   "execution_count": 17,
   "id": "adf8b784",
   "metadata": {},
   "outputs": [
    {
     "data": {
      "text/html": [
       "<div>\n",
       "<style scoped>\n",
       "    .dataframe tbody tr th:only-of-type {\n",
       "        vertical-align: middle;\n",
       "    }\n",
       "\n",
       "    .dataframe tbody tr th {\n",
       "        vertical-align: top;\n",
       "    }\n",
       "\n",
       "    .dataframe thead th {\n",
       "        text-align: right;\n",
       "    }\n",
       "</style>\n",
       "<table border=\"1\" class=\"dataframe\">\n",
       "  <thead>\n",
       "    <tr style=\"text-align: right;\">\n",
       "      <th></th>\n",
       "      <th>Country</th>\n",
       "      <th>Student</th>\n",
       "      <th>Employment</th>\n",
       "      <th>FormalEducation</th>\n",
       "      <th>DevType</th>\n",
       "      <th>YearsCodingProf</th>\n",
       "      <th>EducationTypes</th>\n",
       "      <th>LanguageWorkedWith</th>\n",
       "      <th>FrameworkWorkedWith</th>\n",
       "      <th>Age</th>\n",
       "      <th>Salary</th>\n",
       "      <th>ConvertedSalary</th>\n",
       "    </tr>\n",
       "  </thead>\n",
       "  <tbody>\n",
       "    <tr>\n",
       "      <th>1</th>\n",
       "      <td>United Kingdom</td>\n",
       "      <td>No</td>\n",
       "      <td>Employed full-time</td>\n",
       "      <td>Bachelor’s degree (BA, BS, B.Eng., etc.)</td>\n",
       "      <td>Database administrator;DevOps specialist;Full-...</td>\n",
       "      <td>18-20 years</td>\n",
       "      <td>Taught yourself a new language, framework, or ...</td>\n",
       "      <td>JavaScript;Python;Bash/Shell</td>\n",
       "      <td>Django</td>\n",
       "      <td>35 - 44 years old</td>\n",
       "      <td>51000</td>\n",
       "      <td>70841.0</td>\n",
       "    </tr>\n",
       "    <tr>\n",
       "      <th>2</th>\n",
       "      <td>United States</td>\n",
       "      <td>No</td>\n",
       "      <td>Employed full-time</td>\n",
       "      <td>Associate degree</td>\n",
       "      <td>Engineering manager;Full-stack developer</td>\n",
       "      <td>6-8 years</td>\n",
       "      <td>NaN</td>\n",
       "      <td>NaN</td>\n",
       "      <td>NaN</td>\n",
       "      <td>NaN</td>\n",
       "      <td>NaN</td>\n",
       "      <td>NaN</td>\n",
       "    </tr>\n",
       "    <tr>\n",
       "      <th>3</th>\n",
       "      <td>United States</td>\n",
       "      <td>No</td>\n",
       "      <td>Employed full-time</td>\n",
       "      <td>Bachelor’s degree (BA, BS, B.Eng., etc.)</td>\n",
       "      <td>Full-stack developer</td>\n",
       "      <td>12-14 years</td>\n",
       "      <td>Completed an industry certification program (e...</td>\n",
       "      <td>C#;JavaScript;SQL;TypeScript;HTML;CSS;Bash/Shell</td>\n",
       "      <td>NaN</td>\n",
       "      <td>35 - 44 years old</td>\n",
       "      <td>NaN</td>\n",
       "      <td>NaN</td>\n",
       "    </tr>\n",
       "    <tr>\n",
       "      <th>5</th>\n",
       "      <td>United Kingdom</td>\n",
       "      <td>No</td>\n",
       "      <td>Employed full-time</td>\n",
       "      <td>Bachelor’s degree (BA, BS, B.Eng., etc.)</td>\n",
       "      <td>Back-end developer;Database administrator;Fron...</td>\n",
       "      <td>3-5 years</td>\n",
       "      <td>Received on-the-job training in software devel...</td>\n",
       "      <td>Java;JavaScript;Python;TypeScript;HTML;CSS</td>\n",
       "      <td>Angular;Node.js</td>\n",
       "      <td>18 - 24 years old</td>\n",
       "      <td>30000</td>\n",
       "      <td>41671.0</td>\n",
       "    </tr>\n",
       "    <tr>\n",
       "      <th>6</th>\n",
       "      <td>United States</td>\n",
       "      <td>No</td>\n",
       "      <td>Employed full-time</td>\n",
       "      <td>Some college/university study without earning ...</td>\n",
       "      <td>Back-end developer;Front-end developer;Full-st...</td>\n",
       "      <td>0-2 years</td>\n",
       "      <td>Received on-the-job training in software devel...</td>\n",
       "      <td>JavaScript;HTML;CSS</td>\n",
       "      <td>Node.js;React</td>\n",
       "      <td>18 - 24 years old</td>\n",
       "      <td>120000</td>\n",
       "      <td>120000.0</td>\n",
       "    </tr>\n",
       "    <tr>\n",
       "      <th>...</th>\n",
       "      <td>...</td>\n",
       "      <td>...</td>\n",
       "      <td>...</td>\n",
       "      <td>...</td>\n",
       "      <td>...</td>\n",
       "      <td>...</td>\n",
       "      <td>...</td>\n",
       "      <td>...</td>\n",
       "      <td>...</td>\n",
       "      <td>...</td>\n",
       "      <td>...</td>\n",
       "      <td>...</td>\n",
       "    </tr>\n",
       "    <tr>\n",
       "      <th>98847</th>\n",
       "      <td>United States</td>\n",
       "      <td>NaN</td>\n",
       "      <td>NaN</td>\n",
       "      <td>NaN</td>\n",
       "      <td>NaN</td>\n",
       "      <td>NaN</td>\n",
       "      <td>NaN</td>\n",
       "      <td>NaN</td>\n",
       "      <td>NaN</td>\n",
       "      <td>NaN</td>\n",
       "      <td>NaN</td>\n",
       "      <td>NaN</td>\n",
       "    </tr>\n",
       "    <tr>\n",
       "      <th>98848</th>\n",
       "      <td>India</td>\n",
       "      <td>Yes, full-time</td>\n",
       "      <td>Employed full-time</td>\n",
       "      <td>Bachelor’s degree (BA, BS, B.Eng., etc.)</td>\n",
       "      <td>NaN</td>\n",
       "      <td>NaN</td>\n",
       "      <td>NaN</td>\n",
       "      <td>NaN</td>\n",
       "      <td>NaN</td>\n",
       "      <td>NaN</td>\n",
       "      <td>NaN</td>\n",
       "      <td>NaN</td>\n",
       "    </tr>\n",
       "    <tr>\n",
       "      <th>98849</th>\n",
       "      <td>India</td>\n",
       "      <td>No</td>\n",
       "      <td>Employed full-time</td>\n",
       "      <td>Bachelor’s degree (BA, BS, B.Eng., etc.)</td>\n",
       "      <td>NaN</td>\n",
       "      <td>NaN</td>\n",
       "      <td>NaN</td>\n",
       "      <td>NaN</td>\n",
       "      <td>NaN</td>\n",
       "      <td>NaN</td>\n",
       "      <td>NaN</td>\n",
       "      <td>NaN</td>\n",
       "    </tr>\n",
       "    <tr>\n",
       "      <th>98850</th>\n",
       "      <td>United States</td>\n",
       "      <td>NaN</td>\n",
       "      <td>NaN</td>\n",
       "      <td>NaN</td>\n",
       "      <td>NaN</td>\n",
       "      <td>NaN</td>\n",
       "      <td>NaN</td>\n",
       "      <td>NaN</td>\n",
       "      <td>NaN</td>\n",
       "      <td>NaN</td>\n",
       "      <td>NaN</td>\n",
       "      <td>NaN</td>\n",
       "    </tr>\n",
       "    <tr>\n",
       "      <th>98852</th>\n",
       "      <td>India</td>\n",
       "      <td>Yes, full-time</td>\n",
       "      <td>Employed full-time</td>\n",
       "      <td>Bachelor’s degree (BA, BS, B.Eng., etc.)</td>\n",
       "      <td>NaN</td>\n",
       "      <td>NaN</td>\n",
       "      <td>NaN</td>\n",
       "      <td>NaN</td>\n",
       "      <td>NaN</td>\n",
       "      <td>NaN</td>\n",
       "      <td>NaN</td>\n",
       "      <td>NaN</td>\n",
       "    </tr>\n",
       "  </tbody>\n",
       "</table>\n",
       "<p>50103 rows × 12 columns</p>\n",
       "</div>"
      ],
      "text/plain": [
       "              Country         Student          Employment  \\\n",
       "1      United Kingdom              No  Employed full-time   \n",
       "2       United States              No  Employed full-time   \n",
       "3       United States              No  Employed full-time   \n",
       "5      United Kingdom              No  Employed full-time   \n",
       "6       United States              No  Employed full-time   \n",
       "...               ...             ...                 ...   \n",
       "98847   United States             NaN                 NaN   \n",
       "98848           India  Yes, full-time  Employed full-time   \n",
       "98849           India              No  Employed full-time   \n",
       "98850   United States             NaN                 NaN   \n",
       "98852           India  Yes, full-time  Employed full-time   \n",
       "\n",
       "                                         FormalEducation  \\\n",
       "1               Bachelor’s degree (BA, BS, B.Eng., etc.)   \n",
       "2                                       Associate degree   \n",
       "3               Bachelor’s degree (BA, BS, B.Eng., etc.)   \n",
       "5               Bachelor’s degree (BA, BS, B.Eng., etc.)   \n",
       "6      Some college/university study without earning ...   \n",
       "...                                                  ...   \n",
       "98847                                                NaN   \n",
       "98848           Bachelor’s degree (BA, BS, B.Eng., etc.)   \n",
       "98849           Bachelor’s degree (BA, BS, B.Eng., etc.)   \n",
       "98850                                                NaN   \n",
       "98852           Bachelor’s degree (BA, BS, B.Eng., etc.)   \n",
       "\n",
       "                                                 DevType YearsCodingProf  \\\n",
       "1      Database administrator;DevOps specialist;Full-...     18-20 years   \n",
       "2               Engineering manager;Full-stack developer       6-8 years   \n",
       "3                                   Full-stack developer     12-14 years   \n",
       "5      Back-end developer;Database administrator;Fron...       3-5 years   \n",
       "6      Back-end developer;Front-end developer;Full-st...       0-2 years   \n",
       "...                                                  ...             ...   \n",
       "98847                                                NaN             NaN   \n",
       "98848                                                NaN             NaN   \n",
       "98849                                                NaN             NaN   \n",
       "98850                                                NaN             NaN   \n",
       "98852                                                NaN             NaN   \n",
       "\n",
       "                                          EducationTypes  \\\n",
       "1      Taught yourself a new language, framework, or ...   \n",
       "2                                                    NaN   \n",
       "3      Completed an industry certification program (e...   \n",
       "5      Received on-the-job training in software devel...   \n",
       "6      Received on-the-job training in software devel...   \n",
       "...                                                  ...   \n",
       "98847                                                NaN   \n",
       "98848                                                NaN   \n",
       "98849                                                NaN   \n",
       "98850                                                NaN   \n",
       "98852                                                NaN   \n",
       "\n",
       "                                     LanguageWorkedWith FrameworkWorkedWith  \\\n",
       "1                          JavaScript;Python;Bash/Shell              Django   \n",
       "2                                                   NaN                 NaN   \n",
       "3      C#;JavaScript;SQL;TypeScript;HTML;CSS;Bash/Shell                 NaN   \n",
       "5            Java;JavaScript;Python;TypeScript;HTML;CSS     Angular;Node.js   \n",
       "6                                   JavaScript;HTML;CSS       Node.js;React   \n",
       "...                                                 ...                 ...   \n",
       "98847                                               NaN                 NaN   \n",
       "98848                                               NaN                 NaN   \n",
       "98849                                               NaN                 NaN   \n",
       "98850                                               NaN                 NaN   \n",
       "98852                                               NaN                 NaN   \n",
       "\n",
       "                     Age  Salary  ConvertedSalary  \n",
       "1      35 - 44 years old   51000          70841.0  \n",
       "2                    NaN     NaN              NaN  \n",
       "3      35 - 44 years old     NaN              NaN  \n",
       "5      18 - 24 years old   30000          41671.0  \n",
       "6      18 - 24 years old  120000         120000.0  \n",
       "...                  ...     ...              ...  \n",
       "98847                NaN     NaN              NaN  \n",
       "98848                NaN     NaN              NaN  \n",
       "98849                NaN     NaN              NaN  \n",
       "98850                NaN     NaN              NaN  \n",
       "98852                NaN     NaN              NaN  \n",
       "\n",
       "[50103 rows x 12 columns]"
      ]
     },
     "execution_count": 17,
     "metadata": {},
     "output_type": "execute_result"
    }
   ],
   "source": [
    "salaries2 = salariesTopCountry.copy()\n",
    "salaries2"
   ]
  },
  {
   "cell_type": "code",
   "execution_count": 18,
   "id": "64de77b6",
   "metadata": {},
   "outputs": [
    {
     "data": {
      "text/plain": [
       "Index(['Country', 'Student', 'Employment', 'FormalEducation', 'DevType',\n",
       "       'YearsCodingProf', 'EducationTypes', 'LanguageWorkedWith',\n",
       "       'FrameworkWorkedWith', 'Age', 'Salary', 'ConvertedSalary'],\n",
       "      dtype='object')"
      ]
     },
     "execution_count": 18,
     "metadata": {},
     "output_type": "execute_result"
    }
   ],
   "source": [
    "salaries2.columns"
   ]
  },
  {
   "cell_type": "markdown",
   "id": "903d24b2",
   "metadata": {},
   "source": [
    "**Country col**"
   ]
  },
  {
   "cell_type": "code",
   "execution_count": 19,
   "id": "c4065aac",
   "metadata": {},
   "outputs": [
    {
     "data": {
      "text/plain": [
       "United States     20309\n",
       "India             13721\n",
       "Germany            6459\n",
       "United Kingdom     6221\n",
       "Canada             3393\n",
       "Name: Country, dtype: int64"
      ]
     },
     "execution_count": 19,
     "metadata": {},
     "output_type": "execute_result"
    }
   ],
   "source": [
    "salaries2[\"Country\"].value_counts()"
   ]
  },
  {
   "cell_type": "markdown",
   "id": "8d8d7f15",
   "metadata": {},
   "source": [
    "**Student col**"
   ]
  },
  {
   "cell_type": "code",
   "execution_count": 20,
   "id": "20297bb8",
   "metadata": {},
   "outputs": [
    {
     "data": {
      "text/plain": [
       "array(['No', 'Yes, full-time', nan, 'Yes, part-time'], dtype=object)"
      ]
     },
     "execution_count": 20,
     "metadata": {},
     "output_type": "execute_result"
    }
   ],
   "source": [
    "salaries2[\"Student\"].unique()"
   ]
  },
  {
   "cell_type": "code",
   "execution_count": 21,
   "id": "6363e781",
   "metadata": {},
   "outputs": [
    {
     "data": {
      "text/plain": [
       "No                37972\n",
       "Yes, full-time     8719\n",
       "Yes, part-time     1885\n",
       "Name: Student, dtype: int64"
      ]
     },
     "execution_count": 21,
     "metadata": {},
     "output_type": "execute_result"
    }
   ],
   "source": [
    "salaries2[\"Student\"].value_counts()"
   ]
  },
  {
   "cell_type": "code",
   "execution_count": 22,
   "id": "e54b6eb0",
   "metadata": {},
   "outputs": [],
   "source": [
    "# drop Student column #\n",
    "salaries2.drop(\"Student\",axis=1, inplace=True)"
   ]
  },
  {
   "cell_type": "code",
   "execution_count": 23,
   "id": "ca6f4cbd",
   "metadata": {},
   "outputs": [
    {
     "data": {
      "text/plain": [
       "Index(['Country', 'Employment', 'FormalEducation', 'DevType',\n",
       "       'YearsCodingProf', 'EducationTypes', 'LanguageWorkedWith',\n",
       "       'FrameworkWorkedWith', 'Age', 'Salary', 'ConvertedSalary'],\n",
       "      dtype='object')"
      ]
     },
     "execution_count": 23,
     "metadata": {},
     "output_type": "execute_result"
    }
   ],
   "source": [
    "salaries2.columns"
   ]
  },
  {
   "cell_type": "markdown",
   "id": "5f3f8b70",
   "metadata": {},
   "source": [
    "**Employment**"
   ]
  },
  {
   "cell_type": "code",
   "execution_count": 24,
   "id": "223ca58d",
   "metadata": {},
   "outputs": [
    {
     "data": {
      "text/plain": [
       "array(['Employed full-time', 'Employed part-time',\n",
       "       'Independent contractor, freelancer, or self-employed',\n",
       "       'Not employed, and not looking for work', nan,\n",
       "       'Not employed, but looking for work', 'Retired'], dtype=object)"
      ]
     },
     "execution_count": 24,
     "metadata": {},
     "output_type": "execute_result"
    }
   ],
   "source": [
    "salaries2[\"Employment\"].unique()"
   ]
  },
  {
   "cell_type": "code",
   "execution_count": 25,
   "id": "5c6224b7",
   "metadata": {},
   "outputs": [
    {
     "data": {
      "text/plain": [
       "Employed full-time                                      37916\n",
       "Independent contractor, freelancer, or self-employed     3687\n",
       "Not employed, but looking for work                       2734\n",
       "Employed part-time                                       2241\n",
       "Not employed, and not looking for work                   1923\n",
       "Retired                                                   132\n",
       "Name: Employment, dtype: int64"
      ]
     },
     "execution_count": 25,
     "metadata": {},
     "output_type": "execute_result"
    }
   ],
   "source": [
    "salaries2[\"Employment\"].value_counts()"
   ]
  },
  {
   "cell_type": "code",
   "execution_count": 26,
   "id": "7b931f79",
   "metadata": {},
   "outputs": [
    {
     "data": {
      "text/html": [
       "<div>\n",
       "<style scoped>\n",
       "    .dataframe tbody tr th:only-of-type {\n",
       "        vertical-align: middle;\n",
       "    }\n",
       "\n",
       "    .dataframe tbody tr th {\n",
       "        vertical-align: top;\n",
       "    }\n",
       "\n",
       "    .dataframe thead th {\n",
       "        text-align: right;\n",
       "    }\n",
       "</style>\n",
       "<table border=\"1\" class=\"dataframe\">\n",
       "  <thead>\n",
       "    <tr style=\"text-align: right;\">\n",
       "      <th></th>\n",
       "      <th>Country</th>\n",
       "      <th>Employment</th>\n",
       "      <th>FormalEducation</th>\n",
       "      <th>DevType</th>\n",
       "      <th>YearsCodingProf</th>\n",
       "      <th>EducationTypes</th>\n",
       "      <th>LanguageWorkedWith</th>\n",
       "      <th>FrameworkWorkedWith</th>\n",
       "      <th>Age</th>\n",
       "      <th>Salary</th>\n",
       "      <th>ConvertedSalary</th>\n",
       "    </tr>\n",
       "  </thead>\n",
       "  <tbody>\n",
       "    <tr>\n",
       "      <th>1</th>\n",
       "      <td>United Kingdom</td>\n",
       "      <td>Employed full-time</td>\n",
       "      <td>Bachelor’s degree (BA, BS, B.Eng., etc.)</td>\n",
       "      <td>Database administrator;DevOps specialist;Full-...</td>\n",
       "      <td>18-20 years</td>\n",
       "      <td>Taught yourself a new language, framework, or ...</td>\n",
       "      <td>JavaScript;Python;Bash/Shell</td>\n",
       "      <td>Django</td>\n",
       "      <td>35 - 44 years old</td>\n",
       "      <td>51000</td>\n",
       "      <td>70841.0</td>\n",
       "    </tr>\n",
       "    <tr>\n",
       "      <th>2</th>\n",
       "      <td>United States</td>\n",
       "      <td>Employed full-time</td>\n",
       "      <td>Associate degree</td>\n",
       "      <td>Engineering manager;Full-stack developer</td>\n",
       "      <td>6-8 years</td>\n",
       "      <td>NaN</td>\n",
       "      <td>NaN</td>\n",
       "      <td>NaN</td>\n",
       "      <td>NaN</td>\n",
       "      <td>NaN</td>\n",
       "      <td>NaN</td>\n",
       "    </tr>\n",
       "    <tr>\n",
       "      <th>3</th>\n",
       "      <td>United States</td>\n",
       "      <td>Employed full-time</td>\n",
       "      <td>Bachelor’s degree (BA, BS, B.Eng., etc.)</td>\n",
       "      <td>Full-stack developer</td>\n",
       "      <td>12-14 years</td>\n",
       "      <td>Completed an industry certification program (e...</td>\n",
       "      <td>C#;JavaScript;SQL;TypeScript;HTML;CSS;Bash/Shell</td>\n",
       "      <td>NaN</td>\n",
       "      <td>35 - 44 years old</td>\n",
       "      <td>NaN</td>\n",
       "      <td>NaN</td>\n",
       "    </tr>\n",
       "    <tr>\n",
       "      <th>5</th>\n",
       "      <td>United Kingdom</td>\n",
       "      <td>Employed full-time</td>\n",
       "      <td>Bachelor’s degree (BA, BS, B.Eng., etc.)</td>\n",
       "      <td>Back-end developer;Database administrator;Fron...</td>\n",
       "      <td>3-5 years</td>\n",
       "      <td>Received on-the-job training in software devel...</td>\n",
       "      <td>Java;JavaScript;Python;TypeScript;HTML;CSS</td>\n",
       "      <td>Angular;Node.js</td>\n",
       "      <td>18 - 24 years old</td>\n",
       "      <td>30000</td>\n",
       "      <td>41671.0</td>\n",
       "    </tr>\n",
       "    <tr>\n",
       "      <th>6</th>\n",
       "      <td>United States</td>\n",
       "      <td>Employed full-time</td>\n",
       "      <td>Some college/university study without earning ...</td>\n",
       "      <td>Back-end developer;Front-end developer;Full-st...</td>\n",
       "      <td>0-2 years</td>\n",
       "      <td>Received on-the-job training in software devel...</td>\n",
       "      <td>JavaScript;HTML;CSS</td>\n",
       "      <td>Node.js;React</td>\n",
       "      <td>18 - 24 years old</td>\n",
       "      <td>120000</td>\n",
       "      <td>120000.0</td>\n",
       "    </tr>\n",
       "  </tbody>\n",
       "</table>\n",
       "</div>"
      ],
      "text/plain": [
       "          Country          Employment  \\\n",
       "1  United Kingdom  Employed full-time   \n",
       "2   United States  Employed full-time   \n",
       "3   United States  Employed full-time   \n",
       "5  United Kingdom  Employed full-time   \n",
       "6   United States  Employed full-time   \n",
       "\n",
       "                                     FormalEducation  \\\n",
       "1           Bachelor’s degree (BA, BS, B.Eng., etc.)   \n",
       "2                                   Associate degree   \n",
       "3           Bachelor’s degree (BA, BS, B.Eng., etc.)   \n",
       "5           Bachelor’s degree (BA, BS, B.Eng., etc.)   \n",
       "6  Some college/university study without earning ...   \n",
       "\n",
       "                                             DevType YearsCodingProf  \\\n",
       "1  Database administrator;DevOps specialist;Full-...     18-20 years   \n",
       "2           Engineering manager;Full-stack developer       6-8 years   \n",
       "3                               Full-stack developer     12-14 years   \n",
       "5  Back-end developer;Database administrator;Fron...       3-5 years   \n",
       "6  Back-end developer;Front-end developer;Full-st...       0-2 years   \n",
       "\n",
       "                                      EducationTypes  \\\n",
       "1  Taught yourself a new language, framework, or ...   \n",
       "2                                                NaN   \n",
       "3  Completed an industry certification program (e...   \n",
       "5  Received on-the-job training in software devel...   \n",
       "6  Received on-the-job training in software devel...   \n",
       "\n",
       "                                 LanguageWorkedWith FrameworkWorkedWith  \\\n",
       "1                      JavaScript;Python;Bash/Shell              Django   \n",
       "2                                               NaN                 NaN   \n",
       "3  C#;JavaScript;SQL;TypeScript;HTML;CSS;Bash/Shell                 NaN   \n",
       "5        Java;JavaScript;Python;TypeScript;HTML;CSS     Angular;Node.js   \n",
       "6                               JavaScript;HTML;CSS       Node.js;React   \n",
       "\n",
       "                 Age  Salary  ConvertedSalary  \n",
       "1  35 - 44 years old   51000          70841.0  \n",
       "2                NaN     NaN              NaN  \n",
       "3  35 - 44 years old     NaN              NaN  \n",
       "5  18 - 24 years old   30000          41671.0  \n",
       "6  18 - 24 years old  120000         120000.0  "
      ]
     },
     "execution_count": 26,
     "metadata": {},
     "output_type": "execute_result"
    }
   ],
   "source": [
    "# Remove Retired entries #\n",
    "salaries2[salaries2[\"Employment\"] != \"Retired\"].head()"
   ]
  },
  {
   "cell_type": "code",
   "execution_count": 27,
   "id": "c3f718c3",
   "metadata": {},
   "outputs": [],
   "source": [
    "salaries3 = salaries2[salaries2[\"Employment\"] != \"Retired\"]"
   ]
  },
  {
   "cell_type": "code",
   "execution_count": 28,
   "id": "f3905b35",
   "metadata": {},
   "outputs": [
    {
     "data": {
      "text/plain": [
       "Employed full-time                                      37916\n",
       "Independent contractor, freelancer, or self-employed     3687\n",
       "Not employed, but looking for work                       2734\n",
       "Employed part-time                                       2241\n",
       "Not employed, and not looking for work                   1923\n",
       "Name: Employment, dtype: int64"
      ]
     },
     "execution_count": 28,
     "metadata": {},
     "output_type": "execute_result"
    }
   ],
   "source": [
    "salaries3[\"Employment\"].value_counts()"
   ]
  },
  {
   "cell_type": "code",
   "execution_count": 29,
   "id": "1f5bfd14",
   "metadata": {},
   "outputs": [],
   "source": [
    "# Remove \"Not employed, and not looking for work\"\n",
    "salaries4 = salaries3[salaries3[\"Employment\"] != \"Not employed, and not looking for work\"]"
   ]
  },
  {
   "cell_type": "code",
   "execution_count": 30,
   "id": "e02cc59e",
   "metadata": {},
   "outputs": [
    {
     "data": {
      "text/plain": [
       "Employed full-time                                      37916\n",
       "Independent contractor, freelancer, or self-employed     3687\n",
       "Not employed, but looking for work                       2734\n",
       "Employed part-time                                       2241\n",
       "Name: Employment, dtype: int64"
      ]
     },
     "execution_count": 30,
     "metadata": {},
     "output_type": "execute_result"
    }
   ],
   "source": [
    "salaries4[\"Employment\"].value_counts()"
   ]
  },
  {
   "cell_type": "code",
   "execution_count": 31,
   "id": "0d6614d7",
   "metadata": {},
   "outputs": [
    {
     "data": {
      "text/plain": [
       "array(['Employed full-time', 'Employed part-time',\n",
       "       'Independent contractor, freelancer, or self-employed', nan,\n",
       "       'Not employed, but looking for work'], dtype=object)"
      ]
     },
     "execution_count": 31,
     "metadata": {},
     "output_type": "execute_result"
    }
   ],
   "source": [
    "salaries4[\"Employment\"].unique()"
   ]
  },
  {
   "cell_type": "code",
   "execution_count": 32,
   "id": "622f4267",
   "metadata": {},
   "outputs": [
    {
     "data": {
      "text/html": [
       "<div>\n",
       "<style scoped>\n",
       "    .dataframe tbody tr th:only-of-type {\n",
       "        vertical-align: middle;\n",
       "    }\n",
       "\n",
       "    .dataframe tbody tr th {\n",
       "        vertical-align: top;\n",
       "    }\n",
       "\n",
       "    .dataframe thead th {\n",
       "        text-align: right;\n",
       "    }\n",
       "</style>\n",
       "<table border=\"1\" class=\"dataframe\">\n",
       "  <thead>\n",
       "    <tr style=\"text-align: right;\">\n",
       "      <th></th>\n",
       "      <th>Country</th>\n",
       "      <th>Employment</th>\n",
       "      <th>FormalEducation</th>\n",
       "      <th>DevType</th>\n",
       "      <th>YearsCodingProf</th>\n",
       "      <th>EducationTypes</th>\n",
       "      <th>LanguageWorkedWith</th>\n",
       "      <th>FrameworkWorkedWith</th>\n",
       "      <th>Age</th>\n",
       "      <th>Salary</th>\n",
       "      <th>ConvertedSalary</th>\n",
       "    </tr>\n",
       "  </thead>\n",
       "  <tbody>\n",
       "    <tr>\n",
       "      <th>80458</th>\n",
       "      <td>India</td>\n",
       "      <td>NaN</td>\n",
       "      <td>NaN</td>\n",
       "      <td>Back-end developer;Data scientist or machine l...</td>\n",
       "      <td>0-2 years</td>\n",
       "      <td>Contributed to open source software</td>\n",
       "      <td>C;C++;Java;JavaScript;PHP;Python;R;SQL;VB.NET;...</td>\n",
       "      <td>.NET Core;Django</td>\n",
       "      <td>18 - 24 years old</td>\n",
       "      <td>NaN</td>\n",
       "      <td>NaN</td>\n",
       "    </tr>\n",
       "    <tr>\n",
       "      <th>80459</th>\n",
       "      <td>India</td>\n",
       "      <td>NaN</td>\n",
       "      <td>Bachelor’s degree (BA, BS, B.Eng., etc.)</td>\n",
       "      <td>Back-end developer;Educator or academic resear...</td>\n",
       "      <td>0-2 years</td>\n",
       "      <td>Taught yourself a new language, framework, or ...</td>\n",
       "      <td>C;C++;C#;Java;JavaScript;Perl;PHP;SQL;TypeScri...</td>\n",
       "      <td>Angular;Node.js</td>\n",
       "      <td>18 - 24 years old</td>\n",
       "      <td>800000</td>\n",
       "      <td>12524.0</td>\n",
       "    </tr>\n",
       "    <tr>\n",
       "      <th>80490</th>\n",
       "      <td>Germany</td>\n",
       "      <td>NaN</td>\n",
       "      <td>Bachelor’s degree (BA, BS, B.Eng., etc.)</td>\n",
       "      <td>Back-end developer;Student;System administrator</td>\n",
       "      <td>0-2 years</td>\n",
       "      <td>NaN</td>\n",
       "      <td>C;C++;Go;Java;Python;Bash/Shell</td>\n",
       "      <td>NaN</td>\n",
       "      <td>18 - 24 years old</td>\n",
       "      <td>NaN</td>\n",
       "      <td>NaN</td>\n",
       "    </tr>\n",
       "    <tr>\n",
       "      <th>80492</th>\n",
       "      <td>India</td>\n",
       "      <td>NaN</td>\n",
       "      <td>Bachelor’s degree (BA, BS, B.Eng., etc.)</td>\n",
       "      <td>Full-stack developer</td>\n",
       "      <td>6-8 years</td>\n",
       "      <td>NaN</td>\n",
       "      <td>Java;JavaScript;Lua</td>\n",
       "      <td>Spring</td>\n",
       "      <td>NaN</td>\n",
       "      <td>NaN</td>\n",
       "      <td>NaN</td>\n",
       "    </tr>\n",
       "    <tr>\n",
       "      <th>80546</th>\n",
       "      <td>United States</td>\n",
       "      <td>NaN</td>\n",
       "      <td>Secondary school (e.g. American high school, G...</td>\n",
       "      <td>Back-end developer;Front-end developer;Full-st...</td>\n",
       "      <td>0-2 years</td>\n",
       "      <td>Taken an online course in programming or softw...</td>\n",
       "      <td>C;Java;JavaScript;Python;Ruby;Swift;HTML;CSS</td>\n",
       "      <td>Django;Node.js;React;TensorFlow</td>\n",
       "      <td>18 - 24 years old</td>\n",
       "      <td>NaN</td>\n",
       "      <td>NaN</td>\n",
       "    </tr>\n",
       "    <tr>\n",
       "      <th>...</th>\n",
       "      <td>...</td>\n",
       "      <td>...</td>\n",
       "      <td>...</td>\n",
       "      <td>...</td>\n",
       "      <td>...</td>\n",
       "      <td>...</td>\n",
       "      <td>...</td>\n",
       "      <td>...</td>\n",
       "      <td>...</td>\n",
       "      <td>...</td>\n",
       "      <td>...</td>\n",
       "    </tr>\n",
       "    <tr>\n",
       "      <th>98816</th>\n",
       "      <td>India</td>\n",
       "      <td>NaN</td>\n",
       "      <td>Professional degree (JD, MD, etc.)</td>\n",
       "      <td>Designer</td>\n",
       "      <td>NaN</td>\n",
       "      <td>NaN</td>\n",
       "      <td>NaN</td>\n",
       "      <td>NaN</td>\n",
       "      <td>NaN</td>\n",
       "      <td>NaN</td>\n",
       "      <td>NaN</td>\n",
       "    </tr>\n",
       "    <tr>\n",
       "      <th>98820</th>\n",
       "      <td>United States</td>\n",
       "      <td>NaN</td>\n",
       "      <td>NaN</td>\n",
       "      <td>NaN</td>\n",
       "      <td>NaN</td>\n",
       "      <td>NaN</td>\n",
       "      <td>NaN</td>\n",
       "      <td>NaN</td>\n",
       "      <td>NaN</td>\n",
       "      <td>NaN</td>\n",
       "      <td>NaN</td>\n",
       "    </tr>\n",
       "    <tr>\n",
       "      <th>98844</th>\n",
       "      <td>India</td>\n",
       "      <td>NaN</td>\n",
       "      <td>NaN</td>\n",
       "      <td>NaN</td>\n",
       "      <td>NaN</td>\n",
       "      <td>NaN</td>\n",
       "      <td>NaN</td>\n",
       "      <td>NaN</td>\n",
       "      <td>NaN</td>\n",
       "      <td>NaN</td>\n",
       "      <td>NaN</td>\n",
       "    </tr>\n",
       "    <tr>\n",
       "      <th>98847</th>\n",
       "      <td>United States</td>\n",
       "      <td>NaN</td>\n",
       "      <td>NaN</td>\n",
       "      <td>NaN</td>\n",
       "      <td>NaN</td>\n",
       "      <td>NaN</td>\n",
       "      <td>NaN</td>\n",
       "      <td>NaN</td>\n",
       "      <td>NaN</td>\n",
       "      <td>NaN</td>\n",
       "      <td>NaN</td>\n",
       "    </tr>\n",
       "    <tr>\n",
       "      <th>98850</th>\n",
       "      <td>United States</td>\n",
       "      <td>NaN</td>\n",
       "      <td>NaN</td>\n",
       "      <td>NaN</td>\n",
       "      <td>NaN</td>\n",
       "      <td>NaN</td>\n",
       "      <td>NaN</td>\n",
       "      <td>NaN</td>\n",
       "      <td>NaN</td>\n",
       "      <td>NaN</td>\n",
       "      <td>NaN</td>\n",
       "    </tr>\n",
       "  </tbody>\n",
       "</table>\n",
       "<p>1470 rows × 11 columns</p>\n",
       "</div>"
      ],
      "text/plain": [
       "             Country Employment  \\\n",
       "80458          India        NaN   \n",
       "80459          India        NaN   \n",
       "80490        Germany        NaN   \n",
       "80492          India        NaN   \n",
       "80546  United States        NaN   \n",
       "...              ...        ...   \n",
       "98816          India        NaN   \n",
       "98820  United States        NaN   \n",
       "98844          India        NaN   \n",
       "98847  United States        NaN   \n",
       "98850  United States        NaN   \n",
       "\n",
       "                                         FormalEducation  \\\n",
       "80458                                                NaN   \n",
       "80459           Bachelor’s degree (BA, BS, B.Eng., etc.)   \n",
       "80490           Bachelor’s degree (BA, BS, B.Eng., etc.)   \n",
       "80492           Bachelor’s degree (BA, BS, B.Eng., etc.)   \n",
       "80546  Secondary school (e.g. American high school, G...   \n",
       "...                                                  ...   \n",
       "98816                 Professional degree (JD, MD, etc.)   \n",
       "98820                                                NaN   \n",
       "98844                                                NaN   \n",
       "98847                                                NaN   \n",
       "98850                                                NaN   \n",
       "\n",
       "                                                 DevType YearsCodingProf  \\\n",
       "80458  Back-end developer;Data scientist or machine l...       0-2 years   \n",
       "80459  Back-end developer;Educator or academic resear...       0-2 years   \n",
       "80490    Back-end developer;Student;System administrator       0-2 years   \n",
       "80492                               Full-stack developer       6-8 years   \n",
       "80546  Back-end developer;Front-end developer;Full-st...       0-2 years   \n",
       "...                                                  ...             ...   \n",
       "98816                                           Designer             NaN   \n",
       "98820                                                NaN             NaN   \n",
       "98844                                                NaN             NaN   \n",
       "98847                                                NaN             NaN   \n",
       "98850                                                NaN             NaN   \n",
       "\n",
       "                                          EducationTypes  \\\n",
       "80458                Contributed to open source software   \n",
       "80459  Taught yourself a new language, framework, or ...   \n",
       "80490                                                NaN   \n",
       "80492                                                NaN   \n",
       "80546  Taken an online course in programming or softw...   \n",
       "...                                                  ...   \n",
       "98816                                                NaN   \n",
       "98820                                                NaN   \n",
       "98844                                                NaN   \n",
       "98847                                                NaN   \n",
       "98850                                                NaN   \n",
       "\n",
       "                                      LanguageWorkedWith  \\\n",
       "80458  C;C++;Java;JavaScript;PHP;Python;R;SQL;VB.NET;...   \n",
       "80459  C;C++;C#;Java;JavaScript;Perl;PHP;SQL;TypeScri...   \n",
       "80490                    C;C++;Go;Java;Python;Bash/Shell   \n",
       "80492                                Java;JavaScript;Lua   \n",
       "80546       C;Java;JavaScript;Python;Ruby;Swift;HTML;CSS   \n",
       "...                                                  ...   \n",
       "98816                                                NaN   \n",
       "98820                                                NaN   \n",
       "98844                                                NaN   \n",
       "98847                                                NaN   \n",
       "98850                                                NaN   \n",
       "\n",
       "                   FrameworkWorkedWith                Age  Salary  \\\n",
       "80458                 .NET Core;Django  18 - 24 years old     NaN   \n",
       "80459                  Angular;Node.js  18 - 24 years old  800000   \n",
       "80490                              NaN  18 - 24 years old     NaN   \n",
       "80492                           Spring                NaN     NaN   \n",
       "80546  Django;Node.js;React;TensorFlow  18 - 24 years old     NaN   \n",
       "...                                ...                ...     ...   \n",
       "98816                              NaN                NaN     NaN   \n",
       "98820                              NaN                NaN     NaN   \n",
       "98844                              NaN                NaN     NaN   \n",
       "98847                              NaN                NaN     NaN   \n",
       "98850                              NaN                NaN     NaN   \n",
       "\n",
       "       ConvertedSalary  \n",
       "80458              NaN  \n",
       "80459          12524.0  \n",
       "80490              NaN  \n",
       "80492              NaN  \n",
       "80546              NaN  \n",
       "...                ...  \n",
       "98816              NaN  \n",
       "98820              NaN  \n",
       "98844              NaN  \n",
       "98847              NaN  \n",
       "98850              NaN  \n",
       "\n",
       "[1470 rows x 11 columns]"
      ]
     },
     "execution_count": 32,
     "metadata": {},
     "output_type": "execute_result"
    }
   ],
   "source": [
    "# Employment null values #\n",
    "salaries4[salaries4[\"Employment\"].isna()]"
   ]
  },
  {
   "cell_type": "code",
   "execution_count": 33,
   "id": "88b365b6",
   "metadata": {},
   "outputs": [
    {
     "name": "stderr",
     "output_type": "stream",
     "text": [
      "<ipython-input-33-16edcce55980>:2: SettingWithCopyWarning: \n",
      "A value is trying to be set on a copy of a slice from a DataFrame\n",
      "\n",
      "See the caveats in the documentation: https://pandas.pydata.org/pandas-docs/stable/user_guide/indexing.html#returning-a-view-versus-a-copy\n",
      "  salaries4.dropna(subset=[\"Employment\"], inplace=True)\n"
     ]
    }
   ],
   "source": [
    "# Remove nan from Employment col\n",
    "salaries4.dropna(subset=[\"Employment\"], inplace=True)"
   ]
  },
  {
   "cell_type": "code",
   "execution_count": 34,
   "id": "f494c25d",
   "metadata": {
    "scrolled": true
   },
   "outputs": [
    {
     "data": {
      "text/html": [
       "<div>\n",
       "<style scoped>\n",
       "    .dataframe tbody tr th:only-of-type {\n",
       "        vertical-align: middle;\n",
       "    }\n",
       "\n",
       "    .dataframe tbody tr th {\n",
       "        vertical-align: top;\n",
       "    }\n",
       "\n",
       "    .dataframe thead th {\n",
       "        text-align: right;\n",
       "    }\n",
       "</style>\n",
       "<table border=\"1\" class=\"dataframe\">\n",
       "  <thead>\n",
       "    <tr style=\"text-align: right;\">\n",
       "      <th></th>\n",
       "      <th>Country</th>\n",
       "      <th>Employment</th>\n",
       "      <th>FormalEducation</th>\n",
       "      <th>DevType</th>\n",
       "      <th>YearsCodingProf</th>\n",
       "      <th>EducationTypes</th>\n",
       "      <th>LanguageWorkedWith</th>\n",
       "      <th>FrameworkWorkedWith</th>\n",
       "      <th>Age</th>\n",
       "      <th>Salary</th>\n",
       "      <th>ConvertedSalary</th>\n",
       "    </tr>\n",
       "  </thead>\n",
       "  <tbody>\n",
       "  </tbody>\n",
       "</table>\n",
       "</div>"
      ],
      "text/plain": [
       "Empty DataFrame\n",
       "Columns: [Country, Employment, FormalEducation, DevType, YearsCodingProf, EducationTypes, LanguageWorkedWith, FrameworkWorkedWith, Age, Salary, ConvertedSalary]\n",
       "Index: []"
      ]
     },
     "execution_count": 34,
     "metadata": {},
     "output_type": "execute_result"
    }
   ],
   "source": [
    "salaries4[salaries4[\"Employment\"].isnull()]"
   ]
  },
  {
   "cell_type": "code",
   "execution_count": 35,
   "id": "7a773230",
   "metadata": {},
   "outputs": [
    {
     "data": {
      "text/plain": [
       "Employed full-time                                      37916\n",
       "Independent contractor, freelancer, or self-employed     3687\n",
       "Not employed, but looking for work                       2734\n",
       "Employed part-time                                       2241\n",
       "Name: Employment, dtype: int64"
      ]
     },
     "execution_count": 35,
     "metadata": {},
     "output_type": "execute_result"
    }
   ],
   "source": [
    "salaries4[\"Employment\"].value_counts()"
   ]
  },
  {
   "cell_type": "code",
   "execution_count": 36,
   "id": "f1f54d06",
   "metadata": {},
   "outputs": [
    {
     "name": "stderr",
     "output_type": "stream",
     "text": [
      "C:\\ProgramData\\Anaconda3\\lib\\site-packages\\pandas\\core\\series.py:4509: SettingWithCopyWarning: \n",
      "A value is trying to be set on a copy of a slice from a DataFrame\n",
      "\n",
      "See the caveats in the documentation: https://pandas.pydata.org/pandas-docs/stable/user_guide/indexing.html#returning-a-view-versus-a-copy\n",
      "  return super().replace(\n"
     ]
    }
   ],
   "source": [
    "# Replace \"Independent contractor, freelancer, or self-employed\" with \"Independent contractor\" #\n",
    "salaries4[\"Employment\"].replace(\"Independent contractor, freelancer, or self-employed\",\"Independent contractor\",inplace=True)"
   ]
  },
  {
   "cell_type": "code",
   "execution_count": 37,
   "id": "d7724396",
   "metadata": {},
   "outputs": [],
   "source": [
    "# Replace \"Not employed, but looking for work\" with \"looking for work\" #\n",
    "salaries4[\"Employment\"].replace(\"Not employed, but looking for work\",\"looking for work\",inplace=True)"
   ]
  },
  {
   "cell_type": "code",
   "execution_count": 38,
   "id": "263e279f",
   "metadata": {},
   "outputs": [
    {
     "data": {
      "text/plain": [
       "Employed full-time        37916\n",
       "Independent contractor     3687\n",
       "looking for work           2734\n",
       "Employed part-time         2241\n",
       "Name: Employment, dtype: int64"
      ]
     },
     "execution_count": 38,
     "metadata": {},
     "output_type": "execute_result"
    }
   ],
   "source": [
    "salaries4[\"Employment\"].value_counts()"
   ]
  },
  {
   "cell_type": "code",
   "execution_count": null,
   "id": "c372963c",
   "metadata": {},
   "outputs": [],
   "source": []
  },
  {
   "cell_type": "markdown",
   "id": "2a1895cf",
   "metadata": {},
   "source": [
    "**Salary col**"
   ]
  },
  {
   "cell_type": "code",
   "execution_count": 39,
   "id": "7a18e313",
   "metadata": {},
   "outputs": [
    {
     "data": {
      "text/html": [
       "<div>\n",
       "<style scoped>\n",
       "    .dataframe tbody tr th:only-of-type {\n",
       "        vertical-align: middle;\n",
       "    }\n",
       "\n",
       "    .dataframe tbody tr th {\n",
       "        vertical-align: top;\n",
       "    }\n",
       "\n",
       "    .dataframe thead th {\n",
       "        text-align: right;\n",
       "    }\n",
       "</style>\n",
       "<table border=\"1\" class=\"dataframe\">\n",
       "  <thead>\n",
       "    <tr style=\"text-align: right;\">\n",
       "      <th></th>\n",
       "      <th>Country</th>\n",
       "      <th>Employment</th>\n",
       "      <th>FormalEducation</th>\n",
       "      <th>DevType</th>\n",
       "      <th>YearsCodingProf</th>\n",
       "      <th>EducationTypes</th>\n",
       "      <th>LanguageWorkedWith</th>\n",
       "      <th>FrameworkWorkedWith</th>\n",
       "      <th>Age</th>\n",
       "      <th>Salary</th>\n",
       "      <th>ConvertedSalary</th>\n",
       "    </tr>\n",
       "  </thead>\n",
       "  <tbody>\n",
       "    <tr>\n",
       "      <th>2</th>\n",
       "      <td>United States</td>\n",
       "      <td>Employed full-time</td>\n",
       "      <td>Associate degree</td>\n",
       "      <td>Engineering manager;Full-stack developer</td>\n",
       "      <td>6-8 years</td>\n",
       "      <td>NaN</td>\n",
       "      <td>NaN</td>\n",
       "      <td>NaN</td>\n",
       "      <td>NaN</td>\n",
       "      <td>NaN</td>\n",
       "      <td>NaN</td>\n",
       "    </tr>\n",
       "    <tr>\n",
       "      <th>3</th>\n",
       "      <td>United States</td>\n",
       "      <td>Employed full-time</td>\n",
       "      <td>Bachelor’s degree (BA, BS, B.Eng., etc.)</td>\n",
       "      <td>Full-stack developer</td>\n",
       "      <td>12-14 years</td>\n",
       "      <td>Completed an industry certification program (e...</td>\n",
       "      <td>C#;JavaScript;SQL;TypeScript;HTML;CSS;Bash/Shell</td>\n",
       "      <td>NaN</td>\n",
       "      <td>35 - 44 years old</td>\n",
       "      <td>NaN</td>\n",
       "      <td>NaN</td>\n",
       "    </tr>\n",
       "    <tr>\n",
       "      <th>9</th>\n",
       "      <td>India</td>\n",
       "      <td>Employed full-time</td>\n",
       "      <td>Bachelor’s degree (BA, BS, B.Eng., etc.)</td>\n",
       "      <td>Designer</td>\n",
       "      <td>NaN</td>\n",
       "      <td>NaN</td>\n",
       "      <td>NaN</td>\n",
       "      <td>NaN</td>\n",
       "      <td>NaN</td>\n",
       "      <td>NaN</td>\n",
       "      <td>NaN</td>\n",
       "    </tr>\n",
       "    <tr>\n",
       "      <th>11</th>\n",
       "      <td>India</td>\n",
       "      <td>Employed full-time</td>\n",
       "      <td>Bachelor’s degree (BA, BS, B.Eng., etc.)</td>\n",
       "      <td>Back-end developer;Front-end developer;Full-st...</td>\n",
       "      <td>NaN</td>\n",
       "      <td>NaN</td>\n",
       "      <td>NaN</td>\n",
       "      <td>NaN</td>\n",
       "      <td>NaN</td>\n",
       "      <td>NaN</td>\n",
       "      <td>NaN</td>\n",
       "    </tr>\n",
       "    <tr>\n",
       "      <th>13</th>\n",
       "      <td>India</td>\n",
       "      <td>Employed full-time</td>\n",
       "      <td>Bachelor’s degree (BA, BS, B.Eng., etc.)</td>\n",
       "      <td>Back-end developer;Full-stack developer</td>\n",
       "      <td>3-5 years</td>\n",
       "      <td>NaN</td>\n",
       "      <td>Java</td>\n",
       "      <td>Spring</td>\n",
       "      <td>NaN</td>\n",
       "      <td>NaN</td>\n",
       "      <td>NaN</td>\n",
       "    </tr>\n",
       "    <tr>\n",
       "      <th>16</th>\n",
       "      <td>United States</td>\n",
       "      <td>Employed part-time</td>\n",
       "      <td>Bachelor’s degree (BA, BS, B.Eng., etc.)</td>\n",
       "      <td>Student</td>\n",
       "      <td>NaN</td>\n",
       "      <td>NaN</td>\n",
       "      <td>NaN</td>\n",
       "      <td>NaN</td>\n",
       "      <td>NaN</td>\n",
       "      <td>NaN</td>\n",
       "      <td>NaN</td>\n",
       "    </tr>\n",
       "    <tr>\n",
       "      <th>18</th>\n",
       "      <td>India</td>\n",
       "      <td>Employed full-time</td>\n",
       "      <td>Bachelor’s degree (BA, BS, B.Eng., etc.)</td>\n",
       "      <td>Data or business analyst;Data scientist or mac...</td>\n",
       "      <td>3-5 years</td>\n",
       "      <td>Contributed to open source software</td>\n",
       "      <td>C;C++;C#</td>\n",
       "      <td>Angular</td>\n",
       "      <td>NaN</td>\n",
       "      <td>NaN</td>\n",
       "      <td>NaN</td>\n",
       "    </tr>\n",
       "    <tr>\n",
       "      <th>21</th>\n",
       "      <td>United States</td>\n",
       "      <td>Employed full-time</td>\n",
       "      <td>Bachelor’s degree (BA, BS, B.Eng., etc.)</td>\n",
       "      <td>Back-end developer;Desktop or enterprise appli...</td>\n",
       "      <td>24-26 years</td>\n",
       "      <td>Taken an online course in programming or softw...</td>\n",
       "      <td>C;C++;C#;Groovy;JavaScript;Python;SQL;HTML;CSS...</td>\n",
       "      <td>Django</td>\n",
       "      <td>45 - 54 years old</td>\n",
       "      <td>NaN</td>\n",
       "      <td>NaN</td>\n",
       "    </tr>\n",
       "    <tr>\n",
       "      <th>28</th>\n",
       "      <td>United States</td>\n",
       "      <td>Employed full-time</td>\n",
       "      <td>Bachelor’s degree (BA, BS, B.Eng., etc.)</td>\n",
       "      <td>Back-end developer;Data scientist or machine l...</td>\n",
       "      <td>3-5 years</td>\n",
       "      <td>NaN</td>\n",
       "      <td>NaN</td>\n",
       "      <td>NaN</td>\n",
       "      <td>NaN</td>\n",
       "      <td>NaN</td>\n",
       "      <td>NaN</td>\n",
       "    </tr>\n",
       "    <tr>\n",
       "      <th>29</th>\n",
       "      <td>United Kingdom</td>\n",
       "      <td>Employed full-time</td>\n",
       "      <td>Bachelor’s degree (BA, BS, B.Eng., etc.)</td>\n",
       "      <td>Back-end developer;Front-end developer;Full-st...</td>\n",
       "      <td>6-8 years</td>\n",
       "      <td>Taken an online course in programming or softw...</td>\n",
       "      <td>C#;Java;JavaScript;PHP;TypeScript;HTML;CSS</td>\n",
       "      <td>Angular;React</td>\n",
       "      <td>35 - 44 years old</td>\n",
       "      <td>NaN</td>\n",
       "      <td>NaN</td>\n",
       "    </tr>\n",
       "  </tbody>\n",
       "</table>\n",
       "</div>"
      ],
      "text/plain": [
       "           Country          Employment  \\\n",
       "2    United States  Employed full-time   \n",
       "3    United States  Employed full-time   \n",
       "9            India  Employed full-time   \n",
       "11           India  Employed full-time   \n",
       "13           India  Employed full-time   \n",
       "16   United States  Employed part-time   \n",
       "18           India  Employed full-time   \n",
       "21   United States  Employed full-time   \n",
       "28   United States  Employed full-time   \n",
       "29  United Kingdom  Employed full-time   \n",
       "\n",
       "                             FormalEducation  \\\n",
       "2                           Associate degree   \n",
       "3   Bachelor’s degree (BA, BS, B.Eng., etc.)   \n",
       "9   Bachelor’s degree (BA, BS, B.Eng., etc.)   \n",
       "11  Bachelor’s degree (BA, BS, B.Eng., etc.)   \n",
       "13  Bachelor’s degree (BA, BS, B.Eng., etc.)   \n",
       "16  Bachelor’s degree (BA, BS, B.Eng., etc.)   \n",
       "18  Bachelor’s degree (BA, BS, B.Eng., etc.)   \n",
       "21  Bachelor’s degree (BA, BS, B.Eng., etc.)   \n",
       "28  Bachelor’s degree (BA, BS, B.Eng., etc.)   \n",
       "29  Bachelor’s degree (BA, BS, B.Eng., etc.)   \n",
       "\n",
       "                                              DevType YearsCodingProf  \\\n",
       "2            Engineering manager;Full-stack developer       6-8 years   \n",
       "3                                Full-stack developer     12-14 years   \n",
       "9                                            Designer             NaN   \n",
       "11  Back-end developer;Front-end developer;Full-st...             NaN   \n",
       "13            Back-end developer;Full-stack developer       3-5 years   \n",
       "16                                            Student             NaN   \n",
       "18  Data or business analyst;Data scientist or mac...       3-5 years   \n",
       "21  Back-end developer;Desktop or enterprise appli...     24-26 years   \n",
       "28  Back-end developer;Data scientist or machine l...       3-5 years   \n",
       "29  Back-end developer;Front-end developer;Full-st...       6-8 years   \n",
       "\n",
       "                                       EducationTypes  \\\n",
       "2                                                 NaN   \n",
       "3   Completed an industry certification program (e...   \n",
       "9                                                 NaN   \n",
       "11                                                NaN   \n",
       "13                                                NaN   \n",
       "16                                                NaN   \n",
       "18                Contributed to open source software   \n",
       "21  Taken an online course in programming or softw...   \n",
       "28                                                NaN   \n",
       "29  Taken an online course in programming or softw...   \n",
       "\n",
       "                                   LanguageWorkedWith FrameworkWorkedWith  \\\n",
       "2                                                 NaN                 NaN   \n",
       "3    C#;JavaScript;SQL;TypeScript;HTML;CSS;Bash/Shell                 NaN   \n",
       "9                                                 NaN                 NaN   \n",
       "11                                                NaN                 NaN   \n",
       "13                                               Java              Spring   \n",
       "16                                                NaN                 NaN   \n",
       "18                                           C;C++;C#             Angular   \n",
       "21  C;C++;C#;Groovy;JavaScript;Python;SQL;HTML;CSS...              Django   \n",
       "28                                                NaN                 NaN   \n",
       "29         C#;Java;JavaScript;PHP;TypeScript;HTML;CSS       Angular;React   \n",
       "\n",
       "                  Age Salary  ConvertedSalary  \n",
       "2                 NaN    NaN              NaN  \n",
       "3   35 - 44 years old    NaN              NaN  \n",
       "9                 NaN    NaN              NaN  \n",
       "11                NaN    NaN              NaN  \n",
       "13                NaN    NaN              NaN  \n",
       "16                NaN    NaN              NaN  \n",
       "18                NaN    NaN              NaN  \n",
       "21  45 - 54 years old    NaN              NaN  \n",
       "28                NaN    NaN              NaN  \n",
       "29  35 - 44 years old    NaN              NaN  "
      ]
     },
     "execution_count": 39,
     "metadata": {},
     "output_type": "execute_result"
    }
   ],
   "source": [
    "# if there is no salary drop the row #\n",
    "salaries4[salaries4[\"Salary\"].isna()].head(10)"
   ]
  },
  {
   "cell_type": "code",
   "execution_count": 40,
   "id": "2a8999a8",
   "metadata": {},
   "outputs": [
    {
     "name": "stderr",
     "output_type": "stream",
     "text": [
      "<ipython-input-40-0700b2e50b28>:1: SettingWithCopyWarning: \n",
      "A value is trying to be set on a copy of a slice from a DataFrame\n",
      "\n",
      "See the caveats in the documentation: https://pandas.pydata.org/pandas-docs/stable/user_guide/indexing.html#returning-a-view-versus-a-copy\n",
      "  salaries4.dropna(subset=[\"Salary\"],inplace=True)\n"
     ]
    }
   ],
   "source": [
    "salaries4.dropna(subset=[\"Salary\"],inplace=True)"
   ]
  },
  {
   "cell_type": "code",
   "execution_count": 41,
   "id": "a3904505",
   "metadata": {},
   "outputs": [
    {
     "data": {
      "text/plain": [
       "0"
      ]
     },
     "execution_count": 41,
     "metadata": {},
     "output_type": "execute_result"
    }
   ],
   "source": [
    "# check if salary still has any null values #\n",
    "len(salaries4[salaries4[\"Salary\"].isna()])"
   ]
  },
  {
   "cell_type": "code",
   "execution_count": 42,
   "id": "cd9f86da",
   "metadata": {
    "scrolled": true
   },
   "outputs": [
    {
     "name": "stdout",
     "output_type": "stream",
     "text": [
      "<class 'pandas.core.frame.DataFrame'>\n",
      "Int64Index: 26299 entries, 1 to 89965\n",
      "Data columns (total 11 columns):\n",
      " #   Column               Non-Null Count  Dtype  \n",
      "---  ------               --------------  -----  \n",
      " 0   Country              26299 non-null  object \n",
      " 1   Employment           26299 non-null  object \n",
      " 2   FormalEducation      25918 non-null  object \n",
      " 3   DevType              26085 non-null  object \n",
      " 4   YearsCodingProf      25935 non-null  object \n",
      " 5   EducationTypes       25416 non-null  object \n",
      " 6   LanguageWorkedWith   25714 non-null  object \n",
      " 7   FrameworkWorkedWith  18063 non-null  object \n",
      " 8   Age                  24809 non-null  object \n",
      " 9   Salary               26299 non-null  object \n",
      " 10  ConvertedSalary      25754 non-null  float64\n",
      "dtypes: float64(1), object(10)\n",
      "memory usage: 2.4+ MB\n"
     ]
    }
   ],
   "source": [
    "salaries4.info()"
   ]
  },
  {
   "cell_type": "markdown",
   "id": "b2764b77",
   "metadata": {},
   "source": [
    "**FormalEducation**"
   ]
  },
  {
   "cell_type": "code",
   "execution_count": 43,
   "id": "38a66912",
   "metadata": {},
   "outputs": [
    {
     "data": {
      "text/plain": [
       "1              Bachelor’s degree (BA, BS, B.Eng., etc.)\n",
       "5              Bachelor’s degree (BA, BS, B.Eng., etc.)\n",
       "6     Some college/university study without earning ...\n",
       "8     Some college/university study without earning ...\n",
       "22             Bachelor’s degree (BA, BS, B.Eng., etc.)\n",
       "Name: FormalEducation, dtype: object"
      ]
     },
     "execution_count": 43,
     "metadata": {},
     "output_type": "execute_result"
    }
   ],
   "source": [
    "salaries4[\"FormalEducation\"].head()"
   ]
  },
  {
   "cell_type": "code",
   "execution_count": 44,
   "id": "d407f117",
   "metadata": {},
   "outputs": [
    {
     "data": {
      "text/plain": [
       "array(['Bachelor’s degree (BA, BS, B.Eng., etc.)',\n",
       "       'Some college/university study without earning a degree',\n",
       "       'Master’s degree (MA, MS, M.Eng., MBA, etc.)', 'Associate degree',\n",
       "       'Secondary school (e.g. American high school, German Realschule or Gymnasium, etc.)',\n",
       "       'Primary/elementary school',\n",
       "       'Other doctoral degree (Ph.D, Ed.D., etc.)', nan,\n",
       "       'I never completed any formal education',\n",
       "       'Professional degree (JD, MD, etc.)'], dtype=object)"
      ]
     },
     "execution_count": 44,
     "metadata": {},
     "output_type": "execute_result"
    }
   ],
   "source": [
    "salaries4[\"FormalEducation\"].unique()"
   ]
  },
  {
   "cell_type": "code",
   "execution_count": 45,
   "id": "936a2f10",
   "metadata": {},
   "outputs": [
    {
     "data": {
      "text/plain": [
       "Bachelor’s degree (BA, BS, B.Eng., etc.)                                              14010\n",
       "Master’s degree (MA, MS, M.Eng., MBA, etc.)                                            5452\n",
       "Some college/university study without earning a degree                                 3119\n",
       "Secondary school (e.g. American high school, German Realschule or Gymnasium, etc.)     1396\n",
       "Associate degree                                                                        945\n",
       "Other doctoral degree (Ph.D, Ed.D., etc.)                                               706\n",
       "Professional degree (JD, MD, etc.)                                                      121\n",
       "Primary/elementary school                                                               100\n",
       "I never completed any formal education                                                   69\n",
       "Name: FormalEducation, dtype: int64"
      ]
     },
     "execution_count": 45,
     "metadata": {},
     "output_type": "execute_result"
    }
   ],
   "source": [
    "salaries4[\"FormalEducation\"].value_counts()"
   ]
  },
  {
   "cell_type": "code",
   "execution_count": 46,
   "id": "28c789e8",
   "metadata": {},
   "outputs": [],
   "source": [
    "# Deal with null values #"
   ]
  },
  {
   "cell_type": "code",
   "execution_count": 47,
   "id": "52096b32",
   "metadata": {},
   "outputs": [],
   "source": [
    "# we categorize the education into level:\n",
    "\n",
    "# High --> 'Master’s degree (MA, MS, M.Eng., MBA, etc.)','Other doctoral degree (Ph.D, Ed.D., etc.)'\n",
    "# Medium --> 'Bachelor’s degree (BA, BS, B.Eng., etc.)','Some college/university study without earning a degree','Associate degree', 'Professional degree (JD, MD, etc.)'\n",
    "# low --> 'Primary/elementary school','Secondary school (e.g. American high school, German Realschule or Gymnasium, etc.)','I never completed any formal education',nan"
   ]
  },
  {
   "cell_type": "code",
   "execution_count": 48,
   "id": "02fc774f",
   "metadata": {},
   "outputs": [
    {
     "name": "stderr",
     "output_type": "stream",
     "text": [
      "C:\\ProgramData\\Anaconda3\\lib\\site-packages\\pandas\\core\\series.py:4509: SettingWithCopyWarning: \n",
      "A value is trying to be set on a copy of a slice from a DataFrame\n",
      "\n",
      "See the caveats in the documentation: https://pandas.pydata.org/pandas-docs/stable/user_guide/indexing.html#returning-a-view-versus-a-copy\n",
      "  return super().replace(\n"
     ]
    }
   ],
   "source": [
    "salaries4[\"FormalEducation\"].replace([\"Master’s degree (MA, MS, M.Eng., MBA, etc.)\",\"Other doctoral degree (Ph.D, Ed.D., etc.)\"], \"High\", inplace=True)\n",
    "salaries4[\"FormalEducation\"].replace([\"Bachelor’s degree (BA, BS, B.Eng., etc.)\",\"Some college/university study without earning a degree\",\"Associate degree\", \"Professional degree (JD, MD, etc.)\"],\"Medium\", inplace=True)\n",
    "salaries4[\"FormalEducation\"].replace([\"Primary/elementary school\",\"Secondary school (e.g. American high school, German Realschule or Gymnasium, etc.)\",\"I never completed any formal education\",np.nan],\"Low\", inplace=True)"
   ]
  },
  {
   "cell_type": "code",
   "execution_count": 49,
   "id": "68a1a818",
   "metadata": {},
   "outputs": [
    {
     "data": {
      "text/plain": [
       "array(['Medium', 'High', 'Low'], dtype=object)"
      ]
     },
     "execution_count": 49,
     "metadata": {},
     "output_type": "execute_result"
    }
   ],
   "source": [
    "salaries4[\"FormalEducation\"].unique()"
   ]
  },
  {
   "cell_type": "code",
   "execution_count": 50,
   "id": "c3082d43",
   "metadata": {},
   "outputs": [
    {
     "name": "stdout",
     "output_type": "stream",
     "text": [
      "<class 'pandas.core.frame.DataFrame'>\n",
      "Int64Index: 26299 entries, 1 to 89965\n",
      "Data columns (total 11 columns):\n",
      " #   Column               Non-Null Count  Dtype  \n",
      "---  ------               --------------  -----  \n",
      " 0   Country              26299 non-null  object \n",
      " 1   Employment           26299 non-null  object \n",
      " 2   FormalEducation      26299 non-null  object \n",
      " 3   DevType              26085 non-null  object \n",
      " 4   YearsCodingProf      25935 non-null  object \n",
      " 5   EducationTypes       25416 non-null  object \n",
      " 6   LanguageWorkedWith   25714 non-null  object \n",
      " 7   FrameworkWorkedWith  18063 non-null  object \n",
      " 8   Age                  24809 non-null  object \n",
      " 9   Salary               26299 non-null  object \n",
      " 10  ConvertedSalary      25754 non-null  float64\n",
      "dtypes: float64(1), object(10)\n",
      "memory usage: 2.4+ MB\n"
     ]
    }
   ],
   "source": [
    "salaries4.info()"
   ]
  },
  {
   "cell_type": "code",
   "execution_count": null,
   "id": "f9e6412f",
   "metadata": {},
   "outputs": [],
   "source": []
  },
  {
   "cell_type": "markdown",
   "id": "3d284ae6",
   "metadata": {},
   "source": [
    "**DevType**"
   ]
  },
  {
   "cell_type": "code",
   "execution_count": 51,
   "id": "faacf1de",
   "metadata": {},
   "outputs": [
    {
     "data": {
      "text/plain": [
       "array(['Database administrator;DevOps specialist;Full-stack developer;System administrator',\n",
       "       'Back-end developer;Database administrator;Front-end developer;Full-stack developer',\n",
       "       'Back-end developer;Front-end developer;Full-stack developer', ...,\n",
       "       'Back-end developer;Data or business analyst;Data scientist or machine learning specialist;Student',\n",
       "       'Back-end developer;Data scientist or machine learning specialist;Database administrator;Designer;Desktop or enterprise applications developer;Front-end developer;Full-stack developer;Student',\n",
       "       'Back-end developer;Database administrator;Desktop or enterprise applications developer;Front-end developer;Full-stack developer;Mobile developer;Product manager;QA or test developer;Student'],\n",
       "      dtype=object)"
      ]
     },
     "execution_count": 51,
     "metadata": {},
     "output_type": "execute_result"
    }
   ],
   "source": [
    "salaries4[\"DevType\"].unique()"
   ]
  },
  {
   "cell_type": "code",
   "execution_count": 52,
   "id": "e3db0cf4",
   "metadata": {},
   "outputs": [
    {
     "data": {
      "text/plain": [
       "Full-stack developer                                                                                                                                                          2111\n",
       "Back-end developer                                                                                                                                                            1789\n",
       "Back-end developer;Front-end developer;Full-stack developer                                                                                                                   1447\n",
       "Back-end developer;Full-stack developer                                                                                                                                       1065\n",
       "Mobile developer                                                                                                                                                               929\n",
       "                                                                                                                                                                              ... \n",
       "Desktop or enterprise applications developer;DevOps specialist;Embedded applications or devices developer;System administrator                                                   1\n",
       "Database administrator;Educator or academic researcher;Engineering manager;Front-end developer;Full-stack developer;System administrator                                         1\n",
       "Back-end developer;Data scientist or machine learning specialist;Database administrator;Desktop or enterprise applications developer;Full-stack developer;Mobile developer       1\n",
       "Back-end developer;Data scientist or machine learning specialist;Designer;DevOps specialist;Front-end developer;Full-stack developer;Student                                     1\n",
       "Data or business analyst;Designer;Front-end developer;QA or test developer                                                                                                       1\n",
       "Name: DevType, Length: 3993, dtype: int64"
      ]
     },
     "execution_count": 52,
     "metadata": {},
     "output_type": "execute_result"
    }
   ],
   "source": [
    "salaries4[\"DevType\"].value_counts()"
   ]
  },
  {
   "cell_type": "code",
   "execution_count": 53,
   "id": "335c1c44",
   "metadata": {},
   "outputs": [
    {
     "data": {
      "text/plain": [
       "'Database administrator;DevOps specialist;Full-stack developer;System administrator'"
      ]
     },
     "execution_count": 53,
     "metadata": {},
     "output_type": "execute_result"
    }
   ],
   "source": [
    "salaries4.loc[1,\"DevType\"]"
   ]
  },
  {
   "cell_type": "code",
   "execution_count": 54,
   "id": "a8ce3d2a",
   "metadata": {},
   "outputs": [
    {
     "data": {
      "text/plain": [
       "1     Database administrator;DevOps specialist;Full-...\n",
       "5     Back-end developer;Database administrator;Fron...\n",
       "6     Back-end developer;Front-end developer;Full-st...\n",
       "8     Back-end developer;C-suite executive (CEO, CTO...\n",
       "22    Back-end developer;Database administrator;Desi...\n",
       "Name: DevType, dtype: object"
      ]
     },
     "execution_count": 54,
     "metadata": {},
     "output_type": "execute_result"
    }
   ],
   "source": [
    "salaries4[\"DevType\"].head()"
   ]
  },
  {
   "cell_type": "code",
   "execution_count": 55,
   "id": "c2612023",
   "metadata": {},
   "outputs": [
    {
     "data": {
      "text/plain": [
       "1     [Database administrator, DevOps specialist, Fu...\n",
       "5     [Back-end developer, Database administrator, F...\n",
       "6     [Back-end developer, Front-end developer, Full...\n",
       "8     [Back-end developer, C-suite executive (CEO, C...\n",
       "22    [Back-end developer, Database administrator, D...\n",
       "Name: DevType, dtype: object"
      ]
     },
     "execution_count": 55,
     "metadata": {},
     "output_type": "execute_result"
    }
   ],
   "source": [
    "# Change the entries in the Devtype col to list # \n",
    "salaries4[\"DevType\"].str.split(\";\").head()"
   ]
  },
  {
   "cell_type": "code",
   "execution_count": 56,
   "id": "9ac487a9",
   "metadata": {},
   "outputs": [
    {
     "data": {
      "text/plain": [
       "1     Database administrator\n",
       "5         Back-end developer\n",
       "6         Back-end developer\n",
       "8         Back-end developer\n",
       "22        Back-end developer\n",
       "Name: DevType, dtype: object"
      ]
     },
     "execution_count": 56,
     "metadata": {},
     "output_type": "execute_result"
    }
   ],
   "source": [
    "# From each list entry choose the first choice #\n",
    "salaries4[\"DevType\"].str.split(\";\").str[0].head()"
   ]
  },
  {
   "cell_type": "code",
   "execution_count": 57,
   "id": "403378ac",
   "metadata": {},
   "outputs": [
    {
     "name": "stderr",
     "output_type": "stream",
     "text": [
      "<ipython-input-57-fbce09215c00>:2: SettingWithCopyWarning: \n",
      "A value is trying to be set on a copy of a slice from a DataFrame.\n",
      "Try using .loc[row_indexer,col_indexer] = value instead\n",
      "\n",
      "See the caveats in the documentation: https://pandas.pydata.org/pandas-docs/stable/user_guide/indexing.html#returning-a-view-versus-a-copy\n",
      "  salaries4[\"DevType\"] = salaries4[\"DevType\"].str.split(\";\").str[0]\n"
     ]
    }
   ],
   "source": [
    "# save changes #\n",
    "salaries4[\"DevType\"] = salaries4[\"DevType\"].str.split(\";\").str[0]"
   ]
  },
  {
   "cell_type": "code",
   "execution_count": 58,
   "id": "d0f78b36",
   "metadata": {},
   "outputs": [
    {
     "data": {
      "text/plain": [
       "array(['Database administrator', 'Back-end developer', 'Mobile developer',\n",
       "       'Full-stack developer', 'Designer', 'Front-end developer',\n",
       "       'Engineering manager',\n",
       "       'Embedded applications or devices developer',\n",
       "       'Data scientist or machine learning specialist',\n",
       "       'Desktop or enterprise applications developer',\n",
       "       'C-suite executive (CEO, CTO, etc.)', 'QA or test developer',\n",
       "       'System administrator', 'Data or business analyst',\n",
       "       'DevOps specialist', nan, 'Educator or academic researcher',\n",
       "       'Student', 'Game or graphics developer', 'Product manager',\n",
       "       'Marketing or sales professional'], dtype=object)"
      ]
     },
     "execution_count": 58,
     "metadata": {},
     "output_type": "execute_result"
    }
   ],
   "source": [
    "salaries4[\"DevType\"].unique()"
   ]
  },
  {
   "cell_type": "code",
   "execution_count": 59,
   "id": "3b338b7b",
   "metadata": {},
   "outputs": [
    {
     "data": {
      "text/plain": [
       "Back-end developer                               15479\n",
       "Full-stack developer                              2446\n",
       "Front-end developer                               1636\n",
       "Mobile developer                                   990\n",
       "Desktop or enterprise applications developer       939\n",
       "Data or business analyst                           807\n",
       "Data scientist or machine learning specialist      688\n",
       "Designer                                           607\n",
       "DevOps specialist                                  488\n",
       "Embedded applications or devices developer         423\n",
       "Database administrator                             329\n",
       "Engineering manager                                275\n",
       "Student                                            251\n",
       "C-suite executive (CEO, CTO, etc.)                 239\n",
       "QA or test developer                               199\n",
       "Educator or academic researcher                    124\n",
       "Game or graphics developer                          72\n",
       "System administrator                                72\n",
       "Product manager                                     14\n",
       "Marketing or sales professional                      7\n",
       "Name: DevType, dtype: int64"
      ]
     },
     "execution_count": 59,
     "metadata": {},
     "output_type": "execute_result"
    }
   ],
   "source": [
    "salaries4[\"DevType\"].value_counts()"
   ]
  },
  {
   "cell_type": "code",
   "execution_count": 60,
   "id": "aad924ab",
   "metadata": {},
   "outputs": [
    {
     "data": {
      "text/html": [
       "<div>\n",
       "<style scoped>\n",
       "    .dataframe tbody tr th:only-of-type {\n",
       "        vertical-align: middle;\n",
       "    }\n",
       "\n",
       "    .dataframe tbody tr th {\n",
       "        vertical-align: top;\n",
       "    }\n",
       "\n",
       "    .dataframe thead th {\n",
       "        text-align: right;\n",
       "    }\n",
       "</style>\n",
       "<table border=\"1\" class=\"dataframe\">\n",
       "  <thead>\n",
       "    <tr style=\"text-align: right;\">\n",
       "      <th></th>\n",
       "      <th>Country</th>\n",
       "      <th>Employment</th>\n",
       "      <th>FormalEducation</th>\n",
       "      <th>DevType</th>\n",
       "      <th>YearsCodingProf</th>\n",
       "      <th>EducationTypes</th>\n",
       "      <th>LanguageWorkedWith</th>\n",
       "      <th>FrameworkWorkedWith</th>\n",
       "      <th>Age</th>\n",
       "      <th>Salary</th>\n",
       "      <th>ConvertedSalary</th>\n",
       "    </tr>\n",
       "  </thead>\n",
       "  <tbody>\n",
       "    <tr>\n",
       "      <th>461</th>\n",
       "      <td>Canada</td>\n",
       "      <td>Employed full-time</td>\n",
       "      <td>Medium</td>\n",
       "      <td>NaN</td>\n",
       "      <td>30 or more years</td>\n",
       "      <td>Received on-the-job training in software devel...</td>\n",
       "      <td>C;C++;Python;Bash/Shell</td>\n",
       "      <td>NaN</td>\n",
       "      <td>NaN</td>\n",
       "      <td>120000</td>\n",
       "      <td>96626.0</td>\n",
       "    </tr>\n",
       "    <tr>\n",
       "      <th>1868</th>\n",
       "      <td>United States</td>\n",
       "      <td>Employed full-time</td>\n",
       "      <td>Medium</td>\n",
       "      <td>NaN</td>\n",
       "      <td>3-5 years</td>\n",
       "      <td>Taught yourself a new language, framework, or ...</td>\n",
       "      <td>C++</td>\n",
       "      <td>NaN</td>\n",
       "      <td>18 - 24 years old</td>\n",
       "      <td>70000</td>\n",
       "      <td>70000.0</td>\n",
       "    </tr>\n",
       "    <tr>\n",
       "      <th>2044</th>\n",
       "      <td>Canada</td>\n",
       "      <td>Employed full-time</td>\n",
       "      <td>Medium</td>\n",
       "      <td>NaN</td>\n",
       "      <td>6-8 years</td>\n",
       "      <td>Received on-the-job training in software devel...</td>\n",
       "      <td>Assembly;C;C++;Java;Perl;Cobol;Bash/Shell</td>\n",
       "      <td>NaN</td>\n",
       "      <td>25 - 34 years old</td>\n",
       "      <td>98000</td>\n",
       "      <td>78911.0</td>\n",
       "    </tr>\n",
       "    <tr>\n",
       "      <th>3237</th>\n",
       "      <td>United Kingdom</td>\n",
       "      <td>Employed full-time</td>\n",
       "      <td>High</td>\n",
       "      <td>NaN</td>\n",
       "      <td>24-26 years</td>\n",
       "      <td>Received on-the-job training in software devel...</td>\n",
       "      <td>C++;C#;JavaScript;Python</td>\n",
       "      <td>.NET Core</td>\n",
       "      <td>45 - 54 years old</td>\n",
       "      <td>50000</td>\n",
       "      <td>69452.0</td>\n",
       "    </tr>\n",
       "    <tr>\n",
       "      <th>3448</th>\n",
       "      <td>United States</td>\n",
       "      <td>Employed full-time</td>\n",
       "      <td>Medium</td>\n",
       "      <td>NaN</td>\n",
       "      <td>3-5 years</td>\n",
       "      <td>Taught yourself a new language, framework, or ...</td>\n",
       "      <td>C;C++;Python</td>\n",
       "      <td>NaN</td>\n",
       "      <td>25 - 34 years old</td>\n",
       "      <td>96000</td>\n",
       "      <td>96000.0</td>\n",
       "    </tr>\n",
       "    <tr>\n",
       "      <th>...</th>\n",
       "      <td>...</td>\n",
       "      <td>...</td>\n",
       "      <td>...</td>\n",
       "      <td>...</td>\n",
       "      <td>...</td>\n",
       "      <td>...</td>\n",
       "      <td>...</td>\n",
       "      <td>...</td>\n",
       "      <td>...</td>\n",
       "      <td>...</td>\n",
       "      <td>...</td>\n",
       "    </tr>\n",
       "    <tr>\n",
       "      <th>87930</th>\n",
       "      <td>India</td>\n",
       "      <td>looking for work</td>\n",
       "      <td>Medium</td>\n",
       "      <td>NaN</td>\n",
       "      <td>NaN</td>\n",
       "      <td>Taken a part-time in-person course in programm...</td>\n",
       "      <td>C;Java;Matlab;Python;HTML;CSS</td>\n",
       "      <td>TensorFlow;Torch/PyTorch</td>\n",
       "      <td>18 - 24 years old</td>\n",
       "      <td>0</td>\n",
       "      <td>NaN</td>\n",
       "    </tr>\n",
       "    <tr>\n",
       "      <th>88418</th>\n",
       "      <td>United States</td>\n",
       "      <td>Employed part-time</td>\n",
       "      <td>Low</td>\n",
       "      <td>NaN</td>\n",
       "      <td>NaN</td>\n",
       "      <td>Received on-the-job training in software devel...</td>\n",
       "      <td>C++;C#;JavaScript;Matlab;Ruby;SQL;HTML;CSS</td>\n",
       "      <td>.NET Core</td>\n",
       "      <td>18 - 24 years old</td>\n",
       "      <td>100</td>\n",
       "      <td>5000.0</td>\n",
       "    </tr>\n",
       "    <tr>\n",
       "      <th>88732</th>\n",
       "      <td>India</td>\n",
       "      <td>looking for work</td>\n",
       "      <td>Medium</td>\n",
       "      <td>NaN</td>\n",
       "      <td>NaN</td>\n",
       "      <td>Contributed to open source software</td>\n",
       "      <td>C++</td>\n",
       "      <td>NaN</td>\n",
       "      <td>NaN</td>\n",
       "      <td>800</td>\n",
       "      <td>650.0</td>\n",
       "    </tr>\n",
       "    <tr>\n",
       "      <th>89398</th>\n",
       "      <td>United States</td>\n",
       "      <td>looking for work</td>\n",
       "      <td>Medium</td>\n",
       "      <td>NaN</td>\n",
       "      <td>NaN</td>\n",
       "      <td>Taken a part-time in-person course in programm...</td>\n",
       "      <td>C;VB.NET;Visual Basic 6;Bash/Shell</td>\n",
       "      <td>.NET Core</td>\n",
       "      <td>18 - 24 years old</td>\n",
       "      <td>25000</td>\n",
       "      <td>25000.0</td>\n",
       "    </tr>\n",
       "    <tr>\n",
       "      <th>89871</th>\n",
       "      <td>United Kingdom</td>\n",
       "      <td>Employed part-time</td>\n",
       "      <td>Medium</td>\n",
       "      <td>NaN</td>\n",
       "      <td>NaN</td>\n",
       "      <td>Participated in online coding competitions (e....</td>\n",
       "      <td>Java;Python;SQL;HTML;CSS</td>\n",
       "      <td>NaN</td>\n",
       "      <td>18 - 24 years old</td>\n",
       "      <td>200</td>\n",
       "      <td>13900.0</td>\n",
       "    </tr>\n",
       "  </tbody>\n",
       "</table>\n",
       "<p>214 rows × 11 columns</p>\n",
       "</div>"
      ],
      "text/plain": [
       "              Country          Employment FormalEducation DevType  \\\n",
       "461            Canada  Employed full-time          Medium     NaN   \n",
       "1868    United States  Employed full-time          Medium     NaN   \n",
       "2044           Canada  Employed full-time          Medium     NaN   \n",
       "3237   United Kingdom  Employed full-time            High     NaN   \n",
       "3448    United States  Employed full-time          Medium     NaN   \n",
       "...               ...                 ...             ...     ...   \n",
       "87930           India    looking for work          Medium     NaN   \n",
       "88418   United States  Employed part-time             Low     NaN   \n",
       "88732           India    looking for work          Medium     NaN   \n",
       "89398   United States    looking for work          Medium     NaN   \n",
       "89871  United Kingdom  Employed part-time          Medium     NaN   \n",
       "\n",
       "        YearsCodingProf                                     EducationTypes  \\\n",
       "461    30 or more years  Received on-the-job training in software devel...   \n",
       "1868          3-5 years  Taught yourself a new language, framework, or ...   \n",
       "2044          6-8 years  Received on-the-job training in software devel...   \n",
       "3237        24-26 years  Received on-the-job training in software devel...   \n",
       "3448          3-5 years  Taught yourself a new language, framework, or ...   \n",
       "...                 ...                                                ...   \n",
       "87930               NaN  Taken a part-time in-person course in programm...   \n",
       "88418               NaN  Received on-the-job training in software devel...   \n",
       "88732               NaN                Contributed to open source software   \n",
       "89398               NaN  Taken a part-time in-person course in programm...   \n",
       "89871               NaN  Participated in online coding competitions (e....   \n",
       "\n",
       "                               LanguageWorkedWith       FrameworkWorkedWith  \\\n",
       "461                       C;C++;Python;Bash/Shell                       NaN   \n",
       "1868                                          C++                       NaN   \n",
       "2044    Assembly;C;C++;Java;Perl;Cobol;Bash/Shell                       NaN   \n",
       "3237                     C++;C#;JavaScript;Python                 .NET Core   \n",
       "3448                                 C;C++;Python                       NaN   \n",
       "...                                           ...                       ...   \n",
       "87930               C;Java;Matlab;Python;HTML;CSS  TensorFlow;Torch/PyTorch   \n",
       "88418  C++;C#;JavaScript;Matlab;Ruby;SQL;HTML;CSS                 .NET Core   \n",
       "88732                                         C++                       NaN   \n",
       "89398          C;VB.NET;Visual Basic 6;Bash/Shell                 .NET Core   \n",
       "89871                    Java;Python;SQL;HTML;CSS                       NaN   \n",
       "\n",
       "                     Age  Salary  ConvertedSalary  \n",
       "461                  NaN  120000          96626.0  \n",
       "1868   18 - 24 years old   70000          70000.0  \n",
       "2044   25 - 34 years old   98000          78911.0  \n",
       "3237   45 - 54 years old   50000          69452.0  \n",
       "3448   25 - 34 years old   96000          96000.0  \n",
       "...                  ...     ...              ...  \n",
       "87930  18 - 24 years old       0              NaN  \n",
       "88418  18 - 24 years old     100           5000.0  \n",
       "88732                NaN     800            650.0  \n",
       "89398  18 - 24 years old   25000          25000.0  \n",
       "89871  18 - 24 years old     200          13900.0  \n",
       "\n",
       "[214 rows x 11 columns]"
      ]
     },
     "execution_count": 60,
     "metadata": {},
     "output_type": "execute_result"
    }
   ],
   "source": [
    "# view null values in DevType col #\n",
    "salaries4[salaries4[\"DevType\"].isna()]"
   ]
  },
  {
   "cell_type": "code",
   "execution_count": 61,
   "id": "969a2957",
   "metadata": {},
   "outputs": [
    {
     "name": "stderr",
     "output_type": "stream",
     "text": [
      "<ipython-input-61-53d47661edca>:2: SettingWithCopyWarning: \n",
      "A value is trying to be set on a copy of a slice from a DataFrame\n",
      "\n",
      "See the caveats in the documentation: https://pandas.pydata.org/pandas-docs/stable/user_guide/indexing.html#returning-a-view-versus-a-copy\n",
      "  salaries4.dropna(subset=[\"DevType\"], inplace=True)\n"
     ]
    }
   ],
   "source": [
    "# drop null in DevType values #\n",
    "salaries4.dropna(subset=[\"DevType\"], inplace=True)"
   ]
  },
  {
   "cell_type": "code",
   "execution_count": 62,
   "id": "684af2d0",
   "metadata": {},
   "outputs": [
    {
     "name": "stdout",
     "output_type": "stream",
     "text": [
      "<class 'pandas.core.frame.DataFrame'>\n",
      "Int64Index: 26085 entries, 1 to 89965\n",
      "Data columns (total 11 columns):\n",
      " #   Column               Non-Null Count  Dtype  \n",
      "---  ------               --------------  -----  \n",
      " 0   Country              26085 non-null  object \n",
      " 1   Employment           26085 non-null  object \n",
      " 2   FormalEducation      26085 non-null  object \n",
      " 3   DevType              26085 non-null  object \n",
      " 4   YearsCodingProf      25760 non-null  object \n",
      " 5   EducationTypes       25211 non-null  object \n",
      " 6   LanguageWorkedWith   25506 non-null  object \n",
      " 7   FrameworkWorkedWith  17971 non-null  object \n",
      " 8   Age                  24615 non-null  object \n",
      " 9   Salary               26085 non-null  object \n",
      " 10  ConvertedSalary      25546 non-null  float64\n",
      "dtypes: float64(1), object(10)\n",
      "memory usage: 2.4+ MB\n"
     ]
    }
   ],
   "source": [
    "salaries4.info()"
   ]
  },
  {
   "cell_type": "markdown",
   "id": "6b4c6780",
   "metadata": {},
   "source": [
    "**YearsCodingProf**"
   ]
  },
  {
   "cell_type": "code",
   "execution_count": 63,
   "id": "0f8f5c60",
   "metadata": {},
   "outputs": [
    {
     "data": {
      "text/plain": [
       "array(['18-20 years', '3-5 years', '0-2 years', '21-23 years',\n",
       "       '6-8 years', '9-11 years', '12-14 years', '15-17 years',\n",
       "       '30 or more years', '24-26 years', '27-29 years', nan],\n",
       "      dtype=object)"
      ]
     },
     "execution_count": 63,
     "metadata": {},
     "output_type": "execute_result"
    }
   ],
   "source": [
    "salaries4[\"YearsCodingProf\"].unique()"
   ]
  },
  {
   "cell_type": "code",
   "execution_count": 64,
   "id": "cb20e3de",
   "metadata": {},
   "outputs": [
    {
     "data": {
      "text/plain": [
       "3-5 years           7286\n",
       "0-2 years           5995\n",
       "6-8 years           3924\n",
       "9-11 years          2763\n",
       "12-14 years         1621\n",
       "18-20 years         1209\n",
       "15-17 years         1206\n",
       "21-23 years          605\n",
       "30 or more years     547\n",
       "24-26 years          386\n",
       "27-29 years          218\n",
       "Name: YearsCodingProf, dtype: int64"
      ]
     },
     "execution_count": 64,
     "metadata": {},
     "output_type": "execute_result"
    }
   ],
   "source": [
    "salaries4[\"YearsCodingProf\"].value_counts()"
   ]
  },
  {
   "cell_type": "markdown",
   "id": "1f0c13b5",
   "metadata": {},
   "source": [
    "replacing:\n",
    "\n",
    "- 0-2 years --> 1 etc"
   ]
  },
  {
   "cell_type": "code",
   "execution_count": 65,
   "id": "90f29ed1",
   "metadata": {},
   "outputs": [
    {
     "name": "stderr",
     "output_type": "stream",
     "text": [
      "C:\\ProgramData\\Anaconda3\\lib\\site-packages\\pandas\\core\\series.py:4509: SettingWithCopyWarning: \n",
      "A value is trying to be set on a copy of a slice from a DataFrame\n",
      "\n",
      "See the caveats in the documentation: https://pandas.pydata.org/pandas-docs/stable/user_guide/indexing.html#returning-a-view-versus-a-copy\n",
      "  return super().replace(\n"
     ]
    }
   ],
   "source": [
    "salaries4[\"YearsCodingProf\"].replace('0-2 years',1,inplace=True)\n",
    "salaries4[\"YearsCodingProf\"].replace('6-8 years',7,inplace=True)\n",
    "salaries4[\"YearsCodingProf\"].replace(np.nan,0,inplace=True)\n",
    "salaries4[\"YearsCodingProf\"].replace('3-5 years',5,inplace=True)\n",
    "salaries4[\"YearsCodingProf\"].replace('27-29 years',28,inplace=True)\n",
    "salaries4[\"YearsCodingProf\"].replace('18-20 years',19,inplace=True)\n",
    "salaries4[\"YearsCodingProf\"].replace('12-14 years',13,inplace=True)\n",
    "salaries4[\"YearsCodingProf\"].replace('9-11 years',10,inplace=True)\n",
    "salaries4[\"YearsCodingProf\"].replace('21-23 years',22,inplace=True)\n",
    "salaries4[\"YearsCodingProf\"].replace('15-17 years',16,inplace=True)\n",
    "salaries4[\"YearsCodingProf\"].replace('24-26 years',25,inplace=True)\n",
    "salaries4[\"YearsCodingProf\"].replace('30 or more years',30,inplace=True)"
   ]
  },
  {
   "cell_type": "code",
   "execution_count": 66,
   "id": "686e2eee",
   "metadata": {},
   "outputs": [
    {
     "data": {
      "text/plain": [
       "array([19,  5,  1, 22,  7, 10, 13, 16, 30, 25, 28,  0], dtype=int64)"
      ]
     },
     "execution_count": 66,
     "metadata": {},
     "output_type": "execute_result"
    }
   ],
   "source": [
    "salaries4[\"YearsCodingProf\"].unique()"
   ]
  },
  {
   "cell_type": "code",
   "execution_count": 67,
   "id": "57232b16",
   "metadata": {},
   "outputs": [
    {
     "name": "stdout",
     "output_type": "stream",
     "text": [
      "<class 'pandas.core.frame.DataFrame'>\n",
      "Int64Index: 26085 entries, 1 to 89965\n",
      "Data columns (total 11 columns):\n",
      " #   Column               Non-Null Count  Dtype  \n",
      "---  ------               --------------  -----  \n",
      " 0   Country              26085 non-null  object \n",
      " 1   Employment           26085 non-null  object \n",
      " 2   FormalEducation      26085 non-null  object \n",
      " 3   DevType              26085 non-null  object \n",
      " 4   YearsCodingProf      26085 non-null  int64  \n",
      " 5   EducationTypes       25211 non-null  object \n",
      " 6   LanguageWorkedWith   25506 non-null  object \n",
      " 7   FrameworkWorkedWith  17971 non-null  object \n",
      " 8   Age                  24615 non-null  object \n",
      " 9   Salary               26085 non-null  object \n",
      " 10  ConvertedSalary      25546 non-null  float64\n",
      "dtypes: float64(1), int64(1), object(9)\n",
      "memory usage: 2.4+ MB\n"
     ]
    }
   ],
   "source": [
    "salaries4.info()"
   ]
  },
  {
   "cell_type": "code",
   "execution_count": null,
   "id": "cc488a94",
   "metadata": {},
   "outputs": [],
   "source": []
  },
  {
   "cell_type": "markdown",
   "id": "a967049c",
   "metadata": {},
   "source": [
    "**EducationTypes**"
   ]
  },
  {
   "cell_type": "code",
   "execution_count": 68,
   "id": "3e3aba02",
   "metadata": {},
   "outputs": [
    {
     "data": {
      "text/plain": [
       "439"
      ]
     },
     "execution_count": 68,
     "metadata": {},
     "output_type": "execute_result"
    }
   ],
   "source": [
    "len(salaries4[\"EducationTypes\"].unique())"
   ]
  },
  {
   "cell_type": "code",
   "execution_count": 69,
   "id": "c03d28c6",
   "metadata": {},
   "outputs": [
    {
     "data": {
      "text/plain": [
       "Taught yourself a new language, framework, or tool without taking a formal course                                                                                                                                     2269\n",
       "Taught yourself a new language, framework, or tool without taking a formal course;Contributed to open source software                                                                                                 1574\n",
       "Taken an online course in programming or software development (e.g. a MOOC);Taught yourself a new language, framework, or tool without taking a formal course                                                         1343\n",
       "Received on-the-job training in software development;Taught yourself a new language, framework, or tool without taking a formal course                                                                                1142\n",
       "Taken an online course in programming or software development (e.g. a MOOC);Received on-the-job training in software development;Taught yourself a new language, framework, or tool without taking a formal course     818\n",
       "Name: EducationTypes, dtype: int64"
      ]
     },
     "execution_count": 69,
     "metadata": {},
     "output_type": "execute_result"
    }
   ],
   "source": [
    "salaries4[\"EducationTypes\"].value_counts().head()"
   ]
  },
  {
   "cell_type": "code",
   "execution_count": 70,
   "id": "e78ce2ce",
   "metadata": {},
   "outputs": [
    {
     "data": {
      "text/plain": [
       "Taken an online course in programming or software development (e.g. a MOOC);Participated in a full-time developer training program or bootcamp;Received on-the-job training in software development;Participated in online coding competitions (e.g. HackerRank, CodeChef, TopCoder)    1\n",
       "Taken a part-time in-person course in programming or software development;Participated in online coding competitions (e.g. HackerRank, CodeChef, TopCoder);Participated in a hackathon                                                                                                  1\n",
       "Taken an online course in programming or software development (e.g. a MOOC);Completed an industry certification program (e.g. MCPD);Received on-the-job training in software development;Participated in a hackathon;Contributed to open source software                                1\n",
       "Completed an industry certification program (e.g. MCPD);Received on-the-job training in software development;Participated in online coding competitions (e.g. HackerRank, CodeChef, TopCoder)                                                                                           1\n",
       "Participated in a full-time developer training program or bootcamp;Taken a part-time in-person course in programming or software development;Completed an industry certification program (e.g. MCPD);Received on-the-job training in software development                               1\n",
       "Name: EducationTypes, dtype: int64"
      ]
     },
     "execution_count": 70,
     "metadata": {},
     "output_type": "execute_result"
    }
   ],
   "source": [
    "salaries4[\"EducationTypes\"].value_counts().tail()"
   ]
  },
  {
   "cell_type": "code",
   "execution_count": 71,
   "id": "00dd1b3f",
   "metadata": {},
   "outputs": [
    {
     "data": {
      "text/plain": [
       "'Received on-the-job training in software development;Taught yourself a new language, framework, or tool without taking a formal course;Participated in online coding competitions (e.g. HackerRank, CodeChef, TopCoder)'"
      ]
     },
     "execution_count": 71,
     "metadata": {},
     "output_type": "execute_result"
    }
   ],
   "source": [
    "salaries4[\"EducationTypes\"][5]"
   ]
  },
  {
   "cell_type": "code",
   "execution_count": 72,
   "id": "9aae5dd1",
   "metadata": {},
   "outputs": [
    {
     "data": {
      "text/plain": [
       "1        [Taught yourself a new language, framework, or...\n",
       "5        [Received on-the-job training in software deve...\n",
       "6        [Received on-the-job training in software deve...\n",
       "8        [Taken an online course in programming or soft...\n",
       "22       [Taught yourself a new language, framework, or...\n",
       "                               ...                        \n",
       "89904    [Taken an online course in programming or soft...\n",
       "89911    [Taken a part-time in-person course in program...\n",
       "89928    [Taken an online course in programming or soft...\n",
       "89932    [Taught yourself a new language, framework, or...\n",
       "89965    [Participated in a full-time developer trainin...\n",
       "Name: EducationTypes, Length: 26085, dtype: object"
      ]
     },
     "execution_count": 72,
     "metadata": {},
     "output_type": "execute_result"
    }
   ],
   "source": [
    "# turn each row in col to array #\n",
    "salaries4[\"EducationTypes\"].str.split(\";\")"
   ]
  },
  {
   "cell_type": "code",
   "execution_count": 73,
   "id": "538231ee",
   "metadata": {},
   "outputs": [
    {
     "data": {
      "text/plain": [
       "1    Taught yourself a new language, framework, or ...\n",
       "Name: EducationTypes, dtype: object"
      ]
     },
     "execution_count": 73,
     "metadata": {},
     "output_type": "execute_result"
    }
   ],
   "source": [
    "# select first element in each list #\n",
    "salaries4[\"EducationTypes\"].str.split(\";\").str[0].head(1)"
   ]
  },
  {
   "cell_type": "code",
   "execution_count": 74,
   "id": "d966feef",
   "metadata": {},
   "outputs": [],
   "source": [
    "## test #\n",
    "#sal2 = salaries4.copy()"
   ]
  },
  {
   "cell_type": "code",
   "execution_count": 75,
   "id": "83bf40c0",
   "metadata": {},
   "outputs": [
    {
     "name": "stderr",
     "output_type": "stream",
     "text": [
      "<ipython-input-75-19b67ced3e37>:2: SettingWithCopyWarning: \n",
      "A value is trying to be set on a copy of a slice from a DataFrame.\n",
      "Try using .loc[row_indexer,col_indexer] = value instead\n",
      "\n",
      "See the caveats in the documentation: https://pandas.pydata.org/pandas-docs/stable/user_guide/indexing.html#returning-a-view-versus-a-copy\n",
      "  salaries4[\"EducationTypes\"] = salaries4[\"EducationTypes\"].str.split(\";\").str[0]\n"
     ]
    }
   ],
   "source": [
    "# select first element in each list #\n",
    "salaries4[\"EducationTypes\"] = salaries4[\"EducationTypes\"].str.split(\";\").str[0]"
   ]
  },
  {
   "cell_type": "code",
   "execution_count": 76,
   "id": "f5ac7644",
   "metadata": {},
   "outputs": [
    {
     "data": {
      "text/plain": [
       "array(['Taught yourself a new language, framework, or tool without taking a formal course',\n",
       "       'Received on-the-job training in software development',\n",
       "       'Taken an online course in programming or software development (e.g. a MOOC)',\n",
       "       'Participated in a full-time developer training program or bootcamp',\n",
       "       'Taken a part-time in-person course in programming or software development',\n",
       "       'Completed an industry certification program (e.g. MCPD)', nan,\n",
       "       'Contributed to open source software',\n",
       "       'Participated in a hackathon',\n",
       "       'Participated in online coding competitions (e.g. HackerRank, CodeChef, TopCoder)'],\n",
       "      dtype=object)"
      ]
     },
     "execution_count": 76,
     "metadata": {},
     "output_type": "execute_result"
    }
   ],
   "source": [
    "salaries4[\"EducationTypes\"].unique()"
   ]
  },
  {
   "cell_type": "code",
   "execution_count": 77,
   "id": "6ea83236",
   "metadata": {},
   "outputs": [
    {
     "data": {
      "text/plain": [
       "Taken an online course in programming or software development (e.g. a MOOC)          11822\n",
       "Taught yourself a new language, framework, or tool without taking a formal course     5927\n",
       "Received on-the-job training in software development                                  3438\n",
       "Taken a part-time in-person course in programming or software development             1380\n",
       "Participated in a full-time developer training program or bootcamp                    1122\n",
       "Completed an industry certification program (e.g. MCPD)                               1122\n",
       "Participated in online coding competitions (e.g. HackerRank, CodeChef, TopCoder)       160\n",
       "Contributed to open source software                                                    134\n",
       "Participated in a hackathon                                                            106\n",
       "Name: EducationTypes, dtype: int64"
      ]
     },
     "execution_count": 77,
     "metadata": {},
     "output_type": "execute_result"
    }
   ],
   "source": [
    "salaries4[\"EducationTypes\"].value_counts()"
   ]
  },
  {
   "cell_type": "code",
   "execution_count": 78,
   "id": "34315e75",
   "metadata": {},
   "outputs": [],
   "source": [
    "# WILL DEAL WITH NULL VALUES LATER #"
   ]
  },
  {
   "cell_type": "code",
   "execution_count": 79,
   "id": "56a8b2e5",
   "metadata": {},
   "outputs": [
    {
     "data": {
      "text/html": [
       "<div>\n",
       "<style scoped>\n",
       "    .dataframe tbody tr th:only-of-type {\n",
       "        vertical-align: middle;\n",
       "    }\n",
       "\n",
       "    .dataframe tbody tr th {\n",
       "        vertical-align: top;\n",
       "    }\n",
       "\n",
       "    .dataframe thead th {\n",
       "        text-align: right;\n",
       "    }\n",
       "</style>\n",
       "<table border=\"1\" class=\"dataframe\">\n",
       "  <thead>\n",
       "    <tr style=\"text-align: right;\">\n",
       "      <th></th>\n",
       "      <th>EducationTypes</th>\n",
       "      <th>LanguageWorkedWith</th>\n",
       "    </tr>\n",
       "  </thead>\n",
       "  <tbody>\n",
       "    <tr>\n",
       "      <th>85</th>\n",
       "      <td>NaN</td>\n",
       "      <td>Java;JavaScript;Swift;TypeScript;HTML;CSS</td>\n",
       "    </tr>\n",
       "    <tr>\n",
       "      <th>106</th>\n",
       "      <td>NaN</td>\n",
       "      <td>C;Java</td>\n",
       "    </tr>\n",
       "    <tr>\n",
       "      <th>226</th>\n",
       "      <td>NaN</td>\n",
       "      <td>JavaScript;PHP;Python</td>\n",
       "    </tr>\n",
       "    <tr>\n",
       "      <th>274</th>\n",
       "      <td>NaN</td>\n",
       "      <td>Java;JavaScript;HTML;Bash/Shell</td>\n",
       "    </tr>\n",
       "    <tr>\n",
       "      <th>443</th>\n",
       "      <td>NaN</td>\n",
       "      <td>NaN</td>\n",
       "    </tr>\n",
       "    <tr>\n",
       "      <th>448</th>\n",
       "      <td>NaN</td>\n",
       "      <td>NaN</td>\n",
       "    </tr>\n",
       "    <tr>\n",
       "      <th>494</th>\n",
       "      <td>NaN</td>\n",
       "      <td>Java;SQL;HTML</td>\n",
       "    </tr>\n",
       "    <tr>\n",
       "      <th>518</th>\n",
       "      <td>NaN</td>\n",
       "      <td>PHP;TypeScript;HTML;CSS</td>\n",
       "    </tr>\n",
       "    <tr>\n",
       "      <th>532</th>\n",
       "      <td>NaN</td>\n",
       "      <td>C#;Java;JavaScript;PHP;VB.NET;HTML;CSS</td>\n",
       "    </tr>\n",
       "    <tr>\n",
       "      <th>570</th>\n",
       "      <td>NaN</td>\n",
       "      <td>C;C++;Java;JavaScript;PHP;SQL;HTML;CSS;Bash/Shell</td>\n",
       "    </tr>\n",
       "    <tr>\n",
       "      <th>599</th>\n",
       "      <td>NaN</td>\n",
       "      <td>NaN</td>\n",
       "    </tr>\n",
       "    <tr>\n",
       "      <th>710</th>\n",
       "      <td>NaN</td>\n",
       "      <td>Java;JavaScript</td>\n",
       "    </tr>\n",
       "    <tr>\n",
       "      <th>733</th>\n",
       "      <td>NaN</td>\n",
       "      <td>C#;JavaScript;SQL;HTML;CSS</td>\n",
       "    </tr>\n",
       "    <tr>\n",
       "      <th>803</th>\n",
       "      <td>NaN</td>\n",
       "      <td>C;Java;JavaScript;SQL;TypeScript;HTML;CSS</td>\n",
       "    </tr>\n",
       "    <tr>\n",
       "      <th>833</th>\n",
       "      <td>NaN</td>\n",
       "      <td>Java;SQL;Visual Basic 6;HTML;CSS</td>\n",
       "    </tr>\n",
       "  </tbody>\n",
       "</table>\n",
       "</div>"
      ],
      "text/plain": [
       "    EducationTypes                                 LanguageWorkedWith\n",
       "85             NaN          Java;JavaScript;Swift;TypeScript;HTML;CSS\n",
       "106            NaN                                             C;Java\n",
       "226            NaN                              JavaScript;PHP;Python\n",
       "274            NaN                    Java;JavaScript;HTML;Bash/Shell\n",
       "443            NaN                                                NaN\n",
       "448            NaN                                                NaN\n",
       "494            NaN                                      Java;SQL;HTML\n",
       "518            NaN                            PHP;TypeScript;HTML;CSS\n",
       "532            NaN             C#;Java;JavaScript;PHP;VB.NET;HTML;CSS\n",
       "570            NaN  C;C++;Java;JavaScript;PHP;SQL;HTML;CSS;Bash/Shell\n",
       "599            NaN                                                NaN\n",
       "710            NaN                                    Java;JavaScript\n",
       "733            NaN                         C#;JavaScript;SQL;HTML;CSS\n",
       "803            NaN          C;Java;JavaScript;SQL;TypeScript;HTML;CSS\n",
       "833            NaN                   Java;SQL;Visual Basic 6;HTML;CSS"
      ]
     },
     "execution_count": 79,
     "metadata": {},
     "output_type": "execute_result"
    }
   ],
   "source": [
    "# null vals #\n",
    "salaries4[[\"EducationTypes\",\"LanguageWorkedWith\"]][salaries4[\"EducationTypes\"].isna()].head(15)"
   ]
  },
  {
   "cell_type": "code",
   "execution_count": 80,
   "id": "9f28cd7a",
   "metadata": {},
   "outputs": [
    {
     "name": "stderr",
     "output_type": "stream",
     "text": [
      "C:\\ProgramData\\Anaconda3\\lib\\site-packages\\pandas\\core\\series.py:4509: SettingWithCopyWarning: \n",
      "A value is trying to be set on a copy of a slice from a DataFrame\n",
      "\n",
      "See the caveats in the documentation: https://pandas.pydata.org/pandas-docs/stable/user_guide/indexing.html#returning-a-view-versus-a-copy\n",
      "  return super().replace(\n"
     ]
    }
   ],
   "source": [
    "# for now assume NaN means \"Taught yourself a new language, framework, or tool without taking a formal course\" #\n",
    "salaries4[\"EducationTypes\"].replace(np.nan,\"Taught yourself a new language, framework, or tool without taking a formal course\", inplace=True)"
   ]
  },
  {
   "cell_type": "code",
   "execution_count": 81,
   "id": "4200a53a",
   "metadata": {},
   "outputs": [
    {
     "data": {
      "text/html": [
       "<div>\n",
       "<style scoped>\n",
       "    .dataframe tbody tr th:only-of-type {\n",
       "        vertical-align: middle;\n",
       "    }\n",
       "\n",
       "    .dataframe tbody tr th {\n",
       "        vertical-align: top;\n",
       "    }\n",
       "\n",
       "    .dataframe thead th {\n",
       "        text-align: right;\n",
       "    }\n",
       "</style>\n",
       "<table border=\"1\" class=\"dataframe\">\n",
       "  <thead>\n",
       "    <tr style=\"text-align: right;\">\n",
       "      <th></th>\n",
       "      <th>EducationTypes</th>\n",
       "      <th>LanguageWorkedWith</th>\n",
       "    </tr>\n",
       "  </thead>\n",
       "  <tbody>\n",
       "  </tbody>\n",
       "</table>\n",
       "</div>"
      ],
      "text/plain": [
       "Empty DataFrame\n",
       "Columns: [EducationTypes, LanguageWorkedWith]\n",
       "Index: []"
      ]
     },
     "execution_count": 81,
     "metadata": {},
     "output_type": "execute_result"
    }
   ],
   "source": [
    "# null vals #\n",
    "salaries4[[\"EducationTypes\",\"LanguageWorkedWith\"]][salaries4[\"EducationTypes\"].isna()]"
   ]
  },
  {
   "cell_type": "code",
   "execution_count": 82,
   "id": "30fc612d",
   "metadata": {},
   "outputs": [
    {
     "name": "stdout",
     "output_type": "stream",
     "text": [
      "<class 'pandas.core.frame.DataFrame'>\n",
      "Int64Index: 26085 entries, 1 to 89965\n",
      "Data columns (total 11 columns):\n",
      " #   Column               Non-Null Count  Dtype  \n",
      "---  ------               --------------  -----  \n",
      " 0   Country              26085 non-null  object \n",
      " 1   Employment           26085 non-null  object \n",
      " 2   FormalEducation      26085 non-null  object \n",
      " 3   DevType              26085 non-null  object \n",
      " 4   YearsCodingProf      26085 non-null  int64  \n",
      " 5   EducationTypes       26085 non-null  object \n",
      " 6   LanguageWorkedWith   25506 non-null  object \n",
      " 7   FrameworkWorkedWith  17971 non-null  object \n",
      " 8   Age                  24615 non-null  object \n",
      " 9   Salary               26085 non-null  object \n",
      " 10  ConvertedSalary      25546 non-null  float64\n",
      "dtypes: float64(1), int64(1), object(9)\n",
      "memory usage: 3.4+ MB\n"
     ]
    }
   ],
   "source": [
    "salaries4.info()"
   ]
  },
  {
   "cell_type": "code",
   "execution_count": null,
   "id": "9b458d81",
   "metadata": {},
   "outputs": [],
   "source": []
  },
  {
   "cell_type": "code",
   "execution_count": null,
   "id": "020a5e12",
   "metadata": {},
   "outputs": [],
   "source": []
  },
  {
   "cell_type": "markdown",
   "id": "b8543d78",
   "metadata": {},
   "source": [
    "**LanguageWorkedWith**"
   ]
  },
  {
   "cell_type": "code",
   "execution_count": 83,
   "id": "8e05774d",
   "metadata": {},
   "outputs": [
    {
     "data": {
      "text/plain": [
       "array(['JavaScript;Python;Bash/Shell',\n",
       "       'Java;JavaScript;Python;TypeScript;HTML;CSS',\n",
       "       'JavaScript;HTML;CSS', ..., 'C;C++;HTML;CSS', 'C++;Java;VB.NET',\n",
       "       'Assembly;C;C++;Java;Python;Scala;Ocaml'], dtype=object)"
      ]
     },
     "execution_count": 83,
     "metadata": {},
     "output_type": "execute_result"
    }
   ],
   "source": [
    "salaries4[\"LanguageWorkedWith\"].unique()"
   ]
  },
  {
   "cell_type": "code",
   "execution_count": 84,
   "id": "ab8d1a66",
   "metadata": {},
   "outputs": [
    {
     "data": {
      "text/plain": [
       "C#;JavaScript;SQL;HTML;CSS                          541\n",
       "C#;JavaScript;SQL;TypeScript;HTML;CSS               338\n",
       "JavaScript;PHP;SQL;HTML;CSS                         337\n",
       "JavaScript;PHP;SQL;HTML;CSS;Bash/Shell              287\n",
       "JavaScript;HTML;CSS                                 264\n",
       "Java                                                232\n",
       "JavaScript;PHP;HTML;CSS                             188\n",
       "Java;JavaScript;SQL;HTML;CSS                        145\n",
       "C#                                                  134\n",
       "JavaScript;TypeScript;HTML;CSS                      131\n",
       "C#;SQL                                              127\n",
       "C#;JavaScript;SQL;VB.NET;HTML;CSS                   127\n",
       "JavaScript;PHP;Python;SQL;HTML;CSS;Bash/Shell       122\n",
       "Objective-C;Swift                                   121\n",
       "Java;JavaScript;SQL;HTML;CSS;Bash/Shell             119\n",
       "C#;JavaScript;HTML;CSS                              110\n",
       "Java;JavaScript;HTML;CSS                            108\n",
       "JavaScript;Python;SQL;HTML;CSS;Bash/Shell           103\n",
       "JavaScript;HTML;CSS;Bash/Shell                       96\n",
       "C#;JavaScript;SQL;TypeScript;HTML;CSS;Bash/Shell     92\n",
       "C#;JavaScript;PHP;SQL;HTML;CSS                       92\n",
       "C#;JavaScript;SQL;HTML;CSS;Bash/Shell                91\n",
       "C#;JavaScript;TypeScript;HTML;CSS                    91\n",
       "JavaScript;Python;HTML;CSS;Bash/Shell                86\n",
       "C#;JavaScript;SQL                                    84\n",
       "Python                                               82\n",
       "C#;Java;JavaScript;SQL;HTML;CSS                      78\n",
       "Java;JavaScript;Python;SQL;HTML;CSS;Bash/Shell       77\n",
       "JavaScript;Python;HTML;CSS                           77\n",
       "Java;SQL                                             71\n",
       "Name: LanguageWorkedWith, dtype: int64"
      ]
     },
     "execution_count": 84,
     "metadata": {},
     "output_type": "execute_result"
    }
   ],
   "source": [
    "salaries4[\"LanguageWorkedWith\"].value_counts().head(30)"
   ]
  },
  {
   "cell_type": "code",
   "execution_count": 85,
   "id": "d5a87c95",
   "metadata": {},
   "outputs": [
    {
     "ename": "TypeError",
     "evalue": "unhashable type: 'list'",
     "output_type": "error",
     "traceback": [
      "\u001b[1;31m---------------------------------------------------------------------------\u001b[0m",
      "\u001b[1;31mTypeError\u001b[0m                                 Traceback (most recent call last)",
      "\u001b[1;32mpandas\\_libs\\hashtable_class_helper.pxi\u001b[0m in \u001b[0;36mpandas._libs.hashtable.PyObjectHashTable.map_locations\u001b[1;34m()\u001b[0m\n",
      "\u001b[1;31mTypeError\u001b[0m: unhashable type: 'list'"
     ]
    },
    {
     "name": "stderr",
     "output_type": "stream",
     "text": [
      "Exception ignored in: 'pandas._libs.index.IndexEngine._call_map_locations'\n",
      "Traceback (most recent call last):\n",
      "  File \"pandas\\_libs\\hashtable_class_helper.pxi\", line 4588, in pandas._libs.hashtable.PyObjectHashTable.map_locations\n",
      "TypeError: unhashable type: 'list'\n"
     ]
    },
    {
     "data": {
      "text/plain": [
       "[C#, JavaScript, SQL, HTML, CSS]                                  541\n",
       "[C#, JavaScript, SQL, TypeScript, HTML, CSS]                      338\n",
       "[JavaScript, PHP, SQL, HTML, CSS]                                 337\n",
       "[JavaScript, PHP, SQL, HTML, CSS, Bash/Shell]                     287\n",
       "[JavaScript, HTML, CSS]                                           264\n",
       "                                                                 ... \n",
       "[C#, Erlang, JavaScript, Python, Bash/Shell]                        1\n",
       "[C, C++, C#, Java, JavaScript, Perl, Swift, VB.NET, HTML, CSS]      1\n",
       "[Java, Rust, TypeScript, HTML, CSS]                                 1\n",
       "[C++, Go, JavaScript]                                               1\n",
       "[C++, Haskell, Java, Matlab, Python, Bash/Shell]                    1\n",
       "Name: LanguageWorkedWith, Length: 11173, dtype: int64"
      ]
     },
     "execution_count": 85,
     "metadata": {},
     "output_type": "execute_result"
    }
   ],
   "source": [
    "# make a list #\n",
    "salaries4[\"LanguageWorkedWith\"].str.split(\";\").value_counts()"
   ]
  },
  {
   "cell_type": "code",
   "execution_count": 86,
   "id": "e32819bd",
   "metadata": {},
   "outputs": [],
   "source": [
    "# grab the first list item #"
   ]
  },
  {
   "cell_type": "code",
   "execution_count": null,
   "id": "f8059b7f",
   "metadata": {},
   "outputs": [],
   "source": []
  },
  {
   "cell_type": "code",
   "execution_count": null,
   "id": "0db4b786",
   "metadata": {},
   "outputs": [],
   "source": []
  },
  {
   "cell_type": "code",
   "execution_count": null,
   "id": "213b4b54",
   "metadata": {},
   "outputs": [],
   "source": []
  },
  {
   "cell_type": "code",
   "execution_count": null,
   "id": "ac4e7bde",
   "metadata": {},
   "outputs": [],
   "source": []
  },
  {
   "cell_type": "markdown",
   "id": "5617d9f8",
   "metadata": {},
   "source": [
    "**FrameworkWorkedWith**"
   ]
  },
  {
   "cell_type": "code",
   "execution_count": 87,
   "id": "d218882e",
   "metadata": {},
   "outputs": [
    {
     "data": {
      "text/plain": [
       "655"
      ]
     },
     "execution_count": 87,
     "metadata": {},
     "output_type": "execute_result"
    }
   ],
   "source": [
    "len(salaries4[\"FrameworkWorkedWith\"].unique())"
   ]
  },
  {
   "cell_type": "code",
   "execution_count": 88,
   "id": "725c4175",
   "metadata": {},
   "outputs": [
    {
     "data": {
      "text/plain": [
       ".NET Core                          1548\n",
       "Node.js                            1436\n",
       "Node.js;React                      1406\n",
       "Angular;Node.js                     922\n",
       "Angular                             867\n",
       "Spring                              842\n",
       "React                               696\n",
       "Angular;Node.js;React               636\n",
       "Django                              582\n",
       "Angular;.NET Core                   496\n",
       "Angular;.NET Core;Node.js           484\n",
       ".NET Core;Node.js                   383\n",
       "TensorFlow                          339\n",
       "Angular;Node.js;Spring              267\n",
       "Angular;.NET Core;Node.js;React     257\n",
       "Angular;Spring                      252\n",
       ".NET Core;Xamarin                   250\n",
       ".NET Core;Node.js;React             235\n",
       "Node.js;Spring                      190\n",
       "Django;Node.js;React                176\n",
       "Name: FrameworkWorkedWith, dtype: int64"
      ]
     },
     "execution_count": 88,
     "metadata": {},
     "output_type": "execute_result"
    }
   ],
   "source": [
    "salaries4[\"FrameworkWorkedWith\"].value_counts().head(20)"
   ]
  },
  {
   "cell_type": "code",
   "execution_count": 89,
   "id": "4b03736a",
   "metadata": {},
   "outputs": [],
   "source": [
    "# WILL GET BACK TO IT # "
   ]
  },
  {
   "cell_type": "code",
   "execution_count": null,
   "id": "5c0331a2",
   "metadata": {},
   "outputs": [],
   "source": []
  },
  {
   "cell_type": "code",
   "execution_count": null,
   "id": "bc63e273",
   "metadata": {},
   "outputs": [],
   "source": []
  },
  {
   "cell_type": "markdown",
   "id": "bd1b2ff7",
   "metadata": {},
   "source": [
    "**Age**"
   ]
  },
  {
   "cell_type": "code",
   "execution_count": 90,
   "id": "ee894a82",
   "metadata": {},
   "outputs": [
    {
     "name": "stdout",
     "output_type": "stream",
     "text": [
      "<class 'pandas.core.frame.DataFrame'>\n",
      "Int64Index: 26085 entries, 1 to 89965\n",
      "Data columns (total 11 columns):\n",
      " #   Column               Non-Null Count  Dtype  \n",
      "---  ------               --------------  -----  \n",
      " 0   Country              26085 non-null  object \n",
      " 1   Employment           26085 non-null  object \n",
      " 2   FormalEducation      26085 non-null  object \n",
      " 3   DevType              26085 non-null  object \n",
      " 4   YearsCodingProf      26085 non-null  int64  \n",
      " 5   EducationTypes       26085 non-null  object \n",
      " 6   LanguageWorkedWith   25506 non-null  object \n",
      " 7   FrameworkWorkedWith  17971 non-null  object \n",
      " 8   Age                  24615 non-null  object \n",
      " 9   Salary               26085 non-null  object \n",
      " 10  ConvertedSalary      25546 non-null  float64\n",
      "dtypes: float64(1), int64(1), object(9)\n",
      "memory usage: 3.4+ MB\n"
     ]
    }
   ],
   "source": [
    "salaries4.info()"
   ]
  },
  {
   "cell_type": "code",
   "execution_count": 91,
   "id": "885965c1",
   "metadata": {},
   "outputs": [
    {
     "data": {
      "text/plain": [
       "array(['35 - 44 years old', '18 - 24 years old', '25 - 34 years old',\n",
       "       '45 - 54 years old', nan, '55 - 64 years old', '65 years or older',\n",
       "       'Under 18 years old'], dtype=object)"
      ]
     },
     "execution_count": 91,
     "metadata": {},
     "output_type": "execute_result"
    }
   ],
   "source": [
    "salaries4[\"Age\"].unique()"
   ]
  },
  {
   "cell_type": "code",
   "execution_count": 92,
   "id": "afa9cc75",
   "metadata": {},
   "outputs": [
    {
     "data": {
      "text/plain": [
       "25 - 34 years old     12721\n",
       "35 - 44 years old      4965\n",
       "18 - 24 years old      4804\n",
       "45 - 54 years old      1541\n",
       "55 - 64 years old       420\n",
       "Under 18 years old      120\n",
       "65 years or older        44\n",
       "Name: Age, dtype: int64"
      ]
     },
     "execution_count": 92,
     "metadata": {},
     "output_type": "execute_result"
    }
   ],
   "source": [
    "salaries4[\"Age\"].value_counts()"
   ]
  },
  {
   "cell_type": "markdown",
   "id": "7da5bbe2",
   "metadata": {},
   "source": [
    "Replace:\n",
    "\n",
    "\"18 - 24 years old\" --> 21 etc"
   ]
  },
  {
   "cell_type": "code",
   "execution_count": 93,
   "id": "9a9ab085",
   "metadata": {},
   "outputs": [
    {
     "name": "stderr",
     "output_type": "stream",
     "text": [
      "C:\\ProgramData\\Anaconda3\\lib\\site-packages\\pandas\\core\\series.py:4509: SettingWithCopyWarning: \n",
      "A value is trying to be set on a copy of a slice from a DataFrame\n",
      "\n",
      "See the caveats in the documentation: https://pandas.pydata.org/pandas-docs/stable/user_guide/indexing.html#returning-a-view-versus-a-copy\n",
      "  return super().replace(\n"
     ]
    }
   ],
   "source": [
    "salaries4[\"Age\"].replace(\"18 - 24 years old\",21,inplace=True)\n",
    "salaries4[\"Age\"].replace(\"25 - 34 years old\",30,inplace=True)\n",
    "salaries4[\"Age\"].replace(\"Under 18 years old\",18,inplace=True)\n",
    "salaries4[\"Age\"].replace(\"35 - 44 years old\",40,inplace=True)\n",
    "salaries4[\"Age\"].replace(\"45 - 54 years old\",50,inplace=True)\n",
    "salaries4[\"Age\"].replace(\"55 - 64 years old\",60,inplace=True)\n",
    "# since most people are between 25 - 34 years old, for nan --> 30 #\n",
    "salaries4[\"Age\"].replace(np.nan,30,inplace=True)"
   ]
  },
  {
   "cell_type": "code",
   "execution_count": 94,
   "id": "cb17b47b",
   "metadata": {},
   "outputs": [
    {
     "data": {
      "text/plain": [
       "array([40, 21, 30, 50, 60, '65 years or older', 18], dtype=object)"
      ]
     },
     "execution_count": 94,
     "metadata": {},
     "output_type": "execute_result"
    }
   ],
   "source": [
    "salaries4[\"Age\"].unique()"
   ]
  },
  {
   "cell_type": "code",
   "execution_count": null,
   "id": "a9b13ab4",
   "metadata": {},
   "outputs": [],
   "source": []
  },
  {
   "cell_type": "markdown",
   "id": "6242cd5c",
   "metadata": {},
   "source": [
    "**ConvertedSalary**"
   ]
  },
  {
   "cell_type": "code",
   "execution_count": 95,
   "id": "c016e1fa",
   "metadata": {},
   "outputs": [
    {
     "name": "stdout",
     "output_type": "stream",
     "text": [
      "<class 'pandas.core.frame.DataFrame'>\n",
      "Int64Index: 26085 entries, 1 to 89965\n",
      "Data columns (total 11 columns):\n",
      " #   Column               Non-Null Count  Dtype  \n",
      "---  ------               --------------  -----  \n",
      " 0   Country              26085 non-null  object \n",
      " 1   Employment           26085 non-null  object \n",
      " 2   FormalEducation      26085 non-null  object \n",
      " 3   DevType              26085 non-null  object \n",
      " 4   YearsCodingProf      26085 non-null  int64  \n",
      " 5   EducationTypes       26085 non-null  object \n",
      " 6   LanguageWorkedWith   25506 non-null  object \n",
      " 7   FrameworkWorkedWith  17971 non-null  object \n",
      " 8   Age                  26085 non-null  object \n",
      " 9   Salary               26085 non-null  object \n",
      " 10  ConvertedSalary      25546 non-null  float64\n",
      "dtypes: float64(1), int64(1), object(9)\n",
      "memory usage: 3.4+ MB\n"
     ]
    }
   ],
   "source": [
    "salaries4.info()"
   ]
  },
  {
   "cell_type": "code",
   "execution_count": 96,
   "id": "d7af0ce0",
   "metadata": {},
   "outputs": [
    {
     "data": {
      "text/html": [
       "<div>\n",
       "<style scoped>\n",
       "    .dataframe tbody tr th:only-of-type {\n",
       "        vertical-align: middle;\n",
       "    }\n",
       "\n",
       "    .dataframe tbody tr th {\n",
       "        vertical-align: top;\n",
       "    }\n",
       "\n",
       "    .dataframe thead th {\n",
       "        text-align: right;\n",
       "    }\n",
       "</style>\n",
       "<table border=\"1\" class=\"dataframe\">\n",
       "  <thead>\n",
       "    <tr style=\"text-align: right;\">\n",
       "      <th></th>\n",
       "      <th>Country</th>\n",
       "      <th>Salary</th>\n",
       "      <th>ConvertedSalary</th>\n",
       "    </tr>\n",
       "  </thead>\n",
       "  <tbody>\n",
       "    <tr>\n",
       "      <th>191</th>\n",
       "      <td>Germany</td>\n",
       "      <td>600</td>\n",
       "      <td>NaN</td>\n",
       "    </tr>\n",
       "    <tr>\n",
       "      <th>415</th>\n",
       "      <td>India</td>\n",
       "      <td>95000</td>\n",
       "      <td>NaN</td>\n",
       "    </tr>\n",
       "    <tr>\n",
       "      <th>434</th>\n",
       "      <td>India</td>\n",
       "      <td>910000</td>\n",
       "      <td>NaN</td>\n",
       "    </tr>\n",
       "    <tr>\n",
       "      <th>483</th>\n",
       "      <td>India</td>\n",
       "      <td>380000</td>\n",
       "      <td>NaN</td>\n",
       "    </tr>\n",
       "    <tr>\n",
       "      <th>781</th>\n",
       "      <td>Germany</td>\n",
       "      <td>3850</td>\n",
       "      <td>NaN</td>\n",
       "    </tr>\n",
       "    <tr>\n",
       "      <th>...</th>\n",
       "      <td>...</td>\n",
       "      <td>...</td>\n",
       "      <td>...</td>\n",
       "    </tr>\n",
       "    <tr>\n",
       "      <th>89739</th>\n",
       "      <td>United States</td>\n",
       "      <td>0</td>\n",
       "      <td>NaN</td>\n",
       "    </tr>\n",
       "    <tr>\n",
       "      <th>89758</th>\n",
       "      <td>India</td>\n",
       "      <td>150000</td>\n",
       "      <td>NaN</td>\n",
       "    </tr>\n",
       "    <tr>\n",
       "      <th>89843</th>\n",
       "      <td>United States</td>\n",
       "      <td>0</td>\n",
       "      <td>NaN</td>\n",
       "    </tr>\n",
       "    <tr>\n",
       "      <th>89900</th>\n",
       "      <td>India</td>\n",
       "      <td>0</td>\n",
       "      <td>NaN</td>\n",
       "    </tr>\n",
       "    <tr>\n",
       "      <th>89928</th>\n",
       "      <td>Germany</td>\n",
       "      <td>600</td>\n",
       "      <td>NaN</td>\n",
       "    </tr>\n",
       "  </tbody>\n",
       "</table>\n",
       "<p>539 rows × 3 columns</p>\n",
       "</div>"
      ],
      "text/plain": [
       "             Country  Salary  ConvertedSalary\n",
       "191          Germany     600              NaN\n",
       "415            India   95000              NaN\n",
       "434            India  910000              NaN\n",
       "483            India  380000              NaN\n",
       "781          Germany    3850              NaN\n",
       "...              ...     ...              ...\n",
       "89739  United States       0              NaN\n",
       "89758          India  150000              NaN\n",
       "89843  United States       0              NaN\n",
       "89900          India       0              NaN\n",
       "89928        Germany     600              NaN\n",
       "\n",
       "[539 rows x 3 columns]"
      ]
     },
     "execution_count": 96,
     "metadata": {},
     "output_type": "execute_result"
    }
   ],
   "source": [
    "salaries4[[\"Country\",\"Salary\",\"ConvertedSalary\"]][salaries4[\"ConvertedSalary\"].isna()]"
   ]
  },
  {
   "cell_type": "code",
   "execution_count": 97,
   "id": "ad9eca02",
   "metadata": {},
   "outputs": [
    {
     "name": "stdout",
     "output_type": "stream",
     "text": [
      "<class 'pandas.core.frame.DataFrame'>\n",
      "Int64Index: 26085 entries, 1 to 89965\n",
      "Data columns (total 11 columns):\n",
      " #   Column               Non-Null Count  Dtype  \n",
      "---  ------               --------------  -----  \n",
      " 0   Country              26085 non-null  object \n",
      " 1   Employment           26085 non-null  object \n",
      " 2   FormalEducation      26085 non-null  object \n",
      " 3   DevType              26085 non-null  object \n",
      " 4   YearsCodingProf      26085 non-null  int64  \n",
      " 5   EducationTypes       26085 non-null  object \n",
      " 6   LanguageWorkedWith   25506 non-null  object \n",
      " 7   FrameworkWorkedWith  17971 non-null  object \n",
      " 8   Age                  26085 non-null  object \n",
      " 9   Salary               26085 non-null  object \n",
      " 10  ConvertedSalary      25546 non-null  float64\n",
      "dtypes: float64(1), int64(1), object(9)\n",
      "memory usage: 3.4+ MB\n"
     ]
    }
   ],
   "source": [
    "salaries4.info()"
   ]
  },
  {
   "cell_type": "code",
   "execution_count": 98,
   "id": "0281af9b",
   "metadata": {},
   "outputs": [],
   "source": [
    "# TEST #\n",
    "#sal4 = salaries4.copy()"
   ]
  },
  {
   "cell_type": "code",
   "execution_count": 99,
   "id": "b16ac95c",
   "metadata": {},
   "outputs": [],
   "source": [
    "# FIGURE OUT HOW TO REMOVE COMMAS FROM SALARY COL #"
   ]
  },
  {
   "cell_type": "code",
   "execution_count": 100,
   "id": "3b030a1c",
   "metadata": {},
   "outputs": [
    {
     "data": {
      "text/plain": [
       "89634      [1000]\n",
       "89655        [80]\n",
       "89660         [0]\n",
       "89670         [0]\n",
       "89683      [7.50]\n",
       "89684         [0]\n",
       "89695      [7000]\n",
       "89725         [0]\n",
       "89733     [45000]\n",
       "89739         [0]\n",
       "89741         [0]\n",
       "89758    [150000]\n",
       "89843         [0]\n",
       "89888      [1000]\n",
       "89900         [0]\n",
       "89904         [0]\n",
       "89911     [10000]\n",
       "89928       [600]\n",
       "89932     [70000]\n",
       "89965         [0]\n",
       "Name: Salary, dtype: object"
      ]
     },
     "execution_count": 100,
     "metadata": {},
     "output_type": "execute_result"
    }
   ],
   "source": [
    "# split array into individual elements and then replace \",\" with \".\"\n",
    "salaries4[\"Salary\"].str.split(\",\").tail(20)"
   ]
  },
  {
   "cell_type": "code",
   "execution_count": 101,
   "id": "fbea059a",
   "metadata": {},
   "outputs": [
    {
     "name": "stderr",
     "output_type": "stream",
     "text": [
      "<ipython-input-101-b0079c981761>:2: SettingWithCopyWarning: \n",
      "A value is trying to be set on a copy of a slice from a DataFrame.\n",
      "Try using .loc[row_indexer,col_indexer] = value instead\n",
      "\n",
      "See the caveats in the documentation: https://pandas.pydata.org/pandas-docs/stable/user_guide/indexing.html#returning-a-view-versus-a-copy\n",
      "  salaries4[\"Salary\"] = salaries4[\"Salary\"].str.split(\",\").replace(\",\",\".\")\n"
     ]
    }
   ],
   "source": [
    "# save changes #\n",
    "salaries4[\"Salary\"] = salaries4[\"Salary\"].str.split(\",\").replace(\",\",\".\")"
   ]
  },
  {
   "cell_type": "code",
   "execution_count": 102,
   "id": "e8b2416b",
   "metadata": {},
   "outputs": [
    {
     "data": {
      "text/plain": [
       "1         51000\n",
       "5         30000\n",
       "6        120000\n",
       "8        250000\n",
       "22           25\n",
       "          ...  \n",
       "89904         0\n",
       "89911     10000\n",
       "89928       600\n",
       "89932     70000\n",
       "89965         0\n",
       "Name: Salary, Length: 26085, dtype: object"
      ]
     },
     "execution_count": 102,
     "metadata": {},
     "output_type": "execute_result"
    }
   ],
   "source": [
    "# sice the commas are out we can group back the numbers #\n",
    "salaries4[\"Salary\"].str.join(\"\")"
   ]
  },
  {
   "cell_type": "code",
   "execution_count": 103,
   "id": "6557d937",
   "metadata": {},
   "outputs": [
    {
     "name": "stderr",
     "output_type": "stream",
     "text": [
      "<ipython-input-103-4586a6c32206>:2: SettingWithCopyWarning: \n",
      "A value is trying to be set on a copy of a slice from a DataFrame.\n",
      "Try using .loc[row_indexer,col_indexer] = value instead\n",
      "\n",
      "See the caveats in the documentation: https://pandas.pydata.org/pandas-docs/stable/user_guide/indexing.html#returning-a-view-versus-a-copy\n",
      "  salaries4[\"Salary\"] = salaries4[\"Salary\"].str.join(\"\")\n"
     ]
    }
   ],
   "source": [
    "# save changes #\n",
    "salaries4[\"Salary\"] = salaries4[\"Salary\"].str.join(\"\") "
   ]
  },
  {
   "cell_type": "code",
   "execution_count": 104,
   "id": "f0502700",
   "metadata": {},
   "outputs": [
    {
     "name": "stderr",
     "output_type": "stream",
     "text": [
      "<ipython-input-104-6646ccc27b66>:1: SettingWithCopyWarning: \n",
      "A value is trying to be set on a copy of a slice from a DataFrame.\n",
      "Try using .loc[row_indexer,col_indexer] = value instead\n",
      "\n",
      "See the caveats in the documentation: https://pandas.pydata.org/pandas-docs/stable/user_guide/indexing.html#returning-a-view-versus-a-copy\n",
      "  salaries4[\"Salary\"] = salaries4[\"Salary\"].astype(float)\n"
     ]
    },
    {
     "data": {
      "text/plain": [
       "Country                 object\n",
       "Employment              object\n",
       "FormalEducation         object\n",
       "DevType                 object\n",
       "YearsCodingProf          int64\n",
       "EducationTypes          object\n",
       "LanguageWorkedWith      object\n",
       "FrameworkWorkedWith     object\n",
       "Age                     object\n",
       "Salary                 float64\n",
       "ConvertedSalary        float64\n",
       "dtype: object"
      ]
     },
     "execution_count": 104,
     "metadata": {},
     "output_type": "execute_result"
    }
   ],
   "source": [
    "salaries4[\"Salary\"] = salaries4[\"Salary\"].astype(float)\n",
    "salaries4.dtypes"
   ]
  },
  {
   "cell_type": "code",
   "execution_count": 105,
   "id": "3c44f21c",
   "metadata": {},
   "outputs": [
    {
     "name": "stdout",
     "output_type": "stream",
     "text": [
      "<class 'pandas.core.frame.DataFrame'>\n",
      "Int64Index: 26085 entries, 1 to 89965\n",
      "Data columns (total 11 columns):\n",
      " #   Column               Non-Null Count  Dtype  \n",
      "---  ------               --------------  -----  \n",
      " 0   Country              26085 non-null  object \n",
      " 1   Employment           26085 non-null  object \n",
      " 2   FormalEducation      26085 non-null  object \n",
      " 3   DevType              26085 non-null  object \n",
      " 4   YearsCodingProf      26085 non-null  int64  \n",
      " 5   EducationTypes       26085 non-null  object \n",
      " 6   LanguageWorkedWith   25506 non-null  object \n",
      " 7   FrameworkWorkedWith  17971 non-null  object \n",
      " 8   Age                  26085 non-null  object \n",
      " 9   Salary               26085 non-null  float64\n",
      " 10  ConvertedSalary      25546 non-null  float64\n",
      "dtypes: float64(2), int64(1), object(8)\n",
      "memory usage: 3.4+ MB\n"
     ]
    }
   ],
   "source": [
    "salaries4.info()"
   ]
  },
  {
   "cell_type": "code",
   "execution_count": 106,
   "id": "f7e674b3",
   "metadata": {},
   "outputs": [
    {
     "data": {
      "text/html": [
       "<div>\n",
       "<style scoped>\n",
       "    .dataframe tbody tr th:only-of-type {\n",
       "        vertical-align: middle;\n",
       "    }\n",
       "\n",
       "    .dataframe tbody tr th {\n",
       "        vertical-align: top;\n",
       "    }\n",
       "\n",
       "    .dataframe thead th {\n",
       "        text-align: right;\n",
       "    }\n",
       "</style>\n",
       "<table border=\"1\" class=\"dataframe\">\n",
       "  <thead>\n",
       "    <tr style=\"text-align: right;\">\n",
       "      <th></th>\n",
       "      <th>Country</th>\n",
       "      <th>Salary</th>\n",
       "      <th>ConvertedSalary</th>\n",
       "    </tr>\n",
       "  </thead>\n",
       "  <tbody>\n",
       "    <tr>\n",
       "      <th>191</th>\n",
       "      <td>Germany</td>\n",
       "      <td>600.0</td>\n",
       "      <td>NaN</td>\n",
       "    </tr>\n",
       "    <tr>\n",
       "      <th>415</th>\n",
       "      <td>India</td>\n",
       "      <td>95000.0</td>\n",
       "      <td>NaN</td>\n",
       "    </tr>\n",
       "    <tr>\n",
       "      <th>434</th>\n",
       "      <td>India</td>\n",
       "      <td>910000.0</td>\n",
       "      <td>NaN</td>\n",
       "    </tr>\n",
       "    <tr>\n",
       "      <th>483</th>\n",
       "      <td>India</td>\n",
       "      <td>380000.0</td>\n",
       "      <td>NaN</td>\n",
       "    </tr>\n",
       "    <tr>\n",
       "      <th>781</th>\n",
       "      <td>Germany</td>\n",
       "      <td>3850.0</td>\n",
       "      <td>NaN</td>\n",
       "    </tr>\n",
       "    <tr>\n",
       "      <th>...</th>\n",
       "      <td>...</td>\n",
       "      <td>...</td>\n",
       "      <td>...</td>\n",
       "    </tr>\n",
       "    <tr>\n",
       "      <th>89739</th>\n",
       "      <td>United States</td>\n",
       "      <td>0.0</td>\n",
       "      <td>NaN</td>\n",
       "    </tr>\n",
       "    <tr>\n",
       "      <th>89758</th>\n",
       "      <td>India</td>\n",
       "      <td>150000.0</td>\n",
       "      <td>NaN</td>\n",
       "    </tr>\n",
       "    <tr>\n",
       "      <th>89843</th>\n",
       "      <td>United States</td>\n",
       "      <td>0.0</td>\n",
       "      <td>NaN</td>\n",
       "    </tr>\n",
       "    <tr>\n",
       "      <th>89900</th>\n",
       "      <td>India</td>\n",
       "      <td>0.0</td>\n",
       "      <td>NaN</td>\n",
       "    </tr>\n",
       "    <tr>\n",
       "      <th>89928</th>\n",
       "      <td>Germany</td>\n",
       "      <td>600.0</td>\n",
       "      <td>NaN</td>\n",
       "    </tr>\n",
       "  </tbody>\n",
       "</table>\n",
       "<p>539 rows × 3 columns</p>\n",
       "</div>"
      ],
      "text/plain": [
       "             Country    Salary  ConvertedSalary\n",
       "191          Germany     600.0              NaN\n",
       "415            India   95000.0              NaN\n",
       "434            India  910000.0              NaN\n",
       "483            India  380000.0              NaN\n",
       "781          Germany    3850.0              NaN\n",
       "...              ...       ...              ...\n",
       "89739  United States       0.0              NaN\n",
       "89758          India  150000.0              NaN\n",
       "89843  United States       0.0              NaN\n",
       "89900          India       0.0              NaN\n",
       "89928        Germany     600.0              NaN\n",
       "\n",
       "[539 rows x 3 columns]"
      ]
     },
     "execution_count": 106,
     "metadata": {},
     "output_type": "execute_result"
    }
   ],
   "source": [
    "salaries4[[\"Country\",\"Salary\",\"ConvertedSalary\"]][salaries4[\"ConvertedSalary\"].isna()]"
   ]
  },
  {
   "cell_type": "code",
   "execution_count": 107,
   "id": "67df0eca",
   "metadata": {},
   "outputs": [
    {
     "data": {
      "text/html": [
       "<div>\n",
       "<style scoped>\n",
       "    .dataframe tbody tr th:only-of-type {\n",
       "        vertical-align: middle;\n",
       "    }\n",
       "\n",
       "    .dataframe tbody tr th {\n",
       "        vertical-align: top;\n",
       "    }\n",
       "\n",
       "    .dataframe thead th {\n",
       "        text-align: right;\n",
       "    }\n",
       "</style>\n",
       "<table border=\"1\" class=\"dataframe\">\n",
       "  <thead>\n",
       "    <tr style=\"text-align: right;\">\n",
       "      <th></th>\n",
       "      <th>Salary</th>\n",
       "      <th>ConvertedSalary</th>\n",
       "    </tr>\n",
       "  </thead>\n",
       "  <tbody>\n",
       "    <tr>\n",
       "      <th>4395</th>\n",
       "      <td>0.0</td>\n",
       "      <td>0.0</td>\n",
       "    </tr>\n",
       "    <tr>\n",
       "      <th>5043</th>\n",
       "      <td>0.0</td>\n",
       "      <td>NaN</td>\n",
       "    </tr>\n",
       "    <tr>\n",
       "      <th>6557</th>\n",
       "      <td>0.0</td>\n",
       "      <td>0.0</td>\n",
       "    </tr>\n",
       "    <tr>\n",
       "      <th>11189</th>\n",
       "      <td>0.0</td>\n",
       "      <td>0.0</td>\n",
       "    </tr>\n",
       "    <tr>\n",
       "      <th>11193</th>\n",
       "      <td>0.0</td>\n",
       "      <td>0.0</td>\n",
       "    </tr>\n",
       "    <tr>\n",
       "      <th>...</th>\n",
       "      <td>...</td>\n",
       "      <td>...</td>\n",
       "    </tr>\n",
       "    <tr>\n",
       "      <th>89741</th>\n",
       "      <td>0.0</td>\n",
       "      <td>0.0</td>\n",
       "    </tr>\n",
       "    <tr>\n",
       "      <th>89843</th>\n",
       "      <td>0.0</td>\n",
       "      <td>NaN</td>\n",
       "    </tr>\n",
       "    <tr>\n",
       "      <th>89900</th>\n",
       "      <td>0.0</td>\n",
       "      <td>NaN</td>\n",
       "    </tr>\n",
       "    <tr>\n",
       "      <th>89904</th>\n",
       "      <td>0.0</td>\n",
       "      <td>0.0</td>\n",
       "    </tr>\n",
       "    <tr>\n",
       "      <th>89965</th>\n",
       "      <td>0.0</td>\n",
       "      <td>0.0</td>\n",
       "    </tr>\n",
       "  </tbody>\n",
       "</table>\n",
       "<p>391 rows × 2 columns</p>\n",
       "</div>"
      ],
      "text/plain": [
       "       Salary  ConvertedSalary\n",
       "4395      0.0              0.0\n",
       "5043      0.0              NaN\n",
       "6557      0.0              0.0\n",
       "11189     0.0              0.0\n",
       "11193     0.0              0.0\n",
       "...       ...              ...\n",
       "89741     0.0              0.0\n",
       "89843     0.0              NaN\n",
       "89900     0.0              NaN\n",
       "89904     0.0              0.0\n",
       "89965     0.0              0.0\n",
       "\n",
       "[391 rows x 2 columns]"
      ]
     },
     "execution_count": 107,
     "metadata": {},
     "output_type": "execute_result"
    }
   ],
   "source": [
    "# When the \"Salary\" == 0 then \"ConvertedSalary\" == 0 #\n",
    "salaries4[[\"Salary\",\"ConvertedSalary\"]][salaries4[\"Salary\"] == 0]"
   ]
  },
  {
   "cell_type": "code",
   "execution_count": 177,
   "id": "d935314a",
   "metadata": {},
   "outputs": [
    {
     "name": "stdout",
     "output_type": "stream",
     "text": [
      "<class 'pandas.core.frame.DataFrame'>\n",
      "Int64Index: 26085 entries, 1 to 89965\n",
      "Data columns (total 11 columns):\n",
      " #   Column               Non-Null Count  Dtype  \n",
      "---  ------               --------------  -----  \n",
      " 0   Country              26085 non-null  object \n",
      " 1   Employment           26085 non-null  object \n",
      " 2   FormalEducation      26085 non-null  object \n",
      " 3   DevType              26085 non-null  object \n",
      " 4   YearsCodingProf      26085 non-null  int64  \n",
      " 5   EducationTypes       26085 non-null  object \n",
      " 6   LanguageWorkedWith   25506 non-null  object \n",
      " 7   FrameworkWorkedWith  17971 non-null  object \n",
      " 8   Age                  26085 non-null  object \n",
      " 9   Salary               26085 non-null  float64\n",
      " 10  ConvertedSalary      25546 non-null  float64\n",
      "dtypes: float64(2), int64(1), object(8)\n",
      "memory usage: 3.4+ MB\n"
     ]
    }
   ],
   "source": [
    "salaries4.info()"
   ]
  },
  {
   "cell_type": "code",
   "execution_count": 108,
   "id": "af8e30c0",
   "metadata": {},
   "outputs": [],
   "source": [
    "# TEST #\n",
    "#sal5 = salaries4.copy()"
   ]
  },
  {
   "cell_type": "code",
   "execution_count": 178,
   "id": "b788b7a8",
   "metadata": {},
   "outputs": [
    {
     "data": {
      "text/html": [
       "<div>\n",
       "<style scoped>\n",
       "    .dataframe tbody tr th:only-of-type {\n",
       "        vertical-align: middle;\n",
       "    }\n",
       "\n",
       "    .dataframe tbody tr th {\n",
       "        vertical-align: top;\n",
       "    }\n",
       "\n",
       "    .dataframe thead th {\n",
       "        text-align: right;\n",
       "    }\n",
       "</style>\n",
       "<table border=\"1\" class=\"dataframe\">\n",
       "  <thead>\n",
       "    <tr style=\"text-align: right;\">\n",
       "      <th></th>\n",
       "      <th>Salary</th>\n",
       "      <th>ConvertedSalary</th>\n",
       "    </tr>\n",
       "  </thead>\n",
       "  <tbody>\n",
       "    <tr>\n",
       "      <th>4395</th>\n",
       "      <td>0.0</td>\n",
       "      <td>0.0</td>\n",
       "    </tr>\n",
       "    <tr>\n",
       "      <th>5043</th>\n",
       "      <td>0.0</td>\n",
       "      <td>NaN</td>\n",
       "    </tr>\n",
       "    <tr>\n",
       "      <th>6557</th>\n",
       "      <td>0.0</td>\n",
       "      <td>0.0</td>\n",
       "    </tr>\n",
       "    <tr>\n",
       "      <th>11189</th>\n",
       "      <td>0.0</td>\n",
       "      <td>0.0</td>\n",
       "    </tr>\n",
       "    <tr>\n",
       "      <th>11193</th>\n",
       "      <td>0.0</td>\n",
       "      <td>0.0</td>\n",
       "    </tr>\n",
       "    <tr>\n",
       "      <th>...</th>\n",
       "      <td>...</td>\n",
       "      <td>...</td>\n",
       "    </tr>\n",
       "    <tr>\n",
       "      <th>89741</th>\n",
       "      <td>0.0</td>\n",
       "      <td>0.0</td>\n",
       "    </tr>\n",
       "    <tr>\n",
       "      <th>89843</th>\n",
       "      <td>0.0</td>\n",
       "      <td>NaN</td>\n",
       "    </tr>\n",
       "    <tr>\n",
       "      <th>89900</th>\n",
       "      <td>0.0</td>\n",
       "      <td>NaN</td>\n",
       "    </tr>\n",
       "    <tr>\n",
       "      <th>89904</th>\n",
       "      <td>0.0</td>\n",
       "      <td>0.0</td>\n",
       "    </tr>\n",
       "    <tr>\n",
       "      <th>89965</th>\n",
       "      <td>0.0</td>\n",
       "      <td>0.0</td>\n",
       "    </tr>\n",
       "  </tbody>\n",
       "</table>\n",
       "<p>391 rows × 2 columns</p>\n",
       "</div>"
      ],
      "text/plain": [
       "       Salary  ConvertedSalary\n",
       "4395      0.0              0.0\n",
       "5043      0.0              NaN\n",
       "6557      0.0              0.0\n",
       "11189     0.0              0.0\n",
       "11193     0.0              0.0\n",
       "...       ...              ...\n",
       "89741     0.0              0.0\n",
       "89843     0.0              NaN\n",
       "89900     0.0              NaN\n",
       "89904     0.0              0.0\n",
       "89965     0.0              0.0\n",
       "\n",
       "[391 rows x 2 columns]"
      ]
     },
     "execution_count": 178,
     "metadata": {},
     "output_type": "execute_result"
    }
   ],
   "source": [
    "salaries4.loc[salaries4[\"Salary\"] == 0,[\"Salary\",\"ConvertedSalary\"]]"
   ]
  },
  {
   "cell_type": "code",
   "execution_count": 179,
   "id": "0c8b58b4",
   "metadata": {},
   "outputs": [
    {
     "data": {
      "text/html": [
       "<div>\n",
       "<style scoped>\n",
       "    .dataframe tbody tr th:only-of-type {\n",
       "        vertical-align: middle;\n",
       "    }\n",
       "\n",
       "    .dataframe tbody tr th {\n",
       "        vertical-align: top;\n",
       "    }\n",
       "\n",
       "    .dataframe thead th {\n",
       "        text-align: right;\n",
       "    }\n",
       "</style>\n",
       "<table border=\"1\" class=\"dataframe\">\n",
       "  <thead>\n",
       "    <tr style=\"text-align: right;\">\n",
       "      <th></th>\n",
       "      <th>Salary</th>\n",
       "      <th>ConvertedSalary</th>\n",
       "    </tr>\n",
       "  </thead>\n",
       "  <tbody>\n",
       "    <tr>\n",
       "      <th>5043</th>\n",
       "      <td>0.0</td>\n",
       "      <td>NaN</td>\n",
       "    </tr>\n",
       "    <tr>\n",
       "      <th>35725</th>\n",
       "      <td>0.0</td>\n",
       "      <td>NaN</td>\n",
       "    </tr>\n",
       "    <tr>\n",
       "      <th>38127</th>\n",
       "      <td>0.0</td>\n",
       "      <td>NaN</td>\n",
       "    </tr>\n",
       "    <tr>\n",
       "      <th>54919</th>\n",
       "      <td>0.0</td>\n",
       "      <td>NaN</td>\n",
       "    </tr>\n",
       "    <tr>\n",
       "      <th>65985</th>\n",
       "      <td>0.0</td>\n",
       "      <td>NaN</td>\n",
       "    </tr>\n",
       "    <tr>\n",
       "      <th>...</th>\n",
       "      <td>...</td>\n",
       "      <td>...</td>\n",
       "    </tr>\n",
       "    <tr>\n",
       "      <th>89670</th>\n",
       "      <td>0.0</td>\n",
       "      <td>NaN</td>\n",
       "    </tr>\n",
       "    <tr>\n",
       "      <th>89725</th>\n",
       "      <td>0.0</td>\n",
       "      <td>NaN</td>\n",
       "    </tr>\n",
       "    <tr>\n",
       "      <th>89739</th>\n",
       "      <td>0.0</td>\n",
       "      <td>NaN</td>\n",
       "    </tr>\n",
       "    <tr>\n",
       "      <th>89843</th>\n",
       "      <td>0.0</td>\n",
       "      <td>NaN</td>\n",
       "    </tr>\n",
       "    <tr>\n",
       "      <th>89900</th>\n",
       "      <td>0.0</td>\n",
       "      <td>NaN</td>\n",
       "    </tr>\n",
       "  </tbody>\n",
       "</table>\n",
       "<p>116 rows × 2 columns</p>\n",
       "</div>"
      ],
      "text/plain": [
       "       Salary  ConvertedSalary\n",
       "5043      0.0              NaN\n",
       "35725     0.0              NaN\n",
       "38127     0.0              NaN\n",
       "54919     0.0              NaN\n",
       "65985     0.0              NaN\n",
       "...       ...              ...\n",
       "89670     0.0              NaN\n",
       "89725     0.0              NaN\n",
       "89739     0.0              NaN\n",
       "89843     0.0              NaN\n",
       "89900     0.0              NaN\n",
       "\n",
       "[116 rows x 2 columns]"
      ]
     },
     "execution_count": 179,
     "metadata": {},
     "output_type": "execute_result"
    }
   ],
   "source": [
    "# when Salary is 0 and ConvertedSalary is NaN #\n",
    "salaries4.loc[(salaries4[\"Salary\"] == 0) & (salaries4[\"ConvertedSalary\"].isnull()),[\"Salary\",\"ConvertedSalary\"]]"
   ]
  },
  {
   "cell_type": "code",
   "execution_count": 180,
   "id": "44f9b610",
   "metadata": {},
   "outputs": [
    {
     "name": "stderr",
     "output_type": "stream",
     "text": [
      "C:\\ProgramData\\Anaconda3\\lib\\site-packages\\pandas\\core\\indexing.py:1676: SettingWithCopyWarning: \n",
      "A value is trying to be set on a copy of a slice from a DataFrame.\n",
      "Try using .loc[row_indexer,col_indexer] = value instead\n",
      "\n",
      "See the caveats in the documentation: https://pandas.pydata.org/pandas-docs/stable/user_guide/indexing.html#returning-a-view-versus-a-copy\n",
      "  self._setitem_single_column(ilocs[0], value, pi)\n"
     ]
    }
   ],
   "source": [
    "# where 'Salary' is 0 and 'ConvertedSalary' is NaN replace 'ConvertedSalary' with the corisponding 'Salary' value #\n",
    "salaries4.loc[(salaries4[\"Salary\"] == 0) & (salaries4[\"ConvertedSalary\"].isnull()),\"ConvertedSalary\"] = salaries4[\"Salary\"]"
   ]
  },
  {
   "cell_type": "code",
   "execution_count": 181,
   "id": "88443447",
   "metadata": {},
   "outputs": [
    {
     "data": {
      "text/plain": [
       "Series([], Name: ConvertedSalary, dtype: float64)"
      ]
     },
     "execution_count": 181,
     "metadata": {},
     "output_type": "execute_result"
    }
   ],
   "source": [
    "# view result\n",
    "salaries4.loc[(salaries4[\"Salary\"] == 0) & (salaries4[\"ConvertedSalary\"].isnull()),\"ConvertedSalary\"] "
   ]
  },
  {
   "cell_type": "code",
   "execution_count": 182,
   "id": "3fa7ef76",
   "metadata": {},
   "outputs": [
    {
     "data": {
      "text/html": [
       "<div>\n",
       "<style scoped>\n",
       "    .dataframe tbody tr th:only-of-type {\n",
       "        vertical-align: middle;\n",
       "    }\n",
       "\n",
       "    .dataframe tbody tr th {\n",
       "        vertical-align: top;\n",
       "    }\n",
       "\n",
       "    .dataframe thead th {\n",
       "        text-align: right;\n",
       "    }\n",
       "</style>\n",
       "<table border=\"1\" class=\"dataframe\">\n",
       "  <thead>\n",
       "    <tr style=\"text-align: right;\">\n",
       "      <th></th>\n",
       "      <th>Country</th>\n",
       "      <th>Salary</th>\n",
       "      <th>ConvertedSalary</th>\n",
       "    </tr>\n",
       "  </thead>\n",
       "  <tbody>\n",
       "    <tr>\n",
       "      <th>191</th>\n",
       "      <td>Germany</td>\n",
       "      <td>600.0</td>\n",
       "      <td>NaN</td>\n",
       "    </tr>\n",
       "    <tr>\n",
       "      <th>415</th>\n",
       "      <td>India</td>\n",
       "      <td>95000.0</td>\n",
       "      <td>NaN</td>\n",
       "    </tr>\n",
       "    <tr>\n",
       "      <th>434</th>\n",
       "      <td>India</td>\n",
       "      <td>910000.0</td>\n",
       "      <td>NaN</td>\n",
       "    </tr>\n",
       "    <tr>\n",
       "      <th>483</th>\n",
       "      <td>India</td>\n",
       "      <td>380000.0</td>\n",
       "      <td>NaN</td>\n",
       "    </tr>\n",
       "    <tr>\n",
       "      <th>488</th>\n",
       "      <td>India</td>\n",
       "      <td>23.0</td>\n",
       "      <td>0.0</td>\n",
       "    </tr>\n",
       "    <tr>\n",
       "      <th>...</th>\n",
       "      <td>...</td>\n",
       "      <td>...</td>\n",
       "      <td>...</td>\n",
       "    </tr>\n",
       "    <tr>\n",
       "      <th>89843</th>\n",
       "      <td>United States</td>\n",
       "      <td>0.0</td>\n",
       "      <td>0.0</td>\n",
       "    </tr>\n",
       "    <tr>\n",
       "      <th>89900</th>\n",
       "      <td>India</td>\n",
       "      <td>0.0</td>\n",
       "      <td>0.0</td>\n",
       "    </tr>\n",
       "    <tr>\n",
       "      <th>89904</th>\n",
       "      <td>Canada</td>\n",
       "      <td>0.0</td>\n",
       "      <td>0.0</td>\n",
       "    </tr>\n",
       "    <tr>\n",
       "      <th>89928</th>\n",
       "      <td>Germany</td>\n",
       "      <td>600.0</td>\n",
       "      <td>NaN</td>\n",
       "    </tr>\n",
       "    <tr>\n",
       "      <th>89965</th>\n",
       "      <td>India</td>\n",
       "      <td>0.0</td>\n",
       "      <td>0.0</td>\n",
       "    </tr>\n",
       "  </tbody>\n",
       "</table>\n",
       "<p>879 rows × 3 columns</p>\n",
       "</div>"
      ],
      "text/plain": [
       "             Country    Salary  ConvertedSalary\n",
       "191          Germany     600.0              NaN\n",
       "415            India   95000.0              NaN\n",
       "434            India  910000.0              NaN\n",
       "483            India  380000.0              NaN\n",
       "488            India      23.0              0.0\n",
       "...              ...       ...              ...\n",
       "89843  United States       0.0              0.0\n",
       "89900          India       0.0              0.0\n",
       "89904         Canada       0.0              0.0\n",
       "89928        Germany     600.0              NaN\n",
       "89965          India       0.0              0.0\n",
       "\n",
       "[879 rows x 3 columns]"
      ]
     },
     "execution_count": 182,
     "metadata": {},
     "output_type": "execute_result"
    }
   ],
   "source": [
    "# view the country and salary and convertedsalary #\n",
    "salaries4.loc[(salaries4[\"ConvertedSalary\"] == 0) | (salaries4[\"ConvertedSalary\"].isnull()),[\"Country\",\"Salary\",\"ConvertedSalary\"]]"
   ]
  },
  {
   "cell_type": "code",
   "execution_count": 183,
   "id": "0cec7974",
   "metadata": {
    "scrolled": true
   },
   "outputs": [
    {
     "data": {
      "text/plain": [
       "Country       \n",
       "India             401\n",
       "United States     230\n",
       "Germany           141\n",
       "United Kingdom     57\n",
       "Canada             50\n",
       "dtype: int64"
      ]
     },
     "execution_count": 183,
     "metadata": {},
     "output_type": "execute_result"
    }
   ],
   "source": [
    "# view the countries we need currency changes for #\n",
    "salaries4.loc[(salaries4[\"ConvertedSalary\"] == 0) | (salaries4[\"ConvertedSalary\"].isnull()),[\"Country\"]].value_counts()"
   ]
  },
  {
   "cell_type": "markdown",
   "id": "fcd01881",
   "metadata": {},
   "source": [
    "- India to USD*0.01381\n",
    "- Germany to USD*1.09\n",
    "- United Kingdom to USD*1.30\n",
    "- Canada to USD*0.77610"
   ]
  },
  {
   "cell_type": "code",
   "execution_count": 184,
   "id": "bc1bd305",
   "metadata": {},
   "outputs": [
    {
     "data": {
      "text/html": [
       "<div>\n",
       "<style scoped>\n",
       "    .dataframe tbody tr th:only-of-type {\n",
       "        vertical-align: middle;\n",
       "    }\n",
       "\n",
       "    .dataframe tbody tr th {\n",
       "        vertical-align: top;\n",
       "    }\n",
       "\n",
       "    .dataframe thead th {\n",
       "        text-align: right;\n",
       "    }\n",
       "</style>\n",
       "<table border=\"1\" class=\"dataframe\">\n",
       "  <thead>\n",
       "    <tr style=\"text-align: right;\">\n",
       "      <th></th>\n",
       "      <th>Country</th>\n",
       "      <th>Salary</th>\n",
       "      <th>ConvertedSalary</th>\n",
       "    </tr>\n",
       "  </thead>\n",
       "  <tbody>\n",
       "    <tr>\n",
       "      <th>89309</th>\n",
       "      <td>India</td>\n",
       "      <td>5000.0</td>\n",
       "      <td>936.0</td>\n",
       "    </tr>\n",
       "    <tr>\n",
       "      <th>89363</th>\n",
       "      <td>India</td>\n",
       "      <td>0.0</td>\n",
       "      <td>0.0</td>\n",
       "    </tr>\n",
       "    <tr>\n",
       "      <th>89517</th>\n",
       "      <td>India</td>\n",
       "      <td>700000.0</td>\n",
       "      <td>10958.0</td>\n",
       "    </tr>\n",
       "    <tr>\n",
       "      <th>89634</th>\n",
       "      <td>India</td>\n",
       "      <td>1000.0</td>\n",
       "      <td>800.0</td>\n",
       "    </tr>\n",
       "    <tr>\n",
       "      <th>89660</th>\n",
       "      <td>India</td>\n",
       "      <td>0.0</td>\n",
       "      <td>0.0</td>\n",
       "    </tr>\n",
       "    <tr>\n",
       "      <th>89725</th>\n",
       "      <td>India</td>\n",
       "      <td>0.0</td>\n",
       "      <td>0.0</td>\n",
       "    </tr>\n",
       "    <tr>\n",
       "      <th>89758</th>\n",
       "      <td>India</td>\n",
       "      <td>150000.0</td>\n",
       "      <td>NaN</td>\n",
       "    </tr>\n",
       "    <tr>\n",
       "      <th>89888</th>\n",
       "      <td>India</td>\n",
       "      <td>1000.0</td>\n",
       "      <td>800.0</td>\n",
       "    </tr>\n",
       "    <tr>\n",
       "      <th>89900</th>\n",
       "      <td>India</td>\n",
       "      <td>0.0</td>\n",
       "      <td>0.0</td>\n",
       "    </tr>\n",
       "    <tr>\n",
       "      <th>89965</th>\n",
       "      <td>India</td>\n",
       "      <td>0.0</td>\n",
       "      <td>0.0</td>\n",
       "    </tr>\n",
       "  </tbody>\n",
       "</table>\n",
       "</div>"
      ],
      "text/plain": [
       "      Country    Salary  ConvertedSalary\n",
       "89309   India    5000.0            936.0\n",
       "89363   India       0.0              0.0\n",
       "89517   India  700000.0          10958.0\n",
       "89634   India    1000.0            800.0\n",
       "89660   India       0.0              0.0\n",
       "89725   India       0.0              0.0\n",
       "89758   India  150000.0              NaN\n",
       "89888   India    1000.0            800.0\n",
       "89900   India       0.0              0.0\n",
       "89965   India       0.0              0.0"
      ]
     },
     "execution_count": 184,
     "metadata": {},
     "output_type": "execute_result"
    }
   ],
   "source": [
    "# For India #\n",
    "salaries4.loc[salaries4[\"Country\"]==\"India\",[\"Country\",\"Salary\",\"ConvertedSalary\"]].tail(10)"
   ]
  },
  {
   "cell_type": "code",
   "execution_count": 185,
   "id": "f79bdf91",
   "metadata": {},
   "outputs": [
    {
     "data": {
      "text/html": [
       "<div>\n",
       "<style scoped>\n",
       "    .dataframe tbody tr th:only-of-type {\n",
       "        vertical-align: middle;\n",
       "    }\n",
       "\n",
       "    .dataframe tbody tr th {\n",
       "        vertical-align: top;\n",
       "    }\n",
       "\n",
       "    .dataframe thead th {\n",
       "        text-align: right;\n",
       "    }\n",
       "</style>\n",
       "<table border=\"1\" class=\"dataframe\">\n",
       "  <thead>\n",
       "    <tr style=\"text-align: right;\">\n",
       "      <th></th>\n",
       "      <th>Country</th>\n",
       "      <th>Salary</th>\n",
       "      <th>ConvertedSalary</th>\n",
       "    </tr>\n",
       "  </thead>\n",
       "  <tbody>\n",
       "    <tr>\n",
       "      <th>415</th>\n",
       "      <td>India</td>\n",
       "      <td>95000.0</td>\n",
       "      <td>NaN</td>\n",
       "    </tr>\n",
       "    <tr>\n",
       "      <th>434</th>\n",
       "      <td>India</td>\n",
       "      <td>910000.0</td>\n",
       "      <td>NaN</td>\n",
       "    </tr>\n",
       "    <tr>\n",
       "      <th>483</th>\n",
       "      <td>India</td>\n",
       "      <td>380000.0</td>\n",
       "      <td>NaN</td>\n",
       "    </tr>\n",
       "    <tr>\n",
       "      <th>811</th>\n",
       "      <td>India</td>\n",
       "      <td>850000.0</td>\n",
       "      <td>NaN</td>\n",
       "    </tr>\n",
       "    <tr>\n",
       "      <th>1554</th>\n",
       "      <td>India</td>\n",
       "      <td>30000.0</td>\n",
       "      <td>NaN</td>\n",
       "    </tr>\n",
       "    <tr>\n",
       "      <th>...</th>\n",
       "      <td>...</td>\n",
       "      <td>...</td>\n",
       "      <td>...</td>\n",
       "    </tr>\n",
       "    <tr>\n",
       "      <th>83055</th>\n",
       "      <td>India</td>\n",
       "      <td>8.7</td>\n",
       "      <td>NaN</td>\n",
       "    </tr>\n",
       "    <tr>\n",
       "      <th>85702</th>\n",
       "      <td>India</td>\n",
       "      <td>900000.0</td>\n",
       "      <td>NaN</td>\n",
       "    </tr>\n",
       "    <tr>\n",
       "      <th>87458</th>\n",
       "      <td>India</td>\n",
       "      <td>1000.0</td>\n",
       "      <td>NaN</td>\n",
       "    </tr>\n",
       "    <tr>\n",
       "      <th>88319</th>\n",
       "      <td>India</td>\n",
       "      <td>35000.0</td>\n",
       "      <td>NaN</td>\n",
       "    </tr>\n",
       "    <tr>\n",
       "      <th>89758</th>\n",
       "      <td>India</td>\n",
       "      <td>150000.0</td>\n",
       "      <td>NaN</td>\n",
       "    </tr>\n",
       "  </tbody>\n",
       "</table>\n",
       "<p>204 rows × 3 columns</p>\n",
       "</div>"
      ],
      "text/plain": [
       "      Country    Salary  ConvertedSalary\n",
       "415     India   95000.0              NaN\n",
       "434     India  910000.0              NaN\n",
       "483     India  380000.0              NaN\n",
       "811     India  850000.0              NaN\n",
       "1554    India   30000.0              NaN\n",
       "...       ...       ...              ...\n",
       "83055   India       8.7              NaN\n",
       "85702   India  900000.0              NaN\n",
       "87458   India    1000.0              NaN\n",
       "88319   India   35000.0              NaN\n",
       "89758   India  150000.0              NaN\n",
       "\n",
       "[204 rows x 3 columns]"
      ]
     },
     "execution_count": 185,
     "metadata": {},
     "output_type": "execute_result"
    }
   ],
   "source": [
    "# Show where counrty is India and converted salary is null\n",
    "salaries4.loc[(salaries4[\"Country\"]==\"India\") & (salaries4[\"ConvertedSalary\"].isnull()), [\"Country\",\"Salary\",\"ConvertedSalary\"]]"
   ]
  },
  {
   "cell_type": "code",
   "execution_count": 187,
   "id": "f7081ba6",
   "metadata": {},
   "outputs": [
    {
     "data": {
      "text/plain": [
       "415     NaN\n",
       "434     NaN\n",
       "483     NaN\n",
       "811     NaN\n",
       "1554    NaN\n",
       "         ..\n",
       "83055   NaN\n",
       "85702   NaN\n",
       "87458   NaN\n",
       "88319   NaN\n",
       "89758   NaN\n",
       "Name: ConvertedSalary, Length: 204, dtype: float64"
      ]
     },
     "execution_count": 187,
     "metadata": {},
     "output_type": "execute_result"
    }
   ],
   "source": [
    "# set the null values in the condition below to the curency change #\n",
    "salaries4.loc[(salaries4[\"Country\"]==\"India\") & (salaries4[\"ConvertedSalary\"].isnull()), \"ConvertedSalary\"]"
   ]
  },
  {
   "cell_type": "code",
   "execution_count": 188,
   "id": "f6b921ba",
   "metadata": {},
   "outputs": [
    {
     "data": {
      "text/plain": [
       "415       1311.950000\n",
       "434      12567.100000\n",
       "483       5247.800000\n",
       "811      11738.500000\n",
       "1554       414.300000\n",
       "             ...     \n",
       "83055        0.120147\n",
       "85702    12429.000000\n",
       "87458       13.810000\n",
       "88319      483.350000\n",
       "89758     2071.500000\n",
       "Name: Salary, Length: 204, dtype: float64"
      ]
     },
     "execution_count": 188,
     "metadata": {},
     "output_type": "execute_result"
    }
   ],
   "source": [
    "# currency converion #\n",
    "salaries4.loc[(salaries4[\"Country\"]==\"India\") & (salaries4[\"ConvertedSalary\"].isnull()), \"Salary\"] * 0.01381"
   ]
  },
  {
   "cell_type": "code",
   "execution_count": 189,
   "id": "495d454f",
   "metadata": {},
   "outputs": [
    {
     "name": "stderr",
     "output_type": "stream",
     "text": [
      "C:\\ProgramData\\Anaconda3\\lib\\site-packages\\pandas\\core\\indexing.py:1676: SettingWithCopyWarning: \n",
      "A value is trying to be set on a copy of a slice from a DataFrame.\n",
      "Try using .loc[row_indexer,col_indexer] = value instead\n",
      "\n",
      "See the caveats in the documentation: https://pandas.pydata.org/pandas-docs/stable/user_guide/indexing.html#returning-a-view-versus-a-copy\n",
      "  self._setitem_single_column(ilocs[0], value, pi)\n"
     ]
    }
   ],
   "source": [
    "# Currency converion appllied to the dataframe column under the specified conditions #\n",
    "salaries4.loc[\n",
    "    (salaries4[\"Country\"]==\"India\") & (salaries4[\"ConvertedSalary\"].isnull()), \"ConvertedSalary\"\n",
    "] = salaries4.loc[(salaries4[\"Country\"]==\"India\") & (salaries4[\"ConvertedSalary\"].isnull()), \"Salary\"] * 0.01381"
   ]
  },
  {
   "cell_type": "code",
   "execution_count": 190,
   "id": "6ff801f7",
   "metadata": {},
   "outputs": [
    {
     "data": {
      "text/html": [
       "<div>\n",
       "<style scoped>\n",
       "    .dataframe tbody tr th:only-of-type {\n",
       "        vertical-align: middle;\n",
       "    }\n",
       "\n",
       "    .dataframe tbody tr th {\n",
       "        vertical-align: top;\n",
       "    }\n",
       "\n",
       "    .dataframe thead th {\n",
       "        text-align: right;\n",
       "    }\n",
       "</style>\n",
       "<table border=\"1\" class=\"dataframe\">\n",
       "  <thead>\n",
       "    <tr style=\"text-align: right;\">\n",
       "      <th></th>\n",
       "      <th>Salary</th>\n",
       "      <th>ConvertedSalary</th>\n",
       "    </tr>\n",
       "  </thead>\n",
       "  <tbody>\n",
       "  </tbody>\n",
       "</table>\n",
       "</div>"
      ],
      "text/plain": [
       "Empty DataFrame\n",
       "Columns: [Salary, ConvertedSalary]\n",
       "Index: []"
      ]
     },
     "execution_count": 190,
     "metadata": {},
     "output_type": "execute_result"
    }
   ],
   "source": [
    "# shows no null values exist within the specified condition #\n",
    "salaries4.loc[(salaries4[\"Country\"]==\"India\") & (salaries4[\"ConvertedSalary\"].isnull()), [\"Salary\",\"ConvertedSalary\"]]"
   ]
  },
  {
   "cell_type": "code",
   "execution_count": 191,
   "id": "7879c639",
   "metadata": {},
   "outputs": [
    {
     "data": {
      "text/html": [
       "<div>\n",
       "<style scoped>\n",
       "    .dataframe tbody tr th:only-of-type {\n",
       "        vertical-align: middle;\n",
       "    }\n",
       "\n",
       "    .dataframe tbody tr th {\n",
       "        vertical-align: top;\n",
       "    }\n",
       "\n",
       "    .dataframe thead th {\n",
       "        text-align: right;\n",
       "    }\n",
       "</style>\n",
       "<table border=\"1\" class=\"dataframe\">\n",
       "  <thead>\n",
       "    <tr style=\"text-align: right;\">\n",
       "      <th></th>\n",
       "      <th>Salary</th>\n",
       "      <th>ConvertedSalary</th>\n",
       "    </tr>\n",
       "  </thead>\n",
       "  <tbody>\n",
       "    <tr>\n",
       "      <th>24</th>\n",
       "      <td>700000.0</td>\n",
       "      <td>10958.0</td>\n",
       "    </tr>\n",
       "    <tr>\n",
       "      <th>41</th>\n",
       "      <td>660000.0</td>\n",
       "      <td>123984.0</td>\n",
       "    </tr>\n",
       "    <tr>\n",
       "      <th>45</th>\n",
       "      <td>35000.0</td>\n",
       "      <td>6576.0</td>\n",
       "    </tr>\n",
       "    <tr>\n",
       "      <th>93</th>\n",
       "      <td>2200000.0</td>\n",
       "      <td>34440.0</td>\n",
       "    </tr>\n",
       "    <tr>\n",
       "      <th>95</th>\n",
       "      <td>22000.0</td>\n",
       "      <td>4128.0</td>\n",
       "    </tr>\n",
       "    <tr>\n",
       "      <th>...</th>\n",
       "      <td>...</td>\n",
       "      <td>...</td>\n",
       "    </tr>\n",
       "    <tr>\n",
       "      <th>89725</th>\n",
       "      <td>0.0</td>\n",
       "      <td>0.0</td>\n",
       "    </tr>\n",
       "    <tr>\n",
       "      <th>89758</th>\n",
       "      <td>150000.0</td>\n",
       "      <td>2071.5</td>\n",
       "    </tr>\n",
       "    <tr>\n",
       "      <th>89888</th>\n",
       "      <td>1000.0</td>\n",
       "      <td>800.0</td>\n",
       "    </tr>\n",
       "    <tr>\n",
       "      <th>89900</th>\n",
       "      <td>0.0</td>\n",
       "      <td>0.0</td>\n",
       "    </tr>\n",
       "    <tr>\n",
       "      <th>89965</th>\n",
       "      <td>0.0</td>\n",
       "      <td>0.0</td>\n",
       "    </tr>\n",
       "  </tbody>\n",
       "</table>\n",
       "<p>4231 rows × 2 columns</p>\n",
       "</div>"
      ],
      "text/plain": [
       "          Salary  ConvertedSalary\n",
       "24      700000.0          10958.0\n",
       "41      660000.0         123984.0\n",
       "45       35000.0           6576.0\n",
       "93     2200000.0          34440.0\n",
       "95       22000.0           4128.0\n",
       "...          ...              ...\n",
       "89725        0.0              0.0\n",
       "89758   150000.0           2071.5\n",
       "89888     1000.0            800.0\n",
       "89900        0.0              0.0\n",
       "89965        0.0              0.0\n",
       "\n",
       "[4231 rows x 2 columns]"
      ]
     },
     "execution_count": 191,
     "metadata": {},
     "output_type": "execute_result"
    }
   ],
   "source": [
    "salaries4.loc[salaries4[\"Country\"]==\"India\", [\"Salary\",\"ConvertedSalary\"]]"
   ]
  },
  {
   "cell_type": "code",
   "execution_count": 192,
   "id": "0d06e198",
   "metadata": {},
   "outputs": [
    {
     "data": {
      "text/html": [
       "<div>\n",
       "<style scoped>\n",
       "    .dataframe tbody tr th:only-of-type {\n",
       "        vertical-align: middle;\n",
       "    }\n",
       "\n",
       "    .dataframe tbody tr th {\n",
       "        vertical-align: top;\n",
       "    }\n",
       "\n",
       "    .dataframe thead th {\n",
       "        text-align: right;\n",
       "    }\n",
       "</style>\n",
       "<table border=\"1\" class=\"dataframe\">\n",
       "  <thead>\n",
       "    <tr style=\"text-align: right;\">\n",
       "      <th></th>\n",
       "      <th>Country</th>\n",
       "      <th>Salary</th>\n",
       "      <th>ConvertedSalary</th>\n",
       "    </tr>\n",
       "  </thead>\n",
       "  <tbody>\n",
       "    <tr>\n",
       "      <th>191</th>\n",
       "      <td>Germany</td>\n",
       "      <td>600.0</td>\n",
       "      <td>NaN</td>\n",
       "    </tr>\n",
       "    <tr>\n",
       "      <th>781</th>\n",
       "      <td>Germany</td>\n",
       "      <td>3850.0</td>\n",
       "      <td>NaN</td>\n",
       "    </tr>\n",
       "    <tr>\n",
       "      <th>1690</th>\n",
       "      <td>Germany</td>\n",
       "      <td>4000.0</td>\n",
       "      <td>NaN</td>\n",
       "    </tr>\n",
       "    <tr>\n",
       "      <th>2398</th>\n",
       "      <td>Germany</td>\n",
       "      <td>3333.0</td>\n",
       "      <td>NaN</td>\n",
       "    </tr>\n",
       "    <tr>\n",
       "      <th>2473</th>\n",
       "      <td>Germany</td>\n",
       "      <td>7750.0</td>\n",
       "      <td>NaN</td>\n",
       "    </tr>\n",
       "    <tr>\n",
       "      <th>...</th>\n",
       "      <td>...</td>\n",
       "      <td>...</td>\n",
       "      <td>...</td>\n",
       "    </tr>\n",
       "    <tr>\n",
       "      <th>77832</th>\n",
       "      <td>Germany</td>\n",
       "      <td>15000.0</td>\n",
       "      <td>NaN</td>\n",
       "    </tr>\n",
       "    <tr>\n",
       "      <th>78173</th>\n",
       "      <td>Germany</td>\n",
       "      <td>1400.0</td>\n",
       "      <td>NaN</td>\n",
       "    </tr>\n",
       "    <tr>\n",
       "      <th>78584</th>\n",
       "      <td>Germany</td>\n",
       "      <td>360.0</td>\n",
       "      <td>NaN</td>\n",
       "    </tr>\n",
       "    <tr>\n",
       "      <th>84026</th>\n",
       "      <td>Germany</td>\n",
       "      <td>2500.0</td>\n",
       "      <td>NaN</td>\n",
       "    </tr>\n",
       "    <tr>\n",
       "      <th>89928</th>\n",
       "      <td>Germany</td>\n",
       "      <td>600.0</td>\n",
       "      <td>NaN</td>\n",
       "    </tr>\n",
       "  </tbody>\n",
       "</table>\n",
       "<p>115 rows × 3 columns</p>\n",
       "</div>"
      ],
      "text/plain": [
       "       Country   Salary  ConvertedSalary\n",
       "191    Germany    600.0              NaN\n",
       "781    Germany   3850.0              NaN\n",
       "1690   Germany   4000.0              NaN\n",
       "2398   Germany   3333.0              NaN\n",
       "2473   Germany   7750.0              NaN\n",
       "...        ...      ...              ...\n",
       "77832  Germany  15000.0              NaN\n",
       "78173  Germany   1400.0              NaN\n",
       "78584  Germany    360.0              NaN\n",
       "84026  Germany   2500.0              NaN\n",
       "89928  Germany    600.0              NaN\n",
       "\n",
       "[115 rows x 3 columns]"
      ]
     },
     "execution_count": 192,
     "metadata": {},
     "output_type": "execute_result"
    }
   ],
   "source": [
    "# FOR GERMANY #\n",
    "salaries4.loc[(salaries4[\"Country\"]==\"Germany\") & (salaries4[\"ConvertedSalary\"].isnull()),[\"Country\",\"Salary\",\"ConvertedSalary\"]]"
   ]
  },
  {
   "cell_type": "code",
   "execution_count": 193,
   "id": "d925a5ea",
   "metadata": {},
   "outputs": [
    {
     "data": {
      "text/plain": [
       "191     NaN\n",
       "781     NaN\n",
       "1690    NaN\n",
       "2398    NaN\n",
       "2473    NaN\n",
       "         ..\n",
       "77832   NaN\n",
       "78173   NaN\n",
       "78584   NaN\n",
       "84026   NaN\n",
       "89928   NaN\n",
       "Name: ConvertedSalary, Length: 115, dtype: float64"
      ]
     },
     "execution_count": 193,
     "metadata": {},
     "output_type": "execute_result"
    }
   ],
   "source": [
    "# values that need conversion #\n",
    "salaries4.loc[(salaries4[\"Country\"]==\"Germany\") & (salaries4[\"ConvertedSalary\"].isnull()),\"ConvertedSalary\"]"
   ]
  },
  {
   "cell_type": "code",
   "execution_count": 194,
   "id": "36b0e474",
   "metadata": {},
   "outputs": [
    {
     "data": {
      "text/plain": [
       "191        654.00\n",
       "781       4196.50\n",
       "1690      4360.00\n",
       "2398      3632.97\n",
       "2473      8447.50\n",
       "           ...   \n",
       "77832    16350.00\n",
       "78173     1526.00\n",
       "78584      392.40\n",
       "84026     2725.00\n",
       "89928      654.00\n",
       "Name: Salary, Length: 115, dtype: float64"
      ]
     },
     "execution_count": 194,
     "metadata": {},
     "output_type": "execute_result"
    }
   ],
   "source": [
    "# Conversion #\n",
    "salaries4.loc[(salaries4[\"Country\"]==\"Germany\") & (salaries4[\"ConvertedSalary\"].isnull()), \"Salary\"] * 1.09"
   ]
  },
  {
   "cell_type": "code",
   "execution_count": 195,
   "id": "e0236f9d",
   "metadata": {},
   "outputs": [
    {
     "name": "stderr",
     "output_type": "stream",
     "text": [
      "C:\\ProgramData\\Anaconda3\\lib\\site-packages\\pandas\\core\\indexing.py:1676: SettingWithCopyWarning: \n",
      "A value is trying to be set on a copy of a slice from a DataFrame.\n",
      "Try using .loc[row_indexer,col_indexer] = value instead\n",
      "\n",
      "See the caveats in the documentation: https://pandas.pydata.org/pandas-docs/stable/user_guide/indexing.html#returning-a-view-versus-a-copy\n",
      "  self._setitem_single_column(ilocs[0], value, pi)\n"
     ]
    }
   ],
   "source": [
    "# Conversion applied #\n",
    "salaries4.loc[\n",
    "    (salaries4[\"Country\"]==\"Germany\") & (salaries4[\"ConvertedSalary\"].isnull()),\"ConvertedSalary\"\n",
    "] = salaries4.loc[(salaries4[\"Country\"]==\"Germany\") & (salaries4[\"ConvertedSalary\"].isnull()), \"Salary\"] * 1.09"
   ]
  },
  {
   "cell_type": "code",
   "execution_count": 196,
   "id": "052a5e4e",
   "metadata": {},
   "outputs": [
    {
     "data": {
      "text/plain": [
       "Series([], Name: ConvertedSalary, dtype: float64)"
      ]
     },
     "execution_count": 196,
     "metadata": {},
     "output_type": "execute_result"
    }
   ],
   "source": [
    "salaries4.loc[\n",
    "    (salaries4[\"Country\"]==\"Germany\") & (salaries4[\"ConvertedSalary\"].isnull()),\"ConvertedSalary\"\n",
    "]"
   ]
  },
  {
   "cell_type": "code",
   "execution_count": 197,
   "id": "9a7100c6",
   "metadata": {},
   "outputs": [
    {
     "data": {
      "text/html": [
       "<div>\n",
       "<style scoped>\n",
       "    .dataframe tbody tr th:only-of-type {\n",
       "        vertical-align: middle;\n",
       "    }\n",
       "\n",
       "    .dataframe tbody tr th {\n",
       "        vertical-align: top;\n",
       "    }\n",
       "\n",
       "    .dataframe thead th {\n",
       "        text-align: right;\n",
       "    }\n",
       "</style>\n",
       "<table border=\"1\" class=\"dataframe\">\n",
       "  <thead>\n",
       "    <tr style=\"text-align: right;\">\n",
       "      <th></th>\n",
       "      <th>Country</th>\n",
       "      <th>Salary</th>\n",
       "      <th>ConvertedSalary</th>\n",
       "    </tr>\n",
       "  </thead>\n",
       "  <tbody>\n",
       "    <tr>\n",
       "      <th>17989</th>\n",
       "      <td>United Kingdom</td>\n",
       "      <td>4100.0</td>\n",
       "      <td>NaN</td>\n",
       "    </tr>\n",
       "    <tr>\n",
       "      <th>30207</th>\n",
       "      <td>United Kingdom</td>\n",
       "      <td>1500.0</td>\n",
       "      <td>NaN</td>\n",
       "    </tr>\n",
       "    <tr>\n",
       "      <th>39992</th>\n",
       "      <td>United Kingdom</td>\n",
       "      <td>34.0</td>\n",
       "      <td>NaN</td>\n",
       "    </tr>\n",
       "    <tr>\n",
       "      <th>43740</th>\n",
       "      <td>United Kingdom</td>\n",
       "      <td>7800.0</td>\n",
       "      <td>NaN</td>\n",
       "    </tr>\n",
       "    <tr>\n",
       "      <th>45504</th>\n",
       "      <td>United Kingdom</td>\n",
       "      <td>7800.0</td>\n",
       "      <td>NaN</td>\n",
       "    </tr>\n",
       "    <tr>\n",
       "      <th>51058</th>\n",
       "      <td>United Kingdom</td>\n",
       "      <td>3500.0</td>\n",
       "      <td>NaN</td>\n",
       "    </tr>\n",
       "    <tr>\n",
       "      <th>55613</th>\n",
       "      <td>United Kingdom</td>\n",
       "      <td>13500.0</td>\n",
       "      <td>NaN</td>\n",
       "    </tr>\n",
       "    <tr>\n",
       "      <th>60518</th>\n",
       "      <td>United Kingdom</td>\n",
       "      <td>100000.0</td>\n",
       "      <td>NaN</td>\n",
       "    </tr>\n",
       "    <tr>\n",
       "      <th>69365</th>\n",
       "      <td>United Kingdom</td>\n",
       "      <td>12000.0</td>\n",
       "      <td>NaN</td>\n",
       "    </tr>\n",
       "    <tr>\n",
       "      <th>73666</th>\n",
       "      <td>United Kingdom</td>\n",
       "      <td>2000.0</td>\n",
       "      <td>NaN</td>\n",
       "    </tr>\n",
       "    <tr>\n",
       "      <th>77515</th>\n",
       "      <td>United Kingdom</td>\n",
       "      <td>160.0</td>\n",
       "      <td>NaN</td>\n",
       "    </tr>\n",
       "    <tr>\n",
       "      <th>78402</th>\n",
       "      <td>United Kingdom</td>\n",
       "      <td>2600.0</td>\n",
       "      <td>NaN</td>\n",
       "    </tr>\n",
       "    <tr>\n",
       "      <th>80376</th>\n",
       "      <td>United Kingdom</td>\n",
       "      <td>37.0</td>\n",
       "      <td>NaN</td>\n",
       "    </tr>\n",
       "    <tr>\n",
       "      <th>87947</th>\n",
       "      <td>United Kingdom</td>\n",
       "      <td>10.0</td>\n",
       "      <td>NaN</td>\n",
       "    </tr>\n",
       "  </tbody>\n",
       "</table>\n",
       "</div>"
      ],
      "text/plain": [
       "              Country    Salary  ConvertedSalary\n",
       "17989  United Kingdom    4100.0              NaN\n",
       "30207  United Kingdom    1500.0              NaN\n",
       "39992  United Kingdom      34.0              NaN\n",
       "43740  United Kingdom    7800.0              NaN\n",
       "45504  United Kingdom    7800.0              NaN\n",
       "51058  United Kingdom    3500.0              NaN\n",
       "55613  United Kingdom   13500.0              NaN\n",
       "60518  United Kingdom  100000.0              NaN\n",
       "69365  United Kingdom   12000.0              NaN\n",
       "73666  United Kingdom    2000.0              NaN\n",
       "77515  United Kingdom     160.0              NaN\n",
       "78402  United Kingdom    2600.0              NaN\n",
       "80376  United Kingdom      37.0              NaN\n",
       "87947  United Kingdom      10.0              NaN"
      ]
     },
     "execution_count": 197,
     "metadata": {},
     "output_type": "execute_result"
    }
   ],
   "source": [
    "# FOR United Kingdom to USD*1.30 #\n",
    "salaries4.loc[(salaries4[\"Country\"]==\"United Kingdom\") & (salaries4[\"ConvertedSalary\"].isnull()),[\"Country\",\"Salary\",\"ConvertedSalary\"]]"
   ]
  },
  {
   "cell_type": "code",
   "execution_count": 198,
   "id": "360df3b5",
   "metadata": {},
   "outputs": [
    {
     "data": {
      "text/plain": [
       "17989   NaN\n",
       "30207   NaN\n",
       "39992   NaN\n",
       "43740   NaN\n",
       "45504   NaN\n",
       "51058   NaN\n",
       "55613   NaN\n",
       "60518   NaN\n",
       "69365   NaN\n",
       "73666   NaN\n",
       "77515   NaN\n",
       "78402   NaN\n",
       "80376   NaN\n",
       "87947   NaN\n",
       "Name: ConvertedSalary, dtype: float64"
      ]
     },
     "execution_count": 198,
     "metadata": {},
     "output_type": "execute_result"
    }
   ],
   "source": [
    "# Values need conversion #\n",
    "salaries4.loc[(salaries4[\"Country\"]==\"United Kingdom\") & (salaries4[\"ConvertedSalary\"].isnull()),\"ConvertedSalary\"]"
   ]
  },
  {
   "cell_type": "code",
   "execution_count": 199,
   "id": "9b0f321c",
   "metadata": {},
   "outputs": [
    {
     "data": {
      "text/plain": [
       "17989      5330.0\n",
       "30207      1950.0\n",
       "39992        44.2\n",
       "43740     10140.0\n",
       "45504     10140.0\n",
       "51058      4550.0\n",
       "55613     17550.0\n",
       "60518    130000.0\n",
       "69365     15600.0\n",
       "73666      2600.0\n",
       "77515       208.0\n",
       "78402      3380.0\n",
       "80376        48.1\n",
       "87947        13.0\n",
       "Name: Salary, dtype: float64"
      ]
     },
     "execution_count": 199,
     "metadata": {},
     "output_type": "execute_result"
    }
   ],
   "source": [
    "# conversion #\n",
    "salaries4.loc[(salaries4[\"Country\"]==\"United Kingdom\") & (salaries4[\"ConvertedSalary\"].isnull()),\"Salary\"]*1.30"
   ]
  },
  {
   "cell_type": "code",
   "execution_count": 200,
   "id": "23de622c",
   "metadata": {},
   "outputs": [
    {
     "name": "stderr",
     "output_type": "stream",
     "text": [
      "C:\\ProgramData\\Anaconda3\\lib\\site-packages\\pandas\\core\\indexing.py:1676: SettingWithCopyWarning: \n",
      "A value is trying to be set on a copy of a slice from a DataFrame.\n",
      "Try using .loc[row_indexer,col_indexer] = value instead\n",
      "\n",
      "See the caveats in the documentation: https://pandas.pydata.org/pandas-docs/stable/user_guide/indexing.html#returning-a-view-versus-a-copy\n",
      "  self._setitem_single_column(ilocs[0], value, pi)\n"
     ]
    }
   ],
   "source": [
    "# applicaton #\n",
    "salaries4.loc[\n",
    "    (salaries4[\"Country\"]==\"United Kingdom\") & (salaries4[\"ConvertedSalary\"].isnull()),\"ConvertedSalary\"\n",
    "] = salaries4.loc[(salaries4[\"Country\"]==\"United Kingdom\") & (salaries4[\"ConvertedSalary\"].isnull()),\"Salary\"]*1.30"
   ]
  },
  {
   "cell_type": "code",
   "execution_count": 201,
   "id": "3a25c614",
   "metadata": {},
   "outputs": [
    {
     "data": {
      "text/plain": [
       "Series([], Name: ConvertedSalary, dtype: float64)"
      ]
     },
     "execution_count": 201,
     "metadata": {},
     "output_type": "execute_result"
    }
   ],
   "source": [
    "salaries4.loc[\n",
    "    (salaries4[\"Country\"]==\"United Kingdom\") & (salaries4[\"ConvertedSalary\"].isnull()),\"ConvertedSalary\"\n",
    "]"
   ]
  },
  {
   "cell_type": "code",
   "execution_count": null,
   "id": "915f8933",
   "metadata": {},
   "outputs": [],
   "source": []
  },
  {
   "cell_type": "code",
   "execution_count": 202,
   "id": "b3dfbd15",
   "metadata": {},
   "outputs": [
    {
     "data": {
      "text/html": [
       "<div>\n",
       "<style scoped>\n",
       "    .dataframe tbody tr th:only-of-type {\n",
       "        vertical-align: middle;\n",
       "    }\n",
       "\n",
       "    .dataframe tbody tr th {\n",
       "        vertical-align: top;\n",
       "    }\n",
       "\n",
       "    .dataframe thead th {\n",
       "        text-align: right;\n",
       "    }\n",
       "</style>\n",
       "<table border=\"1\" class=\"dataframe\">\n",
       "  <thead>\n",
       "    <tr style=\"text-align: right;\">\n",
       "      <th></th>\n",
       "      <th>Country</th>\n",
       "      <th>Salary</th>\n",
       "      <th>ConvertedSalary</th>\n",
       "    </tr>\n",
       "  </thead>\n",
       "  <tbody>\n",
       "    <tr>\n",
       "      <th>1810</th>\n",
       "      <td>Canada</td>\n",
       "      <td>15000.0</td>\n",
       "      <td>NaN</td>\n",
       "    </tr>\n",
       "    <tr>\n",
       "      <th>4099</th>\n",
       "      <td>Canada</td>\n",
       "      <td>3600.0</td>\n",
       "      <td>NaN</td>\n",
       "    </tr>\n",
       "    <tr>\n",
       "      <th>12571</th>\n",
       "      <td>Canada</td>\n",
       "      <td>56.5</td>\n",
       "      <td>NaN</td>\n",
       "    </tr>\n",
       "    <tr>\n",
       "      <th>17607</th>\n",
       "      <td>Canada</td>\n",
       "      <td>21408.0</td>\n",
       "      <td>NaN</td>\n",
       "    </tr>\n",
       "    <tr>\n",
       "      <th>19398</th>\n",
       "      <td>Canada</td>\n",
       "      <td>16000.0</td>\n",
       "      <td>NaN</td>\n",
       "    </tr>\n",
       "    <tr>\n",
       "      <th>20113</th>\n",
       "      <td>Canada</td>\n",
       "      <td>17000.0</td>\n",
       "      <td>NaN</td>\n",
       "    </tr>\n",
       "    <tr>\n",
       "      <th>21724</th>\n",
       "      <td>Canada</td>\n",
       "      <td>15000.0</td>\n",
       "      <td>NaN</td>\n",
       "    </tr>\n",
       "    <tr>\n",
       "      <th>26160</th>\n",
       "      <td>Canada</td>\n",
       "      <td>1050.0</td>\n",
       "      <td>NaN</td>\n",
       "    </tr>\n",
       "    <tr>\n",
       "      <th>27928</th>\n",
       "      <td>Canada</td>\n",
       "      <td>24000.0</td>\n",
       "      <td>NaN</td>\n",
       "    </tr>\n",
       "    <tr>\n",
       "      <th>30970</th>\n",
       "      <td>Canada</td>\n",
       "      <td>110000.0</td>\n",
       "      <td>NaN</td>\n",
       "    </tr>\n",
       "    <tr>\n",
       "      <th>34816</th>\n",
       "      <td>Canada</td>\n",
       "      <td>70000.0</td>\n",
       "      <td>NaN</td>\n",
       "    </tr>\n",
       "    <tr>\n",
       "      <th>40782</th>\n",
       "      <td>Canada</td>\n",
       "      <td>42000.0</td>\n",
       "      <td>NaN</td>\n",
       "    </tr>\n",
       "    <tr>\n",
       "      <th>41736</th>\n",
       "      <td>Canada</td>\n",
       "      <td>4500.0</td>\n",
       "      <td>NaN</td>\n",
       "    </tr>\n",
       "    <tr>\n",
       "      <th>49820</th>\n",
       "      <td>Canada</td>\n",
       "      <td>1853.0</td>\n",
       "      <td>NaN</td>\n",
       "    </tr>\n",
       "    <tr>\n",
       "      <th>52501</th>\n",
       "      <td>Canada</td>\n",
       "      <td>92.0</td>\n",
       "      <td>NaN</td>\n",
       "    </tr>\n",
       "    <tr>\n",
       "      <th>53235</th>\n",
       "      <td>Canada</td>\n",
       "      <td>20000.0</td>\n",
       "      <td>NaN</td>\n",
       "    </tr>\n",
       "    <tr>\n",
       "      <th>54691</th>\n",
       "      <td>Canada</td>\n",
       "      <td>130.0</td>\n",
       "      <td>NaN</td>\n",
       "    </tr>\n",
       "    <tr>\n",
       "      <th>62674</th>\n",
       "      <td>Canada</td>\n",
       "      <td>760000.0</td>\n",
       "      <td>NaN</td>\n",
       "    </tr>\n",
       "    <tr>\n",
       "      <th>63702</th>\n",
       "      <td>Canada</td>\n",
       "      <td>61000.0</td>\n",
       "      <td>NaN</td>\n",
       "    </tr>\n",
       "    <tr>\n",
       "      <th>63857</th>\n",
       "      <td>Canada</td>\n",
       "      <td>50000.0</td>\n",
       "      <td>NaN</td>\n",
       "    </tr>\n",
       "    <tr>\n",
       "      <th>71859</th>\n",
       "      <td>Canada</td>\n",
       "      <td>8000.0</td>\n",
       "      <td>NaN</td>\n",
       "    </tr>\n",
       "    <tr>\n",
       "      <th>72242</th>\n",
       "      <td>Canada</td>\n",
       "      <td>12000.0</td>\n",
       "      <td>NaN</td>\n",
       "    </tr>\n",
       "    <tr>\n",
       "      <th>72879</th>\n",
       "      <td>Canada</td>\n",
       "      <td>1600.0</td>\n",
       "      <td>NaN</td>\n",
       "    </tr>\n",
       "    <tr>\n",
       "      <th>73421</th>\n",
       "      <td>Canada</td>\n",
       "      <td>2732.0</td>\n",
       "      <td>NaN</td>\n",
       "    </tr>\n",
       "    <tr>\n",
       "      <th>74755</th>\n",
       "      <td>Canada</td>\n",
       "      <td>133000.0</td>\n",
       "      <td>NaN</td>\n",
       "    </tr>\n",
       "    <tr>\n",
       "      <th>76259</th>\n",
       "      <td>Canada</td>\n",
       "      <td>20000.0</td>\n",
       "      <td>NaN</td>\n",
       "    </tr>\n",
       "    <tr>\n",
       "      <th>87399</th>\n",
       "      <td>Canada</td>\n",
       "      <td>1000.0</td>\n",
       "      <td>NaN</td>\n",
       "    </tr>\n",
       "    <tr>\n",
       "      <th>89695</th>\n",
       "      <td>Canada</td>\n",
       "      <td>7000.0</td>\n",
       "      <td>NaN</td>\n",
       "    </tr>\n",
       "  </tbody>\n",
       "</table>\n",
       "</div>"
      ],
      "text/plain": [
       "      Country    Salary  ConvertedSalary\n",
       "1810   Canada   15000.0              NaN\n",
       "4099   Canada    3600.0              NaN\n",
       "12571  Canada      56.5              NaN\n",
       "17607  Canada   21408.0              NaN\n",
       "19398  Canada   16000.0              NaN\n",
       "20113  Canada   17000.0              NaN\n",
       "21724  Canada   15000.0              NaN\n",
       "26160  Canada    1050.0              NaN\n",
       "27928  Canada   24000.0              NaN\n",
       "30970  Canada  110000.0              NaN\n",
       "34816  Canada   70000.0              NaN\n",
       "40782  Canada   42000.0              NaN\n",
       "41736  Canada    4500.0              NaN\n",
       "49820  Canada    1853.0              NaN\n",
       "52501  Canada      92.0              NaN\n",
       "53235  Canada   20000.0              NaN\n",
       "54691  Canada     130.0              NaN\n",
       "62674  Canada  760000.0              NaN\n",
       "63702  Canada   61000.0              NaN\n",
       "63857  Canada   50000.0              NaN\n",
       "71859  Canada    8000.0              NaN\n",
       "72242  Canada   12000.0              NaN\n",
       "72879  Canada    1600.0              NaN\n",
       "73421  Canada    2732.0              NaN\n",
       "74755  Canada  133000.0              NaN\n",
       "76259  Canada   20000.0              NaN\n",
       "87399  Canada    1000.0              NaN\n",
       "89695  Canada    7000.0              NaN"
      ]
     },
     "execution_count": 202,
     "metadata": {},
     "output_type": "execute_result"
    }
   ],
   "source": [
    "# for Canada to USD*0.77610 #\n",
    "salaries4.loc[(salaries4[\"Country\"]==\"Canada\") & (salaries4[\"ConvertedSalary\"].isnull()),[\"Country\",\"Salary\",\"ConvertedSalary\"]]"
   ]
  },
  {
   "cell_type": "code",
   "execution_count": 203,
   "id": "17081d2d",
   "metadata": {},
   "outputs": [
    {
     "data": {
      "text/plain": [
       "1810    NaN\n",
       "4099    NaN\n",
       "12571   NaN\n",
       "17607   NaN\n",
       "19398   NaN\n",
       "20113   NaN\n",
       "21724   NaN\n",
       "26160   NaN\n",
       "27928   NaN\n",
       "30970   NaN\n",
       "34816   NaN\n",
       "40782   NaN\n",
       "41736   NaN\n",
       "49820   NaN\n",
       "52501   NaN\n",
       "53235   NaN\n",
       "54691   NaN\n",
       "62674   NaN\n",
       "63702   NaN\n",
       "63857   NaN\n",
       "71859   NaN\n",
       "72242   NaN\n",
       "72879   NaN\n",
       "73421   NaN\n",
       "74755   NaN\n",
       "76259   NaN\n",
       "87399   NaN\n",
       "89695   NaN\n",
       "Name: ConvertedSalary, dtype: float64"
      ]
     },
     "execution_count": 203,
     "metadata": {},
     "output_type": "execute_result"
    }
   ],
   "source": [
    "# Values need conversion #\n",
    "salaries4.loc[(salaries4[\"Country\"]==\"Canada\") & (salaries4[\"ConvertedSalary\"].isnull()), \"ConvertedSalary\"]"
   ]
  },
  {
   "cell_type": "code",
   "execution_count": 204,
   "id": "4698c879",
   "metadata": {},
   "outputs": [
    {
     "data": {
      "text/plain": [
       "1810      11641.50000\n",
       "4099       2793.96000\n",
       "12571        43.84965\n",
       "17607     16614.74880\n",
       "19398     12417.60000\n",
       "20113     13193.70000\n",
       "21724     11641.50000\n",
       "26160       814.90500\n",
       "27928     18626.40000\n",
       "30970     85371.00000\n",
       "34816     54327.00000\n",
       "40782     32596.20000\n",
       "41736      3492.45000\n",
       "49820      1438.11330\n",
       "52501        71.40120\n",
       "53235     15522.00000\n",
       "54691       100.89300\n",
       "62674    589836.00000\n",
       "63702     47342.10000\n",
       "63857     38805.00000\n",
       "71859      6208.80000\n",
       "72242      9313.20000\n",
       "72879      1241.76000\n",
       "73421      2120.30520\n",
       "74755    103221.30000\n",
       "76259     15522.00000\n",
       "87399       776.10000\n",
       "89695      5432.70000\n",
       "Name: Salary, dtype: float64"
      ]
     },
     "execution_count": 204,
     "metadata": {},
     "output_type": "execute_result"
    }
   ],
   "source": [
    "# conversion #\n",
    "salaries4.loc[(salaries4[\"Country\"]==\"Canada\") & (salaries4[\"ConvertedSalary\"].isnull()), \"Salary\"]*0.77610"
   ]
  },
  {
   "cell_type": "code",
   "execution_count": 205,
   "id": "44c35d93",
   "metadata": {},
   "outputs": [
    {
     "name": "stderr",
     "output_type": "stream",
     "text": [
      "C:\\ProgramData\\Anaconda3\\lib\\site-packages\\pandas\\core\\indexing.py:1676: SettingWithCopyWarning: \n",
      "A value is trying to be set on a copy of a slice from a DataFrame.\n",
      "Try using .loc[row_indexer,col_indexer] = value instead\n",
      "\n",
      "See the caveats in the documentation: https://pandas.pydata.org/pandas-docs/stable/user_guide/indexing.html#returning-a-view-versus-a-copy\n",
      "  self._setitem_single_column(ilocs[0], value, pi)\n"
     ]
    }
   ],
   "source": [
    "# applicaton #\n",
    "salaries4.loc[\n",
    "    (salaries4[\"Country\"]==\"Canada\") & (salaries4[\"ConvertedSalary\"].isnull()), \"ConvertedSalary\"\n",
    "] = salaries4.loc[(salaries4[\"Country\"]==\"Canada\") & (salaries4[\"ConvertedSalary\"].isnull()), \"Salary\"]*0.77610"
   ]
  },
  {
   "cell_type": "code",
   "execution_count": 206,
   "id": "112e0e1f",
   "metadata": {},
   "outputs": [
    {
     "data": {
      "text/plain": [
       "Series([], Name: ConvertedSalary, dtype: float64)"
      ]
     },
     "execution_count": 206,
     "metadata": {},
     "output_type": "execute_result"
    }
   ],
   "source": [
    "salaries4.loc[\n",
    "    (salaries4[\"Country\"]==\"Canada\") & (salaries4[\"ConvertedSalary\"].isnull()), \"ConvertedSalary\"\n",
    "]"
   ]
  },
  {
   "cell_type": "code",
   "execution_count": 207,
   "id": "0642ebe6",
   "metadata": {},
   "outputs": [
    {
     "data": {
      "text/html": [
       "<div>\n",
       "<style scoped>\n",
       "    .dataframe tbody tr th:only-of-type {\n",
       "        vertical-align: middle;\n",
       "    }\n",
       "\n",
       "    .dataframe tbody tr th {\n",
       "        vertical-align: top;\n",
       "    }\n",
       "\n",
       "    .dataframe thead th {\n",
       "        text-align: right;\n",
       "    }\n",
       "</style>\n",
       "<table border=\"1\" class=\"dataframe\">\n",
       "  <thead>\n",
       "    <tr style=\"text-align: right;\">\n",
       "      <th></th>\n",
       "      <th>Country</th>\n",
       "      <th>Salary</th>\n",
       "      <th>ConvertedSalary</th>\n",
       "    </tr>\n",
       "  </thead>\n",
       "  <tbody>\n",
       "    <tr>\n",
       "      <th>7312</th>\n",
       "      <td>United States</td>\n",
       "      <td>1.0</td>\n",
       "      <td>NaN</td>\n",
       "    </tr>\n",
       "    <tr>\n",
       "      <th>7553</th>\n",
       "      <td>United States</td>\n",
       "      <td>5750.0</td>\n",
       "      <td>NaN</td>\n",
       "    </tr>\n",
       "    <tr>\n",
       "      <th>10262</th>\n",
       "      <td>United States</td>\n",
       "      <td>115.0</td>\n",
       "      <td>NaN</td>\n",
       "    </tr>\n",
       "    <tr>\n",
       "      <th>12695</th>\n",
       "      <td>United States</td>\n",
       "      <td>13000.0</td>\n",
       "      <td>NaN</td>\n",
       "    </tr>\n",
       "    <tr>\n",
       "      <th>14362</th>\n",
       "      <td>United States</td>\n",
       "      <td>20000.0</td>\n",
       "      <td>NaN</td>\n",
       "    </tr>\n",
       "    <tr>\n",
       "      <th>...</th>\n",
       "      <td>...</td>\n",
       "      <td>...</td>\n",
       "      <td>...</td>\n",
       "    </tr>\n",
       "    <tr>\n",
       "      <th>85199</th>\n",
       "      <td>United States</td>\n",
       "      <td>300.0</td>\n",
       "      <td>NaN</td>\n",
       "    </tr>\n",
       "    <tr>\n",
       "      <th>87859</th>\n",
       "      <td>United States</td>\n",
       "      <td>6000.0</td>\n",
       "      <td>NaN</td>\n",
       "    </tr>\n",
       "    <tr>\n",
       "      <th>88872</th>\n",
       "      <td>United States</td>\n",
       "      <td>20000.0</td>\n",
       "      <td>NaN</td>\n",
       "    </tr>\n",
       "    <tr>\n",
       "      <th>89413</th>\n",
       "      <td>United States</td>\n",
       "      <td>1000.0</td>\n",
       "      <td>NaN</td>\n",
       "    </tr>\n",
       "    <tr>\n",
       "      <th>89623</th>\n",
       "      <td>United States</td>\n",
       "      <td>4000.0</td>\n",
       "      <td>NaN</td>\n",
       "    </tr>\n",
       "  </tbody>\n",
       "</table>\n",
       "<p>62 rows × 3 columns</p>\n",
       "</div>"
      ],
      "text/plain": [
       "             Country   Salary  ConvertedSalary\n",
       "7312   United States      1.0              NaN\n",
       "7553   United States   5750.0              NaN\n",
       "10262  United States    115.0              NaN\n",
       "12695  United States  13000.0              NaN\n",
       "14362  United States  20000.0              NaN\n",
       "...              ...      ...              ...\n",
       "85199  United States    300.0              NaN\n",
       "87859  United States   6000.0              NaN\n",
       "88872  United States  20000.0              NaN\n",
       "89413  United States   1000.0              NaN\n",
       "89623  United States   4000.0              NaN\n",
       "\n",
       "[62 rows x 3 columns]"
      ]
     },
     "execution_count": 207,
     "metadata": {},
     "output_type": "execute_result"
    }
   ],
   "source": [
    "# Show remaining null values in converted col #\n",
    "salaries4.loc[salaries4[\"ConvertedSalary\"].isnull(), [\"Country\",\"Salary\",\"ConvertedSalary\"]]"
   ]
  },
  {
   "cell_type": "code",
   "execution_count": 208,
   "id": "b9d4d8bc",
   "metadata": {},
   "outputs": [
    {
     "data": {
      "text/plain": [
       "Country      \n",
       "United States    62\n",
       "dtype: int64"
      ]
     },
     "execution_count": 208,
     "metadata": {},
     "output_type": "execute_result"
    }
   ],
   "source": [
    "# show countries with null values #\n",
    "salaries4.loc[salaries4[\"ConvertedSalary\"].isnull(),[\"Country\"]].value_counts()"
   ]
  },
  {
   "cell_type": "code",
   "execution_count": 209,
   "id": "f29450e3",
   "metadata": {},
   "outputs": [
    {
     "name": "stderr",
     "output_type": "stream",
     "text": [
      "C:\\ProgramData\\Anaconda3\\lib\\site-packages\\pandas\\core\\indexing.py:1676: SettingWithCopyWarning: \n",
      "A value is trying to be set on a copy of a slice from a DataFrame.\n",
      "Try using .loc[row_indexer,col_indexer] = value instead\n",
      "\n",
      "See the caveats in the documentation: https://pandas.pydata.org/pandas-docs/stable/user_guide/indexing.html#returning-a-view-versus-a-copy\n",
      "  self._setitem_single_column(ilocs[0], value, pi)\n"
     ]
    }
   ],
   "source": [
    "# For USA #\n",
    "salaries4.loc[salaries4[\"ConvertedSalary\"].isnull(),\"ConvertedSalary\"] = salaries4.loc[salaries4[\"ConvertedSalary\"].isnull(),\"Salary\"]"
   ]
  },
  {
   "cell_type": "code",
   "execution_count": 210,
   "id": "12ff23d8",
   "metadata": {},
   "outputs": [
    {
     "data": {
      "text/html": [
       "<div>\n",
       "<style scoped>\n",
       "    .dataframe tbody tr th:only-of-type {\n",
       "        vertical-align: middle;\n",
       "    }\n",
       "\n",
       "    .dataframe tbody tr th {\n",
       "        vertical-align: top;\n",
       "    }\n",
       "\n",
       "    .dataframe thead th {\n",
       "        text-align: right;\n",
       "    }\n",
       "</style>\n",
       "<table border=\"1\" class=\"dataframe\">\n",
       "  <thead>\n",
       "    <tr style=\"text-align: right;\">\n",
       "      <th></th>\n",
       "      <th>Salary</th>\n",
       "      <th>ConvertedSalary</th>\n",
       "    </tr>\n",
       "  </thead>\n",
       "  <tbody>\n",
       "  </tbody>\n",
       "</table>\n",
       "</div>"
      ],
      "text/plain": [
       "Empty DataFrame\n",
       "Columns: [Salary, ConvertedSalary]\n",
       "Index: []"
      ]
     },
     "execution_count": 210,
     "metadata": {},
     "output_type": "execute_result"
    }
   ],
   "source": [
    "salaries4.loc[salaries4[\"ConvertedSalary\"].isnull(),[\"Salary\",\"ConvertedSalary\"]]"
   ]
  },
  {
   "cell_type": "code",
   "execution_count": 211,
   "id": "887bdbe6",
   "metadata": {},
   "outputs": [
    {
     "name": "stdout",
     "output_type": "stream",
     "text": [
      "<class 'pandas.core.frame.DataFrame'>\n",
      "Int64Index: 26085 entries, 1 to 89965\n",
      "Data columns (total 11 columns):\n",
      " #   Column               Non-Null Count  Dtype  \n",
      "---  ------               --------------  -----  \n",
      " 0   Country              26085 non-null  object \n",
      " 1   Employment           26085 non-null  object \n",
      " 2   FormalEducation      26085 non-null  object \n",
      " 3   DevType              26085 non-null  object \n",
      " 4   YearsCodingProf      26085 non-null  int64  \n",
      " 5   EducationTypes       26085 non-null  object \n",
      " 6   LanguageWorkedWith   25506 non-null  object \n",
      " 7   FrameworkWorkedWith  17971 non-null  object \n",
      " 8   Age                  26085 non-null  object \n",
      " 9   Salary               26085 non-null  float64\n",
      " 10  ConvertedSalary      26085 non-null  float64\n",
      "dtypes: float64(2), int64(1), object(8)\n",
      "memory usage: 3.4+ MB\n"
     ]
    }
   ],
   "source": [
    "salaries4.info()"
   ]
  },
  {
   "cell_type": "markdown",
   "id": "1ee47175",
   "metadata": {},
   "source": [
    "**LanguageWorkedWith**"
   ]
  },
  {
   "cell_type": "code",
   "execution_count": 213,
   "id": "59cf2206",
   "metadata": {},
   "outputs": [
    {
     "data": {
      "text/plain": [
       "array(['JavaScript;Python;Bash/Shell',\n",
       "       'Java;JavaScript;Python;TypeScript;HTML;CSS',\n",
       "       'JavaScript;HTML;CSS', ..., 'C;C++;HTML;CSS', 'C++;Java;VB.NET',\n",
       "       'Assembly;C;C++;Java;Python;Scala;Ocaml'], dtype=object)"
      ]
     },
     "execution_count": 213,
     "metadata": {},
     "output_type": "execute_result"
    }
   ],
   "source": [
    "salaries4[\"LanguageWorkedWith\"].unique()"
   ]
  },
  {
   "cell_type": "code",
   "execution_count": 214,
   "id": "60d9e7a8",
   "metadata": {},
   "outputs": [
    {
     "data": {
      "text/plain": [
       "C#;JavaScript;SQL;HTML;CSS                                                        541\n",
       "C#;JavaScript;SQL;TypeScript;HTML;CSS                                             338\n",
       "JavaScript;PHP;SQL;HTML;CSS                                                       337\n",
       "JavaScript;PHP;SQL;HTML;CSS;Bash/Shell                                            287\n",
       "JavaScript;HTML;CSS                                                               264\n",
       "                                                                                 ... \n",
       "Groovy;Java;Ruby;SQL                                                                1\n",
       "C++;Java;JavaScript;PHP;SQL;Swift;TypeScript;Kotlin;HTML;CSS                        1\n",
       "C#;Java;JavaScript;Objective-C;PHP;Python;SQL;Swift;Kotlin;Bash/Shell               1\n",
       "Java;JavaScript;Objective-C;Python;R;Ruby;Swift;TypeScript;HTML;CSS;Bash/Shell      1\n",
       "C++;Lua;Objective-C                                                                 1\n",
       "Name: LanguageWorkedWith, Length: 11173, dtype: int64"
      ]
     },
     "execution_count": 214,
     "metadata": {},
     "output_type": "execute_result"
    }
   ],
   "source": [
    "salaries4[\"LanguageWorkedWith\"].value_counts()"
   ]
  },
  {
   "cell_type": "code",
   "execution_count": 219,
   "id": "bcc30dd5",
   "metadata": {},
   "outputs": [
    {
     "data": {
      "text/plain": [
       "1        JavaScript\n",
       "5              Java\n",
       "6        JavaScript\n",
       "8          Assembly\n",
       "22               C#\n",
       "            ...    \n",
       "89904             C\n",
       "89911           C++\n",
       "89928    JavaScript\n",
       "89932      Assembly\n",
       "89965             C\n",
       "Name: LanguageWorkedWith, Length: 26085, dtype: object"
      ]
     },
     "execution_count": 219,
     "metadata": {},
     "output_type": "execute_result"
    }
   ],
   "source": [
    "salaries4[\"LanguageWorkedWith\"].str.split(\";\").str[0]"
   ]
  },
  {
   "cell_type": "code",
   "execution_count": 223,
   "id": "9a04e3ed",
   "metadata": {},
   "outputs": [
    {
     "data": {
      "text/plain": [
       "202      NaN\n",
       "314      NaN\n",
       "425      NaN\n",
       "443      NaN\n",
       "448      NaN\n",
       "        ... \n",
       "88521    NaN\n",
       "88645    NaN\n",
       "88705    NaN\n",
       "88945    NaN\n",
       "89758    NaN\n",
       "Name: LanguageWorkedWith, Length: 579, dtype: object"
      ]
     },
     "execution_count": 223,
     "metadata": {},
     "output_type": "execute_result"
    }
   ],
   "source": [
    "salaries4.loc[salaries4[\"LanguageWorkedWith\"].isnull(),\"LanguageWorkedWith\"]"
   ]
  },
  {
   "cell_type": "code",
   "execution_count": 224,
   "id": "35b99952",
   "metadata": {},
   "outputs": [],
   "source": [
    "sal6 = salaries4.copy()"
   ]
  },
  {
   "cell_type": "code",
   "execution_count": 225,
   "id": "ba5bb2ad",
   "metadata": {},
   "outputs": [
    {
     "name": "stdout",
     "output_type": "stream",
     "text": [
      "<class 'pandas.core.frame.DataFrame'>\n",
      "Int64Index: 26085 entries, 1 to 89965\n",
      "Data columns (total 11 columns):\n",
      " #   Column               Non-Null Count  Dtype  \n",
      "---  ------               --------------  -----  \n",
      " 0   Country              26085 non-null  object \n",
      " 1   Employment           26085 non-null  object \n",
      " 2   FormalEducation      26085 non-null  object \n",
      " 3   DevType              26085 non-null  object \n",
      " 4   YearsCodingProf      26085 non-null  int64  \n",
      " 5   EducationTypes       26085 non-null  object \n",
      " 6   LanguageWorkedWith   25506 non-null  object \n",
      " 7   FrameworkWorkedWith  17971 non-null  object \n",
      " 8   Age                  26085 non-null  object \n",
      " 9   Salary               26085 non-null  float64\n",
      " 10  ConvertedSalary      26085 non-null  float64\n",
      "dtypes: float64(2), int64(1), object(8)\n",
      "memory usage: 3.4+ MB\n"
     ]
    }
   ],
   "source": [
    "sal6.info()"
   ]
  },
  {
   "cell_type": "code",
   "execution_count": 227,
   "id": "3cfc1985",
   "metadata": {},
   "outputs": [],
   "source": [
    "sal6[\"LanguageWorkedWithFirst\"] = sal6[\"LanguageWorkedWith\"].str.split(\";\").str[0]"
   ]
  },
  {
   "cell_type": "code",
   "execution_count": 228,
   "id": "9d70e6d0",
   "metadata": {},
   "outputs": [
    {
     "data": {
      "text/html": [
       "<div>\n",
       "<style scoped>\n",
       "    .dataframe tbody tr th:only-of-type {\n",
       "        vertical-align: middle;\n",
       "    }\n",
       "\n",
       "    .dataframe tbody tr th {\n",
       "        vertical-align: top;\n",
       "    }\n",
       "\n",
       "    .dataframe thead th {\n",
       "        text-align: right;\n",
       "    }\n",
       "</style>\n",
       "<table border=\"1\" class=\"dataframe\">\n",
       "  <thead>\n",
       "    <tr style=\"text-align: right;\">\n",
       "      <th></th>\n",
       "      <th>Country</th>\n",
       "      <th>Employment</th>\n",
       "      <th>FormalEducation</th>\n",
       "      <th>DevType</th>\n",
       "      <th>YearsCodingProf</th>\n",
       "      <th>EducationTypes</th>\n",
       "      <th>LanguageWorkedWith</th>\n",
       "      <th>FrameworkWorkedWith</th>\n",
       "      <th>Age</th>\n",
       "      <th>Salary</th>\n",
       "      <th>ConvertedSalary</th>\n",
       "      <th>LanguageWorkedWithFirst</th>\n",
       "    </tr>\n",
       "  </thead>\n",
       "  <tbody>\n",
       "    <tr>\n",
       "      <th>1</th>\n",
       "      <td>United Kingdom</td>\n",
       "      <td>Employed full-time</td>\n",
       "      <td>Medium</td>\n",
       "      <td>Database administrator</td>\n",
       "      <td>19</td>\n",
       "      <td>Taught yourself a new language, framework, or ...</td>\n",
       "      <td>JavaScript;Python;Bash/Shell</td>\n",
       "      <td>Django</td>\n",
       "      <td>40</td>\n",
       "      <td>51000.0</td>\n",
       "      <td>70841.0</td>\n",
       "      <td>JavaScript</td>\n",
       "    </tr>\n",
       "    <tr>\n",
       "      <th>5</th>\n",
       "      <td>United Kingdom</td>\n",
       "      <td>Employed full-time</td>\n",
       "      <td>Medium</td>\n",
       "      <td>Back-end developer</td>\n",
       "      <td>5</td>\n",
       "      <td>Received on-the-job training in software devel...</td>\n",
       "      <td>Java;JavaScript;Python;TypeScript;HTML;CSS</td>\n",
       "      <td>Angular;Node.js</td>\n",
       "      <td>21</td>\n",
       "      <td>30000.0</td>\n",
       "      <td>41671.0</td>\n",
       "      <td>Java</td>\n",
       "    </tr>\n",
       "    <tr>\n",
       "      <th>6</th>\n",
       "      <td>United States</td>\n",
       "      <td>Employed full-time</td>\n",
       "      <td>Medium</td>\n",
       "      <td>Back-end developer</td>\n",
       "      <td>1</td>\n",
       "      <td>Received on-the-job training in software devel...</td>\n",
       "      <td>JavaScript;HTML;CSS</td>\n",
       "      <td>Node.js;React</td>\n",
       "      <td>21</td>\n",
       "      <td>120000.0</td>\n",
       "      <td>120000.0</td>\n",
       "      <td>JavaScript</td>\n",
       "    </tr>\n",
       "    <tr>\n",
       "      <th>8</th>\n",
       "      <td>United States</td>\n",
       "      <td>Employed full-time</td>\n",
       "      <td>Medium</td>\n",
       "      <td>Back-end developer</td>\n",
       "      <td>22</td>\n",
       "      <td>Taken an online course in programming or softw...</td>\n",
       "      <td>Assembly;CoffeeScript;Erlang;Go;JavaScript;Lua...</td>\n",
       "      <td>Hadoop;Node.js;React;Spark</td>\n",
       "      <td>40</td>\n",
       "      <td>250000.0</td>\n",
       "      <td>250000.0</td>\n",
       "      <td>Assembly</td>\n",
       "    </tr>\n",
       "    <tr>\n",
       "      <th>22</th>\n",
       "      <td>United Kingdom</td>\n",
       "      <td>Employed full-time</td>\n",
       "      <td>Medium</td>\n",
       "      <td>Back-end developer</td>\n",
       "      <td>7</td>\n",
       "      <td>Taught yourself a new language, framework, or ...</td>\n",
       "      <td>C#;JavaScript;PHP;SQL;HTML;CSS</td>\n",
       "      <td>.NET Core</td>\n",
       "      <td>30</td>\n",
       "      <td>25.0</td>\n",
       "      <td>420.0</td>\n",
       "      <td>C#</td>\n",
       "    </tr>\n",
       "  </tbody>\n",
       "</table>\n",
       "</div>"
      ],
      "text/plain": [
       "           Country          Employment FormalEducation  \\\n",
       "1   United Kingdom  Employed full-time          Medium   \n",
       "5   United Kingdom  Employed full-time          Medium   \n",
       "6    United States  Employed full-time          Medium   \n",
       "8    United States  Employed full-time          Medium   \n",
       "22  United Kingdom  Employed full-time          Medium   \n",
       "\n",
       "                   DevType  YearsCodingProf  \\\n",
       "1   Database administrator               19   \n",
       "5       Back-end developer                5   \n",
       "6       Back-end developer                1   \n",
       "8       Back-end developer               22   \n",
       "22      Back-end developer                7   \n",
       "\n",
       "                                       EducationTypes  \\\n",
       "1   Taught yourself a new language, framework, or ...   \n",
       "5   Received on-the-job training in software devel...   \n",
       "6   Received on-the-job training in software devel...   \n",
       "8   Taken an online course in programming or softw...   \n",
       "22  Taught yourself a new language, framework, or ...   \n",
       "\n",
       "                                   LanguageWorkedWith  \\\n",
       "1                        JavaScript;Python;Bash/Shell   \n",
       "5          Java;JavaScript;Python;TypeScript;HTML;CSS   \n",
       "6                                 JavaScript;HTML;CSS   \n",
       "8   Assembly;CoffeeScript;Erlang;Go;JavaScript;Lua...   \n",
       "22                     C#;JavaScript;PHP;SQL;HTML;CSS   \n",
       "\n",
       "           FrameworkWorkedWith Age    Salary  ConvertedSalary  \\\n",
       "1                       Django  40   51000.0          70841.0   \n",
       "5              Angular;Node.js  21   30000.0          41671.0   \n",
       "6                Node.js;React  21  120000.0         120000.0   \n",
       "8   Hadoop;Node.js;React;Spark  40  250000.0         250000.0   \n",
       "22                   .NET Core  30      25.0            420.0   \n",
       "\n",
       "   LanguageWorkedWithFirst  \n",
       "1               JavaScript  \n",
       "5                     Java  \n",
       "6               JavaScript  \n",
       "8                 Assembly  \n",
       "22                      C#  "
      ]
     },
     "execution_count": 228,
     "metadata": {},
     "output_type": "execute_result"
    }
   ],
   "source": [
    "sal6.head()"
   ]
  },
  {
   "cell_type": "code",
   "execution_count": null,
   "id": "87871a04",
   "metadata": {},
   "outputs": [],
   "source": [
    "# FOR NOW WE ARE NOT INCLUDING \"LanguageWorkedWith\" AND \"FrameworkWorkedWith\" IN THE DATAFRAME #"
   ]
  },
  {
   "cell_type": "code",
   "execution_count": 229,
   "id": "1b959a26",
   "metadata": {},
   "outputs": [
    {
     "name": "stdout",
     "output_type": "stream",
     "text": [
      "<class 'pandas.core.frame.DataFrame'>\n",
      "Int64Index: 26085 entries, 1 to 89965\n",
      "Data columns (total 11 columns):\n",
      " #   Column               Non-Null Count  Dtype  \n",
      "---  ------               --------------  -----  \n",
      " 0   Country              26085 non-null  object \n",
      " 1   Employment           26085 non-null  object \n",
      " 2   FormalEducation      26085 non-null  object \n",
      " 3   DevType              26085 non-null  object \n",
      " 4   YearsCodingProf      26085 non-null  int64  \n",
      " 5   EducationTypes       26085 non-null  object \n",
      " 6   LanguageWorkedWith   25506 non-null  object \n",
      " 7   FrameworkWorkedWith  17971 non-null  object \n",
      " 8   Age                  26085 non-null  object \n",
      " 9   Salary               26085 non-null  float64\n",
      " 10  ConvertedSalary      26085 non-null  float64\n",
      "dtypes: float64(2), int64(1), object(8)\n",
      "memory usage: 3.4+ MB\n"
     ]
    }
   ],
   "source": [
    "salaries4.info()"
   ]
  },
  {
   "cell_type": "code",
   "execution_count": 232,
   "id": "9fc1ae7f",
   "metadata": {},
   "outputs": [
    {
     "data": {
      "text/plain": [
       "Index(['Country', 'Employment', 'FormalEducation', 'DevType',\n",
       "       'YearsCodingProf', 'EducationTypes', 'LanguageWorkedWith',\n",
       "       'FrameworkWorkedWith', 'Age', 'Salary', 'ConvertedSalary'],\n",
       "      dtype='object')"
      ]
     },
     "execution_count": 232,
     "metadata": {},
     "output_type": "execute_result"
    }
   ],
   "source": [
    "salaries4.columns"
   ]
  },
  {
   "cell_type": "code",
   "execution_count": 234,
   "id": "763bbfcd",
   "metadata": {},
   "outputs": [],
   "source": [
    "salariesdf = salaries4[['Country', 'Employment', 'FormalEducation', 'DevType','YearsCodingProf', 'EducationTypes', 'Age', 'Salary', 'ConvertedSalary']]"
   ]
  },
  {
   "cell_type": "code",
   "execution_count": 240,
   "id": "ed159e06",
   "metadata": {},
   "outputs": [],
   "source": [
    "salariesdf.to_csv(\"FinalSalaries.csv\",index=False)"
   ]
  },
  {
   "cell_type": "code",
   "execution_count": null,
   "id": "3d3cf1ed",
   "metadata": {},
   "outputs": [],
   "source": []
  }
 ],
 "metadata": {
  "kernelspec": {
   "display_name": "Python 3",
   "language": "python",
   "name": "python3"
  },
  "language_info": {
   "codemirror_mode": {
    "name": "ipython",
    "version": 3
   },
   "file_extension": ".py",
   "mimetype": "text/x-python",
   "name": "python",
   "nbconvert_exporter": "python",
   "pygments_lexer": "ipython3",
   "version": "3.8.8"
  }
 },
 "nbformat": 4,
 "nbformat_minor": 5
}
